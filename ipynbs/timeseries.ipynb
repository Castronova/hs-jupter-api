{
 "cells": [
  {
   "cell_type": "markdown",
   "metadata": {
    "collapsed": true
   },
   "source": [
    "### Welcome to the Jupyter Python Notebook for TimeSeries Resources"
   ]
  },
  {
   "cell_type": "markdown",
   "metadata": {
    "collapsed": false
   },
   "source": [
    "You have been redirected to this page because it was detected that you wish to operate on a HydroShare TimeSeries resource.  This Python notebook has been launched inside your very own userspace on jupytercentos.bluezone.usu.edu. \n",
    "\n",
    "\n",
    "This document outlines the features that Jupyter has to offer for the analysis of HydroShare Time Series resources.  Below you will find links to several notebooks that have been provided as a reference to you.  Please note however, that you will need to explicitly save all resource and ipynb changes using `hs_utilities` functions, otherwise modifications may be lost.\n",
    "\n",
    "\n",
    "### Terminal Commands\n",
    "Any terminal commands that you have access to, can executed by prepending the command with and exclamation point (`!`).  For example, issue the following command to list the path to the current working directory `!pwd`.\n",
    "\n",
    "\n",
    "### HydroShare Commands\n",
    "You can interact with HydroShare resources using REST web service calls.  To help you issue these REST commands, the `hs_restclient` library ([readthedocs](http://hs-restclient.readthedocs.org/en/latest/) is installed on the system and is available for you to use.  In addition, a utility library has been provided to you, `hs_utilities`, which bundles some of useful commands into easy-to-use functions.\n",
    "\n",
    "### Help Documentation\n",
    "Help for any python library installed on the system can be obtained by issuing the `help` command.  For example, to see the documentation for the hs_utilites library, execute `help(hs_utilities)`.\n",
    "\n",
    "### Examples\n",
    "Below is a short list of examples for you to look at. \n",
    "\n",
    "* [Trapezoid Rule](./trapezoid_rule.ipynb) notebook provides an example of basic notebook usage\n"
   ]
  },
  {
   "cell_type": "code",
   "execution_count": null,
   "metadata": {
    "collapsed": true
   },
   "outputs": [],
   "source": [
    "# importing some common libraries\n",
    "%matplotlib inline\n",
    "import os\n",
    "import sys\n",
    "import numpy\n",
    "import matplotlib\n",
    "import hs_utils"
   ]
  },
  {
   "cell_type": "code",
   "execution_count": null,
   "metadata": {
    "collapsed": false
   },
   "outputs": [],
   "source": [
    "#  list all of the modules that are installed on the system\n",
    "help('modules')"
   ]
  },
  {
   "cell_type": "code",
   "execution_count": null,
   "metadata": {
    "collapsed": true
   },
   "outputs": [],
   "source": [
    "# connect to hydroshare\n",
    "hs = hs_utils.getSecureConnection(INSERT_USERNAME)"
   ]
  },
  {
   "cell_type": "code",
   "execution_count": null,
   "metadata": {
    "collapsed": false
   },
   "outputs": [],
   "source": [
    "help(hs_utils)"
   ]
  },
  {
   "cell_type": "code",
   "execution_count": null,
   "metadata": {
    "collapsed": true
   },
   "outputs": [],
   "source": [
    "# get HydroShare resource content\n",
    "hs_utils.getResourceContent(hs, INSERT_RESID)"
   ]
  }
 ],
 "metadata": {
  "kernelspec": {
   "display_name": "Python 2",
   "language": "python",
   "name": "python2"
  },
  "language_info": {
   "codemirror_mode": {
    "name": "ipython",
    "version": 2
   },
   "file_extension": ".py",
   "mimetype": "text/x-python",
   "name": "python",
   "nbconvert_exporter": "python",
   "pygments_lexer": "ipython2",
   "version": "2.7.11"
  }
 },
 "nbformat": 4,
 "nbformat_minor": 0
}
