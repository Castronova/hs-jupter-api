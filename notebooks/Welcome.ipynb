{
 "cells": [
  {
   "cell_type": "markdown",
   "metadata": {},
   "source": [
    "## Welcome to the HydroShare Python Notebook Server   \n",
    "\n",
    "You have arrived at the HydroShare Python Notebook Server landing page. \n",
    "This Jupyter environment provides web-based programming and model execution functionality for HydroShare users. It has been configured with many scientific libraries, tools, and models to enable easy manipulation of HydroShare data using the Python programming language.\n",
    "\n",
    "Jupyter notebooks enable scientists to explore, modify, and interact with data inside a remote execution environment by using the Python programming language.  A **Jupyter notebook** is an enhanced computational environment that combines rich text and code execution into a single script-like container. The HydroShare Python Notebook Server aims to combine this standard notebook functionality with the HydroShare data hosting platform to provide a rich computational environment for water scientists.\n",
    "\n",
    "\n",
    "The following example notebooks illustrate the functionality of this web application.\n",
    "\n",
    "* [Raster Processing using TauDEM](help/taudem.ipynb)\n",
    "\n",
    "* [LandLab Landslide Calculations](help/landslide_driver.ipynb)\n",
    "\n",
    "* [Basic Time Series Analysis - GenericResource](help/timeseries.ipynb)\n",
    "\n",
    "* [Basic Time Series Analysis - TimeSeriesResource](help/timeseries_odm2.ipynb)\n",
    "\n",
    "* [RHESSys Modeling](help/rhessys.ipynb)\n"
   ]
  },
  {
   "cell_type": "markdown",
   "metadata": {},
   "source": [
    "---\n",
    "\n",
    "# A Brief Introduction\n",
    "\n",
    "This notebook demonstrates how to get started using JupyterHub and is divided into the following sections:\n",
    "\n",
    "1. [How to connect with HydroShare](#section1)\n",
    "\n",
    "  This section walks you through the process of connecting to HydroShare via its REST interface.  You will be asked to provide your HydroShare credentials to establish a secure connection that enables access to resources in HydroShare. \n",
    "  <br><br>\n",
    "  \n",
    "2. [Querying and downloading HydroShare resources](#section2)\n",
    "\n",
    "  Retrieve the contents of a HydroShare resource into your personal workspace on the JupyterHub server using the `hydroshare` library. Resource content files are accessible to notebooks, libraries, and models that run inside the JupyterHub web environment.  \n",
    "  <br>\n",
    "  \n",
    "3. [Extending the notebook](#section3)\n",
    "\n",
    "  This section gets you started creating and customizing notebooks.  You can perform any operations that the JupyterHub evironment supports.  Commands may be executed from this notebook, or from a separate notebook. \n",
    "  <br><br>\n",
    "  \n",
    "4. [Creating new HydroShare resources from JupyterHub content](#section4)\n",
    "\n",
    "  It's often convenient to use a notebook retrieved from HydroShare, and at the end of your session, save your work back to HydroShare. This section guides you through the process of saving your work back to HydroShare, where you may further change metadata and/or share it with other HydroShare users. \n",
    "  <br><br>"
   ]
  },
  {
   "attachments": {},
   "cell_type": "markdown",
   "metadata": {},
   "source": [
    "<a id='section1'></a>\n",
    "### 1. How to connect with HydroShare \n",
    "To interact with HydroShare, import the `hydroshare` utility library so that you can query resources using the REST API.  You will be prompted for your HydroShare login credentials, which are necessary to establish a secure connection with your account.  \n",
    "\n",
    "While establishing this connection, several environment variables will also be loaded into memory to make data access easier (e.g. `HS_USR_NAME`, `HS_RES_ID`, `HS_RES_TYPE`).  You can use these variables in your notebooks via the `os.environ` function.\n",
    "\n",
    "Execute the following cell by pressing `Shift-Enter`, or by pressing the play button on the toolbar.\n",
    "\n",
    "<div style=\"float:left;margin:10px 10px 10px 0\" markdown=\"1\">\n",
    "![JupyterToolbar](http://i.imgur.com/ISSGS4J.png)\n",
    "</div>\n",
    "<br style=\"clear:both\" />"
   ]
  },
  {
   "cell_type": "code",
   "execution_count": null,
   "metadata": {
    "scrolled": true
   },
   "outputs": [],
   "source": [
    "import os\n",
    "from utilities import hydroshare\n",
    "hs = hydroshare.hydroshare()"
   ]
  },
  {
   "cell_type": "markdown",
   "metadata": {},
   "source": [
    "To learn more about the **hydroshare** library execute the following command:  \n",
    "```\n",
    "help(hs)\n",
    "```"
   ]
  },
  {
   "cell_type": "markdown",
   "metadata": {},
   "source": [
    "<a id='section2'></a>\n",
    "### 2. Querying and downloading HydroShare resources\n",
    "\n",
    "Now that we have a secure connection with HydroShare, the **hydroshare** library can be used to download resource content onto the notebook server.  Once this content is downloaded, you will be provided with a Python dictionary containing each resource file and its location on the server.  This dictionary, **hs.content**, is designed to make data access as seamless as possible.  \n",
    "\n",
    "You can also explore content using the directory interface by clicking on the Jupyter logo in the top left corner of this page. The directory interface also enables you to create new files, notebooks (Python versions 2 and 3), and bash terminals.  Lastly, the **notebooks/data** directory is a good place to save your data to ensure that they are not overwritten during system upgrades. \n",
    "\n",
    "![JupyterDir](http://i.imgur.com/05gPV52.png)\n"
   ]
  },
  {
   "cell_type": "code",
   "execution_count": null,
   "metadata": {},
   "outputs": [],
   "source": [
    "# get resource content.  Returns a dictionary of filenames and their paths \n",
    "content = hs.getResourceFromHydroShare(os.environ['HS_RES_ID'])"
   ]
  },
  {
   "cell_type": "markdown",
   "metadata": {},
   "source": [
    "<a id='section3'></a>\n",
    "### 3. Extending the notebook\n",
    "\n",
    "Now that the HydroShare content has been downloaded into the notebook server, it can be used for custom data processing routines.  The output from the command above lists all of the files that were found inside the resource.  To get the path for one of these files, simply issue the command `hs.content[\"MY_FILE\"]`, where `MY_FILE` is the name of your file.  Python notebooks that exist within the resource are displayed as hyperlinks which, when selected, will launch the notebook in a new browser window.\n",
    "\n",
    "HydroShare resource files are stored quite deep in a folder path following the pattern `data/<GUID>/<GUID>/data/contents/<files>`.  As a result, utility functions have been provided to help you navigate these data. "
   ]
  },
  {
   "cell_type": "code",
   "execution_count": null,
   "metadata": {},
   "outputs": [],
   "source": [
    "# get the directory of the content files for a resourceid\n",
    "content_path = hs.getContentPath(os.environ['HS_RES_ID'])\n",
    "print(content_path)"
   ]
  },
  {
   "cell_type": "markdown",
   "metadata": {},
   "source": [
    "Often it is convenient to switch your working directory to the resource content path."
   ]
  },
  {
   "cell_type": "code",
   "execution_count": null,
   "metadata": {},
   "outputs": [],
   "source": [
    "os.chdir(content_path)\n",
    "os.getcwd()"
   ]
  },
  {
   "cell_type": "markdown",
   "metadata": {},
   "source": [
    "The ! prefix is an escape for a bash shell instruction and `ls` is the linux file list function. If you're comfortable with bash syntax, other bash functions work too. This cell lists the files in the current directory, i.e. your resource contents folder."
   ]
  },
  {
   "cell_type": "code",
   "execution_count": null,
   "metadata": {},
   "outputs": [],
   "source": [
    "!ls"
   ]
  },
  {
   "cell_type": "markdown",
   "metadata": {},
   "source": [
    "You can type any `Python` or `Bash` commands to work with the files and notebooks contained in your resource.  To include additional cells for data processing, click the **+** button at the top of the page, or use the keyboard shortcuts **a** and **b**.  For a complete list of keyboard shortcuts, press **h**."
   ]
  },
  {
   "cell_type": "code",
   "execution_count": null,
   "metadata": {
    "collapsed": true
   },
   "outputs": [],
   "source": []
  },
  {
   "cell_type": "code",
   "execution_count": null,
   "metadata": {
    "collapsed": true
   },
   "outputs": [],
   "source": []
  },
  {
   "cell_type": "code",
   "execution_count": null,
   "metadata": {
    "collapsed": true
   },
   "outputs": [],
   "source": []
  },
  {
   "cell_type": "markdown",
   "metadata": {},
   "source": [
    "<a id='section4'></a>\n",
    "### 4. Creating new HydroShare resources from JupyterHub content\n",
    "\n",
    "The best way to save your data is to put it back into HydroShare.  This can be done using the `createHydroShareResource` function. \n",
    "\n",
    "The first step is to identify the files you want to save to a HydroShare. "
   ]
  },
  {
   "cell_type": "code",
   "execution_count": null,
   "metadata": {},
   "outputs": [],
   "source": [
    "# Grab all the files in the folder where you are working  \n",
    "files = !ls\n",
    "print(files)"
   ]
  },
  {
   "cell_type": "markdown",
   "metadata": {},
   "source": [
    "Alternatively you can identify the specific files you want to put back in HydroShare.  Keep in mind, however, these need to be specified as valid file paths:\n",
    "\n",
    "\n",
    "**Files in the current directory**\n",
    "\n",
    "```\n",
    "files = ['resultfile1.txt','resultfile2.txt']\n",
    "```\n",
    "\n",
    "**Files outside of the current directory**\n",
    "\n",
    "```\n",
    "files = ['../data/resultfile1.txt','myfolder/resultfile2.txt']\n",
    "```\n"
   ]
  },
  {
   "cell_type": "code",
   "execution_count": null,
   "metadata": {},
   "outputs": [],
   "source": [
    "# lets save this content as a new resource in HydroShare\n",
    "abstract = 'This is a demo of the HydroShare Python Notebook Server'\n",
    "title = 'Hello From JupyterHub'    \n",
    "keywords = ['Demo', 'JupyterHub']  \n",
    "rtype = 'genericresource'          \n",
    "\n",
    "# create the new resource\n",
    "resource_id = hs.createHydroShareResource(abstract, \n",
    "                                          title, \n",
    "                                          keywords=keywords, \n",
    "                                          resource_type=rtype, \n",
    "                                          content_files=files, \n",
    "                                          public=False)"
   ]
  }
 ],
 "metadata": {
  "kernelspec": {
   "display_name": "Python 3",
   "language": "python",
   "name": "python3"
  },
  "language_info": {
   "codemirror_mode": {
    "name": "ipython",
    "version": 3
   },
   "file_extension": ".py",
   "mimetype": "text/x-python",
   "name": "python",
   "nbconvert_exporter": "python",
   "pygments_lexer": "ipython3",
   "version": "3.5.3"
  }
 },
 "nbformat": 4,
 "nbformat_minor": 1
}
