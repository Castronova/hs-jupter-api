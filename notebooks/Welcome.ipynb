{
 "cells": [
  {
   "cell_type": "markdown",
   "metadata": {},
   "source": [
    "## Welcome to the HydroShare Python Notebook Server   \n",
    "\n",
    "**Where am I?**  \n",
    "You have arrived at the HydroShare Python Notebook Server landing page. The cells below demonstrate how to access HydroShare content inside this Python scripting environment.  You will be asked to provide your HydroShare credentials so that the notebook server can establish a secure connection with your resources. When accessing resources that contain Jupyter notebook files (i.e. \\*.ipynb), you will be provided hyperlinks to launch them notebook in separate  browser tabs. You can also save changes from this session back into HydroShare using **hs_utils** functions. \n",
    "\n",
    "**What is a Jupyter Notebook?**  \n",
    "Jupyter notebook servers enable scientists to explore, modify, and interact with data inside a remote execution environment by using the Python programming language.  A Jupyter **notebook** is an enhanced computational environment that combines rich text and code execution into a single script-like container. The HydroShare Python Notebook Server aims to combine this standard notebook functionality with the HydroShare data hosting platform to provided a rich computational environment for water scientists.\n",
    "\n",
    "\n",
    "See what scientists are doing with notebooks: \n",
    "\n",
    "* [GIS Processing](help/taudem.ipynb)\n",
    "\n",
    "* [LandLab](/help/landlab.ipynb)\n"
   ]
  },
  {
   "cell_type": "markdown",
   "metadata": {},
   "source": [
    "---\n",
    "\n",
    "# A Brief Tutorial\n",
    "\n",
    "The following cells demonstrate how to:\n",
    "\n",
    "1. How to establish a secure connection with HydroShare using the `hs_utils` library \n",
    "2. How to query a HydroShare resource   \n",
    "3. How to create a new HydroShare resource "
   ]
  },
  {
   "cell_type": "markdown",
   "metadata": {},
   "source": [
    "\n",
    "### 1. Establish a Secure Connection \n",
    "Most notebooks that interact with HydroShare will import the `hs_utils` library.  This library contains functions for querying HydroShare resources using a REST API.  You will be prompted for your HydroShare login credentials, which is necessary to establish a secure connection with you HydroShare account.  \n",
    "\n",
    "To learn more about the **hs_utils** library execute the following command:  \n",
    "```\n",
    "help(hs_utils)\n",
    "```\n"
   ]
  },
  {
   "cell_type": "code",
   "execution_count": 2,
   "metadata": {
    "collapsed": false
   },
   "outputs": [
    {
     "ename": "ImportError",
     "evalue": "No module named 'utils'",
     "output_type": "error",
     "traceback": [
      "\u001b[1;31m\u001b[0m",
      "\u001b[1;31mImportError\u001b[0mTraceback (most recent call last)",
      "\u001b[1;32m<ipython-input-2-8ec483236d3c>\u001b[0m in \u001b[0;36m<module>\u001b[1;34m()\u001b[0m\n\u001b[0;32m      1\u001b[0m \u001b[1;32mimport\u001b[0m \u001b[0mos\u001b[0m\u001b[1;33m\u001b[0m\u001b[0m\n\u001b[1;32m----> 2\u001b[1;33m \u001b[1;32mimport\u001b[0m \u001b[0mhs_utils\u001b[0m\u001b[1;33m\u001b[0m\u001b[0m\n\u001b[0m\u001b[0;32m      3\u001b[0m \u001b[0mhs\u001b[0m \u001b[1;33m=\u001b[0m \u001b[0mhs_utils\u001b[0m\u001b[1;33m.\u001b[0m\u001b[0mhydroshare\u001b[0m\u001b[1;33m(\u001b[0m\u001b[1;33m)\u001b[0m\u001b[1;33m\u001b[0m\u001b[0m\n",
      "\u001b[1;32m/home/jovyan/work/notebooks/utilities/hs_utils.py\u001b[0m in \u001b[0;36m<module>\u001b[1;34m()\u001b[0m\n\u001b[0;32m      6\u001b[0m \u001b[1;32mimport\u001b[0m \u001b[0mthreading\u001b[0m\u001b[1;33m\u001b[0m\u001b[0m\n\u001b[0;32m      7\u001b[0m \u001b[1;32mimport\u001b[0m \u001b[0mtime\u001b[0m\u001b[1;33m\u001b[0m\u001b[0m\n\u001b[1;32m----> 8\u001b[1;33m \u001b[1;32mimport\u001b[0m \u001b[0mutils\u001b[0m\u001b[1;33m\u001b[0m\u001b[0m\n\u001b[0m\u001b[0;32m      9\u001b[0m \u001b[1;32mimport\u001b[0m \u001b[0myaml\u001b[0m\u001b[1;33m\u001b[0m\u001b[0m\n\u001b[0;32m     10\u001b[0m \u001b[1;32mfrom\u001b[0m \u001b[0mIPython\u001b[0m\u001b[1;33m.\u001b[0m\u001b[0mcore\u001b[0m\u001b[1;33m.\u001b[0m\u001b[0mdisplay\u001b[0m \u001b[1;32mimport\u001b[0m \u001b[0mdisplay\u001b[0m\u001b[1;33m,\u001b[0m \u001b[0mHTML\u001b[0m\u001b[1;33m\u001b[0m\u001b[0m\n",
      "\u001b[1;31mImportError\u001b[0m: No module named 'utils'"
     ]
    }
   ],
   "source": [
    "import os\n",
    "import hs_utils\n",
    "hs = hs_utils.hydroshare()"
   ]
  },
  {
   "cell_type": "markdown",
   "metadata": {},
   "source": [
    "### 2. Query HydroShare Resource Content\n",
    "\n",
    "Now that we have a secure connection with HydroShare, the **hs_utils** library can be used to download resource content onto the notebook server.  Once this content is downloaded, you will be provided a Python dictionary populated with each resource file and its location on the server.  This dictionary, **hs.content**, is designed to make data access as seamless as possible.  Alternatively, you can explore these content files by clicking on the Jupyter logo in the top left corner of the page and navigating to the **notebooks->data** directory.\n"
   ]
  },
  {
   "cell_type": "code",
   "execution_count": null,
   "metadata": {
    "collapsed": false
   },
   "outputs": [],
   "source": [
    "# get resource content.  Returns a dictionary of filenames and their paths \n",
    "content = hs.getResourceFromHydroShare(os.environ['HS_RES_ID'])"
   ]
  },
  {
   "cell_type": "markdown",
   "metadata": {},
   "source": [
    "### Create a New HydroShare Resource"
   ]
  },
  {
   "cell_type": "code",
   "execution_count": null,
   "metadata": {
    "collapsed": false
   },
   "outputs": [],
   "source": [
    "# lets save this content as a new resource in HydroShare\n",
    "abstract = 'This is a demo of the HydroShare Python Notebook Server'\n",
    "title = 'Hello From JupyterHub'\n",
    "keywords = ['Demo', 'JupyterHub']\n",
    "rtype = os.environ['HS_RES_TYPE']  # get the resource type from the original\n",
    "files = list(hs.content.values())  # get the resource content files\n",
    "\n",
    "# create a new resource\n",
    "resource_id = hs.createHydroShareResource(abstract, \n",
    "                                          title, \n",
    "                                          derivedFromId=os.environ['HS_RES_ID'],\n",
    "                                          keywords=keywords, \n",
    "                                          resource_type=rtype, \n",
    "                                          content_files=files, \n",
    "                                          public=False)"
   ]
  }
 ],
 "metadata": {
  "kernelspec": {
   "display_name": "Python 3",
   "language": "python",
   "name": "python3"
  },
  "widgets": {
   "state": {},
   "version": "1.1.2"
  }
 },
 "nbformat": 4,
 "nbformat_minor": 0
}
