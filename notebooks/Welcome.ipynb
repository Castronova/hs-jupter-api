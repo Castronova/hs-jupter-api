{
 "cells": [
  {
   "cell_type": "markdown",
   "metadata": {},
   "source": [
    "## Welcome to the HydroShare Python Notebook Server   \n",
    "\n",
    "You have arrived at the HydroShare Python Notebook Server landing page. The cells below demonstrate how to access HydroShare content inside this Python scripting environment.  You will be asked to provide your HydroShare credentials so that the notebook server can establish a secure connection with your resources. When accessing resources that contain Jupyter notebook files (i.e. \\*.ipynb), you will be provided hyperlinks to launch them in separate  browser tabs. You can also save changes from this session back into HydroShare using the **hs_utils** library. \n",
    "\n",
    "Jupyter notebook servers enable scientists to explore, modify, and interact with data inside a remote execution environment by using the Python programming language.  A **Jupyter notebook** is an enhanced computational environment that combines rich text and code execution into a single script-like container. The HydroShare Python Notebook Server aims to combine this standard notebook functionality with the HydroShare data hosting platform to provided a rich computational environment for water scientists.\n",
    "\n",
    "\n",
    "See what scientists are doing with notebooks: \n",
    "\n",
    "* [Raster Processing using TauDEM](help/taudem.ipynb)\n",
    "\n",
    "\n",
    "* [LandLab Landslide Calculations](help/landslide_driver.ipynb)\n",
    "\n",
    "\n",
    "* [Basic Time Series Analysis - GenericResource](help/timeseries.ipynb)\n",
    "\n",
    "\n",
    "* [Basic Time Series Analysis - TimeSeriesResource](help/timeseries_odm2.ipynb)\n",
    "\n",
    "\n",
    "* [RHESSys Modeling](help/rhessys.ipynb)\n"
   ]
  },
  {
   "cell_type": "markdown",
   "metadata": {},
   "source": [
    "---\n",
    "\n",
    "# A Brief Introduction\n",
    "\n",
    "The following cells demonstrate how to:\n",
    "\n",
    "1. Establish a secure connection with HydroShare using the `hs_utils` library \n",
    "2. Query a HydroShare resource   \n",
    "3. Create a new HydroShare resource "
   ]
  },
  {
   "cell_type": "markdown",
   "metadata": {},
   "source": [
    "\n",
    "### 1. Establish a Secure Connection \n",
    "Most notebooks that interact with HydroShare will import the `hs_utils` library.  This library contains functions for querying HydroShare resources using a REST API.  You will be prompted for your HydroShare login credentials, which is necessary to establish a secure connection with you HydroShare account.  \n",
    "\n",
    "To learn more about the **hs_utils** library execute the following command:  \n",
    "```\n",
    "help(hs_utils)\n",
    "```\n",
    "\n",
    "Execute the following cell by pressing `Shift-Enter`, or by pressing the play button on the page toolbar.\n"
   ]
  },
  {
   "cell_type": "code",
   "execution_count": null,
   "metadata": {
    "collapsed": false,
    "scrolled": true
   },
   "outputs": [],
   "source": [
    "import os\n",
    "from utilities import hydroshare\n",
    "hs = hydroshare.hydroshare()"
   ]
  },
  {
   "cell_type": "markdown",
   "metadata": {},
   "source": [
    "### 2. Query HydroShare Resource Content\n",
    "\n",
    "Now that we have a secure connection with HydroShare, the **hs_utils** library can be used to download resource content onto the notebook server.  Once this content is downloaded, you will be provided with a Python dictionary containing each resource file and its location on the server.  This dictionary, **hs.content**, is designed to make data access as seamless as possible.  Alternatively, you can explore these content files by clicking on the Jupyter logo in the top left corner of this page and navigating to the **notebooks/data** directory.\n"
   ]
  },
  {
   "cell_type": "code",
   "execution_count": null,
   "metadata": {
    "collapsed": false
   },
   "outputs": [],
   "source": [
    "# get resource content.  Returns a dictionary of filenames and their paths \n",
    "content = hs.getResourceFromHydroShare(os.environ['HS_RES_ID'])"
   ]
  },
  {
   "cell_type": "markdown",
   "metadata": {},
   "source": [
    "Now that this HydroShare content has been downloaded onto the notebook server, it can be used in custom data processing steps and/or routines.  The output from the command above lists all of the files that were found inside the resource.  To get the file path for one of these, simply issue the command `hs.content[\"MY_FILE\"]`, where MY_FILE is the name of your file.  Python notebook files that exist within the resource are displayed above as hyperlinks which, when selected, will launch the notebook in a new browser window.\n",
    "\n",
    "To include additional cells for custom data processing, click the **+** button at the top of the page, or use the keyboard shortcut **b**\n",
    "\n",
    "\n"
   ]
  },
  {
   "cell_type": "code",
   "execution_count": null,
   "metadata": {
    "collapsed": false
   },
   "outputs": [],
   "source": [
    "\"\"\"\n",
    "[....]  \n",
    "[....]  \n",
    "\n",
    "[Insert Custom Cells Here]  \n",
    "\n",
    "[....]  \n",
    "[....]  \n",
    "\"\"\""
   ]
  },
  {
   "cell_type": "markdown",
   "metadata": {},
   "source": [
    "### 3. Create a New HydroShare Resource\n",
    "\n",
    "The best way to save your data is to put it back into HydroShare.  This can be done using the `createHydroShareResource` function (below). "
   ]
  },
  {
   "cell_type": "code",
   "execution_count": null,
   "metadata": {
    "collapsed": false
   },
   "outputs": [],
   "source": [
    "# lets save this content as a new resource in HydroShare\n",
    "abstract = 'This is a demo of the HydroShare Python Notebook Server'   # abstract for the new resource\n",
    "title = 'Hello From JupyterHub'    # title for the new resource\n",
    "keywords = ['Demo', 'JupyterHub']  # keywords for the new resource\n",
    "rtype = 'genericresource'          # Hydroshare resource type\n",
    "files = list(hs.content.values())  # get all of the resource content files from the hs.content dictionary\n",
    "\n",
    "# create the new resource\n",
    "resource_id = hs.createHydroShareResource(abstract, \n",
    "                                          title, \n",
    "                                          derivedFromId=os.environ['HS_RES_ID'],\n",
    "                                          keywords=keywords, \n",
    "                                          resource_type=rtype, \n",
    "                                          content_files=files, \n",
    "                                          public=False)"
   ]
  }
 ],
 "metadata": {
  "kernelspec": {
   "display_name": "Python 3",
   "language": "python",
   "name": "python3"
  },
  "language_info": {
   "codemirror_mode": {
    "name": "ipython",
    "version": 3.0
   },
   "file_extension": ".py",
   "mimetype": "text/x-python",
   "name": "python",
   "nbconvert_exporter": "python",
   "pygments_lexer": "ipython3",
   "version": "3.5.2"
  }
 },
 "nbformat": 4,
 "nbformat_minor": 0
}