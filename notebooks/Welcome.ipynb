{
 "cells": [
  {
   "cell_type": "markdown",
   "metadata": {},
   "source": [
    "## Welcome to the HydroShare Python Notebook Server   \n",
    "\n",
    "You've arrived at the HydroShare Python Notebook Server. This environment provides web-based programming and model execution functionality for HydroShare users. It has been configured with many scientific libraries, tools, and models to enable easy manipulation of HydroShare data using the Python programming language.  You can also save notebooks back into HydroShare or launch existing notebooks from HydroShare into this environment.  This provides a unique solution to sharing preliminary and published research with collaborators and colleagues.\n",
    "\n",
    "Jupyter notebooks enable scientists to explore, modify, and interact with data inside a remote execution environment by using the Python programming language.  A **Jupyter notebook** is an enhanced computational environment that combines rich text and code execution into a single script-like container. The HydroShare Python Notebook Server aims to combine this standard notebook functionality with the HydroShare data hosting platform to provide a rich computational environment for water scientists.\n",
    "\n",
    "\n",
    "The following example notebooks illustrate the functionality of this web application.\n",
    "\n",
    "* [Raster Processing using TauDEM](help/taudem.ipynb)\n",
    "\n",
    "* [LandLab Landslide Calculations](help/Synthetic_recharge_LandlabLandslide.ipynb)\n",
    "\n",
    "* [Basic Time Series Analysis - GenericResource](help/timeseries.ipynb)\n",
    "\n",
    "* [Basic Time Series Analysis - TimeSeriesResource](help/timeseries_odm2.ipynb)\n",
    "\n",
    "* [Working with Large Files using iRODs](help/irods-basic.ipynb)\n",
    "* [WaterML R Package](help/WaterML-R-Package-Tutorial.ipynb)"
   ]
  },
  {
   "cell_type": "markdown",
   "metadata": {},
   "source": [
    "---\n",
    "\n",
    "# A Brief Introduction\n",
    "\n",
    "This notebook demonstrates how to get started using JupyterHub and is divided into the following sections:\n",
    "\n",
    "1. [How to connect with HydroShare](#section1)\n",
    "\n",
    "  This section walks you through the process of connecting to HydroShare via its REST interface.  You will be asked to provide your HydroShare credentials to establish a secure connection that enables access to resources in HydroShare. \n",
    "  <br><br>\n",
    "  \n",
    "2. [Querying and downloading HydroShare resources](#section2)\n",
    "\n",
    "  Retrieve the contents of a HydroShare resource into your personal workspace on the JupyterHub server using the `hydroshare` library. Resource content files are accessible to notebooks, libraries, and models that run inside the JupyterHub web environment.  \n",
    "  <br>\n",
    "  \n",
    "3. [Do some work](#section3)\n",
    "\n",
    "  This section gets you started creating and customizing notebooks.  You can perform any operations that the JupyterHub evironment supports.  Commands may be executed from this notebook, or from a separate notebook. \n",
    "  <br><br>\n",
    "  \n",
    "4. [Creating a new HydroShare resource](#section4)\n",
    "\n",
    "  It's often convenient to use a notebook retrieved from HydroShare, and at the end of your session, save your work back to HydroShare. This section guides you through the process of saving your work back to HydroShare, where you may further change metadata and/or share it with other HydroShare users. \n",
    "  <br><br>"
   ]
  },
  {
   "cell_type": "markdown",
   "metadata": {},
   "source": [
    "<a id='section1'></a>\n",
    "### 1. How to connect with HydroShare \n",
    "To interact with HydroShare, import the `hydroshare` utility library so that you can query and download resources into the JupyterHub environment.  You will be prompted for your HydroShare login credentials, which are necessary to establish a secure connection with your account.  \n",
    "Execute the following cell by pressing `Shift-Enter`, or by pressing the play button \n",
    "<img style='display:inline;padding-bottom:15px' src='help/static/play-button.png'>\n",
    "on the toolbar above."
   ]
  },
  {
   "cell_type": "code",
   "execution_count": null,
   "metadata": {
    "scrolled": true
   },
   "outputs": [],
   "source": [
    "import os\n",
    "from utilities import hydroshare\n",
    "hs = hydroshare.hydroshare()"
   ]
  },
  {
   "cell_type": "markdown",
   "metadata": {},
   "source": [
    "While establishing this connection several environment variables were loaded into memory (see the output from the previous cell): `HS_USR_NAME`, `HS_RES_ID`, and `HS_RES_TYPE`.  You can use these variables in your notebooks via the `os.environ` function.  For instance, load the current resource id so that it can be used later in the notebook."
   ]
  },
  {
   "cell_type": "code",
   "execution_count": null,
   "metadata": {},
   "outputs": [],
   "source": [
    "resid = 'fb519c27b3284fa68ac60a85899df33b'"
   ]
  },
  {
   "cell_type": "markdown",
   "metadata": {},
   "source": [
    "<a id='section2'></a>\n",
    "### 2. Querying and downloading HydroShare resources\n",
    "\n",
    "Now that we have a secure connection, the **hydroshare** library can be used to download resource content onto the notebook server.  Once this content is downloaded, you will be provided with a Python dictionary containing each resource file and its location on the server.  This dictionary, **hs.content**, is designed to make data access as seamless as possible.  \n"
   ]
  },
  {
   "cell_type": "code",
   "execution_count": null,
   "metadata": {},
   "outputs": [],
   "source": [
    "# get resource content.\n",
    "hs.getResourceFromHydroShare(resid)"
   ]
  },
  {
   "cell_type": "markdown",
   "metadata": {},
   "source": [
    "<a id='section3'></a>\n",
    "### 3. Do some work\n",
    "\n",
    "Now that the HydroShare content has been downloaded into the notebook server, it can be used for custom data processing routines.  The output from the command above lists all of the files that were found inside the resource.  To get the path for one of these files, simply issue the command `hs.content[\"MY_FILE\"]`, where `MY_FILE` is the name of your file.  Python notebooks that exist within the resource are displayed as hyperlinks which, when selected, will launch the notebook in a new browser window.\n",
    "\n",
    "HydroShare resource files are stored quite deep in a folder path following the pattern `data/<GUID>/<GUID>/data/contents/<files>`.  As a result, utility functions have been provided to help you navigate these data. "
   ]
  },
  {
   "cell_type": "code",
   "execution_count": null,
   "metadata": {},
   "outputs": [],
   "source": [
    "# get the directory of the content files for a resourceid\n",
    "content_path = hs.getContentPath(resid)\n",
    "print('Path to resource content: %s' % content_path)"
   ]
  },
  {
   "cell_type": "markdown",
   "metadata": {},
   "source": [
    "Often it is convenient to switch your working directory to the resource content path."
   ]
  },
  {
   "cell_type": "code",
   "execution_count": null,
   "metadata": {},
   "outputs": [],
   "source": [
    "os.chdir(content_path)\n",
    "cwd = os.getcwd()\n",
    "print('Current working directory: %s' % cwd)"
   ]
  },
  {
   "cell_type": "markdown",
   "metadata": {},
   "source": [
    "The ! prefix is an escape for a bash shell instruction and `ls` is the linux file list function. If you're comfortable with bash syntax, other bash functions work too. This cell lists the files in the current directory, i.e. your resource contents folder."
   ]
  },
  {
   "cell_type": "code",
   "execution_count": null,
   "metadata": {},
   "outputs": [],
   "source": [
    "!ls"
   ]
  },
  {
   "cell_type": "markdown",
   "metadata": {},
   "source": [
    "You can type any `Python` or `Bash` commands to work with the files and notebooks contained in your resource.  Try creating a new file for your resource using the code snippet below.  This Python command creates a new file named `my-new-file.txt` in the current working directory and inserts a single line of text.\n",
    "\n",
    "```\n",
    "with open('my-new-file.txt', 'w') as f:\n",
    "    f.write('This is a test file')\n",
    "```"
   ]
  },
  {
   "cell_type": "code",
   "execution_count": null,
   "metadata": {},
   "outputs": [],
   "source": []
  },
  {
   "cell_type": "markdown",
   "metadata": {},
   "source": [
    "Include additional cells by clicking the <img style='display:inline;vertical-align: bottom' src='help/static/add-button.png'> button on the notebook toolbar, or use the keyboard shortcuts **a** (insert cell above) and **b** (insert cell below). Create as many (or as few) cells to perform your analysis as necessary."
   ]
  },
  {
   "cell_type": "markdown",
   "metadata": {},
   "source": [
    "<a id='section4'></a>\n",
    "### 4. Creating a new HydroShare resource\n",
    "\n",
    "The best way to save your data is to put it back into HydroShare and is done using the `createHydroShareResource` function. The first step is to identify the files you want to save to a HydroShare.  The cell below lists all the files in the current working directory."
   ]
  },
  {
   "cell_type": "code",
   "execution_count": null,
   "metadata": {},
   "outputs": [],
   "source": [
    "# Grab all the files in the folder where you are working  \n",
    "files = !ls\n",
    "print('My files: %s' % files)"
   ]
  },
  {
   "cell_type": "markdown",
   "metadata": {},
   "source": [
    "Alternatively you can identify the specific files you want to put back in HydroShare.  Keep in mind, however, these need to be valid file paths:\n",
    "\n",
    "\n",
    "**Files in the current directory**\n",
    "\n",
    "```\n",
    "files = ['resultfile1.txt','resultfile2.txt']\n",
    "```\n",
    "\n",
    "**Files outside of the current directory**\n",
    "\n",
    "```\n",
    "files = ['../data/resultfile1.txt','myfolder/resultfile2.txt']\n",
    "```\n"
   ]
  },
  {
   "cell_type": "code",
   "execution_count": null,
   "metadata": {},
   "outputs": [],
   "source": [
    "!echo \"This is my new file\" > myfile.txt"
   ]
  },
  {
   "cell_type": "code",
   "execution_count": null,
   "metadata": {},
   "outputs": [],
   "source": [
    "# lets save this content as a new resource in HydroShare\n",
    "abstract = 'This is a demo of the HydroShare Python Notebook Server'\n",
    "title = 'Hello From JupyterHub'    \n",
    "keywords = ['Demo', 'JupyterHub']  \n",
    "rtype = 'compositeresource'          \n",
    "\n",
    "# create the new resource\n",
    "resource_id = hs.createHydroShareResource(abstract, \n",
    "                                          title, \n",
    "                                          keywords=keywords, \n",
    "                                          resource_type=rtype, \n",
    "                                          content_files=['myfile.txt'], \n",
    "                                          public=False)"
   ]
  }
 ],
 "metadata": {
  "kernelspec": {
   "display_name": "Python 3",
   "language": "python",
   "name": "python3"
  },
  "language_info": {
   "codemirror_mode": {
    "name": "ipython",
    "version": 3
   },
   "file_extension": ".py",
   "mimetype": "text/x-python",
   "name": "python",
   "nbconvert_exporter": "python",
   "pygments_lexer": "ipython3",
   "version": "3.6.8"
  }
 },
 "nbformat": 4,
 "nbformat_minor": 1
}
