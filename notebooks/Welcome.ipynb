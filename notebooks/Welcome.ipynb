{
 "cells": [
  {
   "cell_type": "markdown",
   "metadata": {},
   "source": [
    "## Welcome to the HydroShare Python Notebook Server   \n",
    "\n",
    "You have arrived at the HydroShare Python Notebook Server landing page. The cells below demonstrate how to access HydroShare content inside this Python scripting environment.  You will be asked to provide your HydroShare credentials so that the notebook server can establish a secure connection with your resources. When accessing resources that contain Jupyter notebook files (i.e. \\*.ipynb), you will be provided hyperlinks to launch them in separate  browser tabs. You can also save changes from this session back into HydroShare using the **hydroshare** python library. \n",
    "\n",
    "Jupyter notebooks enable scientists to explore, modify, and interact with data inside a remote execution environment by using the Python programming language.  A **Jupyter notebook** is an enhanced computational environment that combines rich text and code execution into a single script-like container. The HydroShare Python Notebook Server aims to combine this standard notebook functionality with the HydroShare data hosting platform to provided a rich computational environment for water scientists.\n",
    "\n",
    "\n",
    "See what scientists are doing with notebooks: \n",
    "\n",
    "* [Raster Processing using TauDEM](help/taudem.ipynb)\n",
    "\n",
    "\n",
    "* [LandLab Landslide Calculations](help/landslide_driver.ipynb)\n",
    "\n",
    "\n",
    "* [Basic Time Series Analysis - GenericResource](help/timeseries.ipynb)\n",
    "\n",
    "\n",
    "* [Basic Time Series Analysis - TimeSeriesResource](help/timeseries_odm2.ipynb)\n",
    "\n",
    "\n",
    "* [RHESSys Modeling](help/rhessys.ipynb)\n"
   ]
  },
  {
   "cell_type": "markdown",
   "metadata": {},
   "source": [
    "---\n",
    "\n",
    "# A Brief Introduction\n",
    "\n",
    "The following cells demonstrate how to:\n",
    "\n",
    "1. Establish a secure connection with HydroShare using the `hydroshare` library \n",
    "2. Query and download a HydroShare resource   \n",
    "3. Create a new HydroShare resource "
   ]
  },
  {
   "cell_type": "markdown",
   "metadata": {},
   "source": [
    "\n",
    "### 1. Establish a Secure Connection \n",
    "To interact with HydroShare import the necessary libraries for querying HydroShare resources using a REST API.  You will be prompted for your HydroShare login credentials, which is necessary to establish a secure connection with you HydroShare account.  \n",
    "\n",
    "Execute the following cell by pressing `Shift-Enter`, or by pressing the play button on the page toolbar.\n"
   ]
  },
  {
   "cell_type": "code",
   "execution_count": null,
   "metadata": {
    "scrolled": true
   },
   "outputs": [],
   "source": [
    "import os\n",
    "from utilities import hydroshare\n",
    "hs = hydroshare.hydroshare()"
   ]
  },
  {
   "cell_type": "markdown",
   "metadata": {},
   "source": [
    "To learn more about the **hydroshare** library execute the following command:  \n",
    "```\n",
    "help(hs)\n",
    "```"
   ]
  },
  {
   "cell_type": "markdown",
   "metadata": {},
   "source": [
    "### 2. Download HydroShare Resource Content\n",
    "\n",
    "Now that we have a secure connection with HydroShare, the **hydroshare** library can be used to download resource content onto the notebook server.  Once this content is downloaded, you will be provided with a Python dictionary containing each resource file and its location on the server.  This dictionary, **hs.content**, is designed to make data access as seamless as possible.  \n",
    "\n",
    "You can also explore content using the directory interface by clicking on the Jupyter logo in the top left corner of this page and navigating to the **notebooks/data** directory. The directory interface also enables you to create new files, notebooks (Python2 and Python3), and bash terminals.  Lastly, the **notebooks/data** directory is a good place to save your data to ensure that they are not overwritten during system upgrades. \n"
   ]
  },
  {
   "cell_type": "code",
   "execution_count": null,
   "metadata": {},
   "outputs": [],
   "source": [
    "# get resource content.  Returns a dictionary of filenames and their paths \n",
    "content = hs.getResourceFromHydroShare(os.environ['HS_RES_ID'])"
   ]
  },
  {
   "cell_type": "markdown",
   "metadata": {},
   "source": [
    "### 3. Do some work\n",
    "\n",
    "Now that this HydroShare content has been downloaded onto the notebook server, it can be used in custom data processing steps and/or routines.  The output from the command above lists all of the files that were found inside the resource.  To get the file path for one of these, simply issue the command `hs.content[\"MY_FILE\"]`, where MY_FILE is the name of your file.  Python notebook files that exist within the resource are displayed above as hyperlinks which, when selected, will launch the notebook in a new browser window.\n",
    "\n",
    "To include additional cells for data processing, click the **+** button at the top of the page, or use the keyboard shortcuts **a** and **b**"
   ]
  },
  {
   "cell_type": "code",
   "execution_count": null,
   "metadata": {
    "collapsed": true
   },
   "outputs": [],
   "source": [
    "# You can type any commands to work with the files in your resource. "
   ]
  },
  {
   "cell_type": "code",
   "execution_count": null,
   "metadata": {
    "collapsed": true
   },
   "outputs": [],
   "source": []
  },
  {
   "cell_type": "code",
   "execution_count": null,
   "metadata": {
    "collapsed": true
   },
   "outputs": [],
   "source": []
  },
  {
   "cell_type": "code",
   "execution_count": null,
   "metadata": {
    "collapsed": true
   },
   "outputs": [],
   "source": []
  },
  {
   "cell_type": "markdown",
   "metadata": {},
   "source": [
    "If you're comfortable with `bash` syntax, commands can be issued using the `!` prefix.  \n",
    "For example, listing to contents of the current directory:"
   ]
  },
  {
   "cell_type": "code",
   "execution_count": null,
   "metadata": {},
   "outputs": [],
   "source": [
    "!ls"
   ]
  },
  {
   "cell_type": "markdown",
   "metadata": {},
   "source": [
    "`bash` and `python` syntax can be used together too!\n",
    "\n",
    "* To reference Python in Bash use the **`$`** prefix\n",
    "* To reference Bash in Python use the **`!`** prefix"
   ]
  },
  {
   "cell_type": "code",
   "execution_count": null,
   "metadata": {},
   "outputs": [],
   "source": [
    "print('1. List resource files using Python')\n",
    "file_dict = hs.getContentFiles(os.environ['HS_RES_ID'])\n",
    "for k,v in file_dict.items():\n",
    "    print('%s: %s' % (k,v))\n",
    "\n",
    "print('\\n2. List resource files using Bash')\n",
    "content_path = hs.getContentPath(os.environ['HS_RES_ID'])\n",
    "!ls -la $content_path\n",
    "\n",
    "print('\\n3. Add a file to the resource content directory')\n",
    "myfile = os.path.join(hs.getContentPath(os.environ['HS_RES_ID']), 'myfile')\n",
    "!touch $myfile\n",
    "!echo 'This is my file' > $myfile\n",
    "\n",
    "print('\\n4. Preview the new file')\n",
    "!cat $myfile\n",
    "\n",
    "print('\\n5. List the content files again to see the new file')\n",
    "!ls $content_path\n"
   ]
  },
  {
   "cell_type": "markdown",
   "metadata": {},
   "source": [
    "### 3. Create a New HydroShare Resource\n",
    "\n",
    "The best way to save your data is to put it back into HydroShare.  This can be done using the `createHydroShareResource` function. \n",
    "\n",
    "The first step is to identify the files you want to save to a HydroShare resource. "
   ]
  },
  {
   "cell_type": "code",
   "execution_count": null,
   "metadata": {
    "collapsed": true
   },
   "outputs": [],
   "source": [
    "# Grab all files in our resource's content folder (using bash)\n",
    "file_list = !ls $content_path\n",
    "files = [os.path.join(content_path, f) for f in file_list]"
   ]
  },
  {
   "cell_type": "markdown",
   "metadata": {},
   "source": [
    "Alternatively, we can get this list of files using the `hydroshare` Python library."
   ]
  },
  {
   "cell_type": "code",
   "execution_count": null,
   "metadata": {
    "collapsed": true
   },
   "outputs": [],
   "source": [
    "file_dict = hs.getContentFiles(os.environ['HS_RES_ID'])\n",
    "files = [v for v in file_dict.values()]"
   ]
  },
  {
   "cell_type": "code",
   "execution_count": null,
   "metadata": {},
   "outputs": [],
   "source": [
    "# lets save this content as a new resource in HydroShare\n",
    "abstract = 'This is a demo of the HydroShare Python Notebook Server'\n",
    "title = 'Hello From JupyterHub'    \n",
    "keywords = ['Demo', 'JupyterHub']  \n",
    "rtype = 'genericresource'          \n",
    "\n",
    "# create the new resource\n",
    "resource_id = hs.createHydroShareResource(abstract, \n",
    "                                          title, \n",
    "                                          keywords=keywords, \n",
    "                                          resource_type=rtype, \n",
    "                                          content_files=files, \n",
    "                                          public=False)"
   ]
  }
 ],
 "metadata": {
  "kernelspec": {
   "display_name": "Python 3",
   "language": "python",
   "name": "python3"
  },
  "language_info": {
   "codemirror_mode": {
    "name": "ipython",
    "version": 3
   },
   "file_extension": ".py",
   "mimetype": "text/x-python",
   "name": "python",
   "nbconvert_exporter": "python",
   "pygments_lexer": "ipython3",
   "version": "3.5.3"
  }
 },
 "nbformat": 4,
 "nbformat_minor": 1
}
