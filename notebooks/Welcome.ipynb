{
 "cells": [
  {
   "cell_type": "markdown",
   "metadata": {},
   "source": [
    "## Welcome to the HydroShare Python Notebook Server   \n",
    "\n",
    "You have arrived at the HydroShare Python Notebook Server landing page. The cells below demonstrate how to access HydroShare content inside this Python scripting environment.  You will be asked to provide your HydroShare credentials so that the notebook server can establish a secure connection with your resources. When accessing resources that contain Jupyter notebook files (i.e. \\*.ipynb), you will be provided hyperlinks to launch them in separate  browser tabs. You can also save changes from this session back into HydroShare using the **hs_utils** library. \n",
    "\n",
    "Jupyter notebook servers enable scientists to explore, modify, and interact with data inside a remote execution environment by using the Python programming language.  A **Jupyter notebook** is an enhanced computational environment that combines rich text and code execution into a single script-like container. The HydroShare Python Notebook Server aims to combine this standard notebook functionality with the HydroShare data hosting platform to provided a rich computational environment for water scientists.\n",
    "\n",
    "\n",
    "See what scientists are doing with notebooks: \n",
    "\n",
    "* [Raster Processing using TauDEM](help/taudem.ipynb)\n",
    "\n",
    "\n",
    "* [LandLab Landslide Calculations](help/landslide_driver.ipynb)\n",
    "\n",
    "\n",
    "* [Basic Time Series Analysis](help/timeseries.ipynb)\n"
   ]
  },
  {
   "cell_type": "markdown",
   "metadata": {},
   "source": [
    "---\n",
    "\n",
    "# A Brief Introduction\n",
    "\n",
    "The following cells demonstrate how to:\n",
    "\n",
    "1. How to establish a secure connection with HydroShare using the `hs_utils` library \n",
    "2. How to query a HydroShare resource   \n",
    "3. How to create a new HydroShare resource "
   ]
  },
  {
   "cell_type": "markdown",
   "metadata": {},
   "source": [
    "\n",
    "### 1. Establish a Secure Connection \n",
    "Most notebooks that interact with HydroShare will import the `hs_utils` library.  This library contains functions for querying HydroShare resources using a REST API.  You will be prompted for your HydroShare login credentials, which is necessary to establish a secure connection with you HydroShare account.  \n",
    "\n",
    "To learn more about the **hs_utils** library execute the following command:  \n",
    "```\n",
    "help(hs_utils)\n",
    "```\n"
   ]
  },
  {
   "cell_type": "code",
   "execution_count": 1,
   "metadata": {
    "collapsed": false,
    "scrolled": true
   },
   "outputs": [
    {
     "name": "stdout",
     "output_type": "stream",
     "text": [
      "Adding the following system variables:\n",
      "   HS_USR_NAME = TonyCastronova\n",
      "   HS_RES_ID = 0e49df4b97f94247a8d52bac4adeb14a\n",
      "   HS_RES_TYPE = genericresource\n",
      "   JUPYTER_HUB_IP = jupyter.uwrl.usu.edu\n",
      "\n",
      "These can be accessed using the following command: \n",
      "   os.environ[key]\n",
      "\n",
      "   (e.g.)\n",
      "   os.environ[\"HS_USR_NAME\"]  => TonyCastronova\n"
     ]
    },
    {
     "data": {
      "text/html": [
       "<b style=\"color:green;\">Successfully established a connection with HydroShare</b>"
      ],
      "text/plain": [
       "<IPython.core.display.HTML object>"
      ]
     },
     "metadata": {},
     "output_type": "display_data"
    }
   ],
   "source": [
    "import os\n",
    "import hs_utils\n",
    "hs = hs_utils.hydroshare()"
   ]
  },
  {
   "cell_type": "markdown",
   "metadata": {},
   "source": [
    "### 2. Query HydroShare Resource Content\n",
    "\n",
    "Now that we have a secure connection with HydroShare, the **hs_utils** library can be used to download resource content onto the notebook server.  Once this content is downloaded, you will be provided with a Python dictionary containing each resource file and its location on the server.  This dictionary, **hs.content**, is designed to make data access as seamless as possible.  Alternatively, you can explore these content files by clicking on the Jupyter logo in the top left corner of this page and navigating to the **notebooks/data** directory.\n"
   ]
  },
  {
   "cell_type": "code",
   "execution_count": 2,
   "metadata": {
    "collapsed": false
   },
   "outputs": [
    {
     "name": "stdout",
     "output_type": "stream",
     "text": [
      "                      \n"
     ]
    },
    {
     "data": {
      "text/html": [
       "<b style=\"color:green;\">Download Completed Successfully</b>"
      ],
      "text/plain": [
       "<IPython.core.display.HTML object>"
      ]
     },
     "metadata": {},
     "output_type": "display_data"
    },
    {
     "data": {
      "text/html": [
       "<h3>Found the following content when parsing the HydroShare resource:</h3>"
      ],
      "text/plain": [
       "<IPython.core.display.HTML object>"
      ]
     },
     "metadata": {},
     "output_type": "display_data"
    },
    {
     "data": {
      "text/html": [
       "<table><th>File Key</th><th>Path Value</th><tr style=\"word-break: break-word;\"><td width=\"20%\">thun_trans.txt</td><td>/home/jovyan/work/notebooks/data/0e49df4b97f94247a8d52bac4adeb14a/0e49df4b97f94247a8d52bac4adeb14a/data/contents/thun_trans.txt</td></tr><tr style=\"word-break: break-word;\"><td width=\"20%\">thun_phi.txt</td><td>/home/jovyan/work/notebooks/data/0e49df4b97f94247a8d52bac4adeb14a/0e49df4b97f94247a8d52bac4adeb14a/data/contents/thun_phi.txt</td></tr><tr style=\"word-break: break-word;\"><td width=\"20%\">thun_slope.txt</td><td>/home/jovyan/work/notebooks/data/0e49df4b97f94247a8d52bac4adeb14a/0e49df4b97f94247a8d52bac4adeb14a/data/contents/thun_slope.txt</td></tr><tr style=\"word-break: break-word;\"><td width=\"20%\">thun_litho.txt</td><td>/home/jovyan/work/notebooks/data/0e49df4b97f94247a8d52bac4adeb14a/0e49df4b97f94247a8d52bac4adeb14a/data/contents/thun_litho.txt</td></tr><tr style=\"word-break: break-word;\"><td width=\"20%\">thun_sp_ca.txt</td><td>/home/jovyan/work/notebooks/data/0e49df4b97f94247a8d52bac4adeb14a/0e49df4b97f94247a8d52bac4adeb14a/data/contents/thun_sp_ca.txt</td></tr><tr style=\"word-break: break-word;\"><td width=\"20%\">thun_cmax.txt</td><td>/home/jovyan/work/notebooks/data/0e49df4b97f94247a8d52bac4adeb14a/0e49df4b97f94247a8d52bac4adeb14a/data/contents/thun_cmax.txt</td></tr><tr style=\"word-break: break-word;\"><td width=\"20%\">thun_elevation.txt</td><td>/home/jovyan/work/notebooks/data/0e49df4b97f94247a8d52bac4adeb14a/0e49df4b97f94247a8d52bac4adeb14a/data/contents/thun_elevation.txt</td></tr><tr style=\"word-break: break-word;\"><td width=\"20%\">thun_area_msk.txt</td><td>/home/jovyan/work/notebooks/data/0e49df4b97f94247a8d52bac4adeb14a/0e49df4b97f94247a8d52bac4adeb14a/data/contents/thun_area_msk.txt</td></tr><tr style=\"word-break: break-word;\"><td width=\"20%\">ASCII_header.txt</td><td>/home/jovyan/work/notebooks/data/0e49df4b97f94247a8d52bac4adeb14a/0e49df4b97f94247a8d52bac4adeb14a/data/contents/ASCII_header.txt</td></tr><tr style=\"word-break: break-word;\"><td width=\"20%\">thun_cmode.txt</td><td>/home/jovyan/work/notebooks/data/0e49df4b97f94247a8d52bac4adeb14a/0e49df4b97f94247a8d52bac4adeb14a/data/contents/thun_cmode.txt</td></tr><tr style=\"word-break: break-word;\"><td width=\"20%\">CUASHI_Module_Landslides.docx</td><td>/home/jovyan/work/notebooks/data/0e49df4b97f94247a8d52bac4adeb14a/0e49df4b97f94247a8d52bac4adeb14a/data/contents/CUASHI_Module_Landslides.docx</td></tr><tr style=\"word-break: break-word;\"><td width=\"20%\">thun_ls_type.txt</td><td>/home/jovyan/work/notebooks/data/0e49df4b97f94247a8d52bac4adeb14a/0e49df4b97f94247a8d52bac4adeb14a/data/contents/thun_ls_type.txt</td></tr><tr style=\"word-break: break-word;\"><td width=\"20%\">thun_lulc.txt</td><td>/home/jovyan/work/notebooks/data/0e49df4b97f94247a8d52bac4adeb14a/0e49df4b97f94247a8d52bac4adeb14a/data/contents/thun_lulc.txt</td></tr><tr style=\"word-break: break-word;\"><td width=\"20%\">thun_landfrm.txt</td><td>/home/jovyan/work/notebooks/data/0e49df4b97f94247a8d52bac4adeb14a/0e49df4b97f94247a8d52bac4adeb14a/data/contents/thun_landfrm.txt</td></tr><tr style=\"word-break: break-word;\"><td width=\"20%\">thun_cmin.txt</td><td>/home/jovyan/work/notebooks/data/0e49df4b97f94247a8d52bac4adeb14a/0e49df4b97f94247a8d52bac4adeb14a/data/contents/thun_cmin.txt</td></tr><tr style=\"word-break: break-word;\"><td width=\"20%\">thun_soil_dpt.txt</td><td>/home/jovyan/work/notebooks/data/0e49df4b97f94247a8d52bac4adeb14a/0e49df4b97f94247a8d52bac4adeb14a/data/contents/thun_soil_dpt.txt</td></tr><tr style=\"word-break: break-word;\"><td width=\"20%\">landslide_driver.ipynb</td><td>/home/jovyan/work/notebooks/data/0e49df4b97f94247a8d52bac4adeb14a/0e49df4b97f94247a8d52bac4adeb14a/data/contents/landslide_driver.ipynb</td></tr><tr style=\"word-break: break-word;\"><td width=\"20%\">FS_exercise.xls</td><td>/home/jovyan/work/notebooks/data/0e49df4b97f94247a8d52bac4adeb14a/0e49df4b97f94247a8d52bac4adeb14a/data/contents/FS_exercise.xls</td></tr><tr style=\"word-break: break-word;\"><td width=\"20%\">thun_wsline.txt</td><td>/home/jovyan/work/notebooks/data/0e49df4b97f94247a8d52bac4adeb14a/0e49df4b97f94247a8d52bac4adeb14a/data/contents/thun_wsline.txt</td></tr></table>"
      ],
      "text/plain": [
       "<IPython.core.display.HTML object>"
      ]
     },
     "metadata": {},
     "output_type": "display_data"
    },
    {
     "data": {
      "text/html": [
       "<p>To access these variables issue the following command: <br> <code>   my_value = hs.content[\"key\"] </code><p>"
      ],
      "text/plain": [
       "<IPython.core.display.HTML object>"
      ]
     },
     "metadata": {},
     "output_type": "display_data"
    },
    {
     "data": {
      "text/html": [
       "<h3>Found the following notebook(s) associated with this HydroShare resource.</h3>"
      ],
      "text/plain": [
       "<IPython.core.display.HTML object>"
      ]
     },
     "metadata": {},
     "output_type": "display_data"
    },
    {
     "data": {
      "text/html": [
       "Click the link(s) below to launch in a new browser tab."
      ],
      "text/plain": [
       "<IPython.core.display.HTML object>"
      ]
     },
     "metadata": {},
     "output_type": "display_data"
    },
    {
     "data": {
      "text/html": [
       "<a href=/user/tonycastronova/notebooks/notebooks/data/0e49df4b97f94247a8d52bac4adeb14a/0e49df4b97f94247a8d52bac4adeb14a/data/contents/landslide_driver.ipynb target=\"_blank\">landslide_driver.ipynb<a>"
      ],
      "text/plain": [
       "<IPython.core.display.HTML object>"
      ]
     },
     "metadata": {},
     "output_type": "display_data"
    }
   ],
   "source": [
    "# get resource content.  Returns a dictionary of filenames and their paths \n",
    "content = hs.getResourceFromHydroShare(os.environ['HS_RES_ID'])"
   ]
  },
  {
   "cell_type": "markdown",
   "metadata": {},
   "source": [
    "Now that this HydroShare content has been downloaded onto the notebook server, it can be used in custom data processing steps and/or routines.  The output from the command above lists all of the files that were found inside the resource.  To get the file path for one of these, simply issue the command `hs.content[\"MY_FILE_NAME\"]`, where MY_FILE_NAME is the name of your file.  Python notebook files that exist within the resource are displayed above as hyperlinks which, when selected, will launch the notebook in a new browser window.\n",
    "\n",
    "To include additional cells for custom data processing, click the **+** button at the top of the page, or use the keyboard shortcut **b**\n",
    "\n",
    "\n"
   ]
  },
  {
   "cell_type": "code",
   "execution_count": null,
   "metadata": {
    "collapsed": false
   },
   "outputs": [],
   "source": [
    "\"\"\"\n",
    "[....]  \n",
    "[....]  \n",
    "\n",
    "[Insert Custom Cells Here]  \n",
    "\n",
    "[....]  \n",
    "[....]  \n",
    "\"\"\""
   ]
  },
  {
   "cell_type": "markdown",
   "metadata": {},
   "source": [
    "### 3. Create a New HydroShare Resource\n",
    "\n",
    "The best way to save your data is to put it back into HydroShare.  This can be done using the `createHydroShareResource` function (below). "
   ]
  },
  {
   "cell_type": "code",
   "execution_count": null,
   "metadata": {
    "collapsed": false
   },
   "outputs": [],
   "source": [
    "# lets save this content as a new resource in HydroShare\n",
    "abstract = 'This is a demo of the HydroShare Python Notebook Server'   # abstract for the new resource\n",
    "title = 'Hello From JupyterHub'    # title for the new resource\n",
    "keywords = ['Demo', 'JupyterHub']  # keywords for the new resource\n",
    "rtype = 'genericresource'          # Hydroshare resource type\n",
    "files = list(hs.content.values())  # get all of the resource content files from the hs.content dictionary\n",
    "\n",
    "# create the new resource\n",
    "resource_id = hs.createHydroShareResource(abstract, \n",
    "                                          title, \n",
    "                                          derivedFromId=os.environ['HS_RES_ID'],\n",
    "                                          keywords=keywords, \n",
    "                                          resource_type=rtype, \n",
    "                                          content_files=files, \n",
    "                                          public=False)"
   ]
  }
 ],
 "metadata": {
  "kernelspec": {
   "display_name": "Python 3",
   "language": "python",
   "name": "python3"
  },
  "language_info": {
   "codemirror_mode": {
    "name": "ipython",
    "version": 3
   },
   "file_extension": ".py",
   "mimetype": "text/x-python",
   "name": "python",
   "nbconvert_exporter": "python",
   "pygments_lexer": "ipython3",
   "version": "3.5.2"
  },
  "widgets": {
   "state": {},
   "version": "1.1.2"
  }
 },
 "nbformat": 4,
 "nbformat_minor": 0
}
