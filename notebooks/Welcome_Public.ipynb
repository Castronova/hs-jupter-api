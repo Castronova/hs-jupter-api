{
 "cells": [
  {
   "cell_type": "markdown",
   "metadata": {},
   "source": [
    "## Welcome to the HydroShare Python Notebook Server \n",
    "\n",
    "You have arrived at the HydroShare Python Notebook Server landing page. Jupyter notebook servers enable scientists to explore, modify, and interact with data inside a remote execution environment by using the Python programming language.  A **Jupyter notebook** is an enhanced computational environment that combines rich text and code execution into a single script-like container. The HydroShare Python Notebook Server aims to combine this standard notebook functionality with the HydroShare data hosting platform to provided a rich computational environment for water scientists.\n",
    "\n",
    "See what scientists are doing with notebooks: \n",
    "* [Raster Processing using TauDEM](help/taudem.ipynb), * [LandLab Landslide Calculations](help/landslide_driver.ipynb), * [Basic Time Series Analysis - GenericResource](help/timeseries.ipynb), * [Basic Time Series Analysis - TimeSeriesResource](help/timeseries_odm2.ipynb), * [RHESSys Modeling](help/rhessys.ipynb)\n"
   ]
  },
  {
   "cell_type": "markdown",
   "metadata": {},
   "source": [
    "\n",
    "# Two Steps to Launch your Landlab Jupyter Notebook\n",
    "\n",
    "# for PUBLIC HydroShare resources"
   ]
  },
  {
   "cell_type": "markdown",
   "metadata": {},
   "source": [
    "\n",
    "### 1. Establish a Secure Connection to HydroShare\n",
    "Most notebooks that interact with HydroShare will import the `hs_utils` library.  This library contains functions for querying HydroShare resources using a REST API.  You will be prompted for your HydroShare login credentials, which is necessary to establish a secure connection with you HydroShare account.  "
   ]
  },
  {
   "cell_type": "code",
   "execution_count": null,
   "metadata": {
    "collapsed": false,
    "scrolled": true
   },
   "outputs": [],
   "source": [
    "import os, wget, hs_restclient\n",
    "from utilities import hydroshare as hs_utils\n",
    "\n",
    "# identify the Resource information as system variables (from utilities script)\n",
    "hs_utils.hydroshare()\n",
    "\n",
    "# initiate functions from hs_restclient\n",
    "hs=hs_restclient.HydroShare()"
   ]
  },
  {
   "cell_type": "markdown",
   "metadata": {},
   "source": [
    "#### If the HS_RES_ID printed above does not correspond with the HydroShare resource you would like download, edit and execute the code block below to download any public HydroShare resource using the Resource ID."
   ]
  },
  {
   "cell_type": "code",
   "execution_count": null,
   "metadata": {
    "collapsed": true
   },
   "outputs": [],
   "source": [
    "#HS_RES_ID='1de72928f573433290f6c8bb393523df'"
   ]
  },
  {
   "cell_type": "markdown",
   "metadata": {},
   "source": [
    "### 2. Query HydroShare Generic Public Resource containing a Jupyter Notebook\n",
    "\n",
    "Now that we have a secure connection with HydroShare, and have identified the resource ID we want to download and work on, Create a destination path, and download the data using the public file URL. You can explore these content files by clicking on the Jupyter logo in the top left corner of this page and navigating to the **notebooks/data** directory.\n"
   ]
  },
  {
   "cell_type": "code",
   "execution_count": null,
   "metadata": {
    "collapsed": false
   },
   "outputs": [],
   "source": [
    "# create destionation path\n",
    "Dest_dir = '/'.join(['/home/jovyan/work/notebooks','data',os.environ['HS_RES_ID'],os.environ['HS_RES_ID'],'data','contents'])\n",
    "\n",
    "# initiate destination path\n",
    "if not os.path.exists(Dest_dir):\n",
    "    os.makedirs(Dest_dir)\n",
    "os.chdir(Dest_dir)\n",
    "\n",
    "# get resource content files as a dictionary\n",
    "content = hs.getResourceFileList(os.environ['HS_RES_ID'])\n",
    "for eachfile in content:\n",
    "    wget.download(eachfile['url'])\n",
    "    \n",
    "    if eachfile['url'].endswith('.ipynb'):\n",
    "        fileurl = '/'.join(['http:/',os.environ['JUPYTER_HUB_IP'],'user', os.environ['HS_USR_NAME'], 'tree','notebooks','data',os.environ['HS_RES_ID'], os.environ['HS_RES_ID'],'data', 'contents',os.path.basename(eachfile['url'])])\n",
    "        print('loaded: '+fileurl)\n",
    "    else:\n",
    "        print('loaded: '+os.path.basename(eachfile['url']))\n",
    "    pass"
   ]
  },
  {
   "cell_type": "markdown",
   "metadata": {},
   "source": [
    "## Click on the Jupyter Notebook hyperlink above that you would like to launch. \n",
    "\n",
    "\n"
   ]
  }
 ],
 "metadata": {
  "kernelspec": {
   "display_name": "Python 2",
   "language": "python",
   "name": "python2"
  },
  "language_info": {
   "codemirror_mode": {
    "name": "ipython",
    "version": 2
   },
   "file_extension": ".py",
   "mimetype": "text/x-python",
   "name": "python",
   "nbconvert_exporter": "python",
   "pygments_lexer": "ipython2",
   "version": "2.7.12"
  }
 },
 "nbformat": 4,
 "nbformat_minor": 0
}
