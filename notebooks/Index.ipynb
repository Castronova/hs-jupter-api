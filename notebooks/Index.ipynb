{
 "cells": [
  {
   "cell_type": "code",
   "execution_count": null,
   "metadata": {
    "extensions": {
     "jupyter_dashboards": {
      "version": 1,
      "views": {
       "grid_default": {
        "hidden": true
       },
       "report_default": {
        "hidden": true
       }
      }
     }
    }
   },
   "outputs": [],
   "source": [
    "import os\n",
    "import time\n",
    "import shutil\n",
    "import glob\n",
    "import rdflib\n",
    "import pandas as pd\n",
    "from ipywidgets import Button, Label, HBox\n",
    "import qgrid"
   ]
  },
  {
   "cell_type": "code",
   "execution_count": null,
   "metadata": {
    "extensions": {
     "jupyter_dashboards": {
      "version": 1,
      "views": {
       "grid_default": {
        "col": 0,
        "height": 4,
        "hidden": false,
        "row": 0,
        "width": 4
       },
       "report_default": {
        "hidden": false
       }
      }
     }
    }
   },
   "outputs": [],
   "source": [
    "%%html\n",
    "<style>\n",
    ".mytext {\n",
    "    font-style: bold;\n",
    "    font-size: 20px;\n",
    "    padding: 25px 25px 25px 25px;\n",
    "}\n",
    "</style>"
   ]
  },
  {
   "cell_type": "markdown",
   "metadata": {
    "extensions": {
     "jupyter_dashboards": {
      "version": 1,
      "views": {
       "grid_default": {
        "col": 0,
        "height": 4,
        "hidden": false,
        "row": 0,
        "width": 4
       },
       "report_default": {
        "hidden": false
       }
      }
     }
    }
   },
   "source": [
    "<div class=\"mytext\" style=\"background-color:#BCBCBC;max-width: 100%\">\n",
    "<a href=\".\" data-toggle=\"popover\" title=\"Open Notebook Files\" style=\"horizontal-align:middle;text-decoration:none;color:white\"><i class=\"fa fa-file\"></i>\n",
    "Click Here to go to your Home Directory</a>\n",
    "</div>"
   ]
  },
  {
   "cell_type": "markdown",
   "metadata": {},
   "source": [
    "## Welcome to the HydroShare Notebook Server \n",
    "\n",
    "You have arrived at the HydroShare Notebook Server landing page. Jupyter notebook servers enable scientists to explore, modify, and interact with data inside a remote execution environment by using the Python programming language.  A **Jupyter notebook** is an enhanced computational environment that combines rich text and code execution into a single script-like container. The HydroShare Python Notebook Server aims to combine this standard notebook functionality with the HydroShare data hosting platform to provided a rich computational environment for water scientists.\n",
    "\n",
    "To learn more:\n",
    "* [QuickStart](/user-redirect/notebooks/QuickStart.ipynb)\n",
    "\n",
    "* [Users Guide](/user-redirect/notebooks/UsersGuide.ipynb)\n",
    "\n",
    "\n",
    "Hydroshare Resources you have downloaded are listed below.\n"
   ]
  },
  {
   "cell_type": "code",
   "execution_count": null,
   "metadata": {
    "extensions": {
     "jupyter_dashboards": {
      "version": 1,
      "views": {
       "grid_default": {},
       "report_default": {
        "hidden": true
       }
      }
     }
    }
   },
   "outputs": [],
   "source": [
    "del_dir = ''\n",
    "\n",
    "def select_cb(event, w):\n",
    "    global del_dir\n",
    "    if event['new'] == []:\n",
    "        del_button.disabled=True\n",
    "    else:\n",
    "        if del_dir:\n",
    "            # cancel confirm dialog\n",
    "            hbox.children = [del_button]\n",
    "            del_dir = ''\n",
    "        del_button.disabled=False\n",
    "    \n",
    "del_button = Button (\n",
    "                description='Delete Resource',\n",
    "                icon='minus',\n",
    "                tooltip='Remove Resource and its Files',\n",
    "                button_style='danger',\n",
    "                disabled=True\n",
    "            )\n",
    "\n",
    "confirm_label = Label(value='')\n",
    "cancel_but = Button(description='Cancel', button_style='info')\n",
    "ok_but = Button(description='OK',\n",
    "                button_style='danger'\n",
    "               )\n",
    "\n",
    "confirm_dialog = [confirm_label, cancel_but, ok_but]"
   ]
  },
  {
   "cell_type": "code",
   "execution_count": null,
   "metadata": {},
   "outputs": [],
   "source": [
    "def del_clicked(_):\n",
    "    # delete clicked.  bring up confirm dialog\n",
    "    global del_dir\n",
    "    del_button.disabled = True\n",
    "    ok_but.disabled = False\n",
    "    cancel_but.disabled = False\n",
    "    selected_dir = qw.get_selected_df()['Directory'][0]\n",
    "    d = selected_dir.split('\"')[1]\n",
    "    del_dir = os.path.dirname(os.path.dirname(d))\n",
    "    if del_dir.startswith('notebooks'):\n",
    "        del_dir = os.path.dirname(del_dir)\n",
    "    confirm_label.value = 'Delete all files in %s ?' % del_dir\n",
    "    hbox.children = confirm_dialog\n",
    "    #qw.change_selection([])\n",
    "\n",
    "def del_project(_):\n",
    "    # confirmed. Delete it\n",
    "    \n",
    "    global del_dir\n",
    "    ok_but.disabled = True\n",
    "    cancel_but.disabled = True\n",
    "    del_button.disabled = True\n",
    "    \n",
    "    shutil.rmtree(del_dir)\n",
    "    qw.df = build_df()\n",
    "    del_dir = ''\n",
    "    hbox.children = [del_button]\n",
    "    qw.change_selection([])\n",
    "    \n",
    "def del_cancel(_):\n",
    "    # canceled delete\n",
    "    global del_dir\n",
    "    del_dir = ''\n",
    "    ok_but.disabled = True\n",
    "    cancel_but.disabled = True\n",
    "    del_button.disabled = True\n",
    "    hbox.children = [del_button]\n",
    "    qw.change_selection([])\n",
    "    \n",
    "ok_but.on_click(del_project)\n",
    "cancel_but.on_click(del_cancel)"
   ]
  },
  {
   "cell_type": "code",
   "execution_count": null,
   "metadata": {},
   "outputs": [],
   "source": [
    "def build_df():\n",
    "    files = glob.glob('Downloads/*/data/resourcemetadata.xml')\n",
    "    files.extend(glob.glob('notebooks/data/*/*/data/resourcemetadata.xml'))\n",
    "\n",
    "    data = {'Name': [],\n",
    "            'Date': [],\n",
    "            'Directory': [],\n",
    "            'Size (KB)': []\n",
    "           }\n",
    "\n",
    "    for f in files:\n",
    "        g = rdflib.Graph()\n",
    "        g.parse(f)\n",
    "        title='unknown'\n",
    "        for s,p,o in g:\n",
    "            if p.title().endswith('/Title'):\n",
    "                title = o.toPython()\n",
    "                break\n",
    "        _dir = os.path.dirname(f)\n",
    "        contents = os.path.join(_dir, 'contents')\n",
    "        content_files = glob.glob('%s/**' % contents, recursive=True)\n",
    "        size = int(sum(os.path.getsize(x) for x in content_files)/1024)\n",
    "        latest_file = max(content_files, key=os.path.getmtime)\n",
    "        ltime = time.strftime(\"%Y-%m-%d\", time.localtime(os.path.getmtime(latest_file)))\n",
    "        data['Name'].append(title)\n",
    "        data['Date'].append(ltime)\n",
    "        data['Directory'].append(contents)\n",
    "        data['Size (KB)'].append(size)\n",
    "        g.close()\n",
    "        \n",
    "    # change directory names into links\n",
    "    data['Directory'] = ['<a href=\"{}\" target=\"_blank\">{}</a>'.format(x,x) for x in data['Directory']]\n",
    "    df = pd.DataFrame.from_dict(data)\n",
    "    return df.set_index('Name')"
   ]
  },
  {
   "cell_type": "code",
   "execution_count": null,
   "metadata": {
    "extensions": {
     "jupyter_dashboards": {
      "version": 1,
      "views": {
       "grid_default": {},
       "report_default": {
        "hidden": true
       }
      }
     }
    }
   },
   "outputs": [],
   "source": [
    "hbox = HBox([del_button])\n",
    "df = build_df()\n",
    "qw = qgrid.show_grid(df, grid_options={'editable': False})\n",
    "display(qw)\n",
    "display(hbox)\n",
    "qw.on('selection_changed', select_cb)\n",
    "del_button.on_click(del_clicked)"
   ]
  }
 ],
 "metadata": {
  "extensions": {
   "jupyter_dashboards": {
    "activeView": "report_default",
    "version": 1,
    "views": {
     "grid_default": {
      "cellMargin": 10,
      "defaultCellHeight": 20,
      "maxColumns": 12,
      "name": "grid",
      "type": "grid"
     },
     "report_default": {
      "name": "report",
      "type": "report"
     }
    }
   }
  },
  "kernelspec": {
   "display_name": "Python3",
   "language": "python",
   "name": "python3"
  },
  "language_info": {
   "codemirror_mode": {
    "name": "ipython",
    "version": 3
   },
   "file_extension": ".py",
   "mimetype": "text/x-python",
   "name": "python",
   "nbconvert_exporter": "python",
   "pygments_lexer": "ipython3",
   "version": "3.6.5"
  },
  "tool": false
 },
 "nbformat": 4,
 "nbformat_minor": 2
}
