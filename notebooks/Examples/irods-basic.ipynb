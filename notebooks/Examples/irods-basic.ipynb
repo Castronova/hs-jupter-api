{
 "cells": [
  {
   "cell_type": "markdown",
   "metadata": {},
   "source": [
    "# Working with Large Files using iRODs\n",
    "\n",
    "When dealing with large resource files in HydroShare, the standard method for data transfer (HydroShare REST API) is not sufficient due to file size constrants.  This notebook introduces advanced methods for dealing with these large files using iRODs tools.  More specifically, this notebook demonstrates how to configure and use `iCommands` in Jupyter Notebooks to transfer and syncronize data in HydroShare. The commands that are used in this notebook are:\n",
    "\n",
    "**`ils`** : display data stored in iRODs  \n",
    "**`iget`** : retrieve data stored in iRODs  \n",
    "**`iput`** : move a data into iRODs  \n",
    "**`irsync`** : syncronize local and iRODs data  \n",
    "\n",
    "More information on these tools can be found in the iRODs [documentation](https://docs.irods.org/4.2.0/icommands/user/)\n",
    "\n",
    "\n",
    "Lets start by importing the `hydroshare` and `irods` modules"
   ]
  },
  {
   "cell_type": "code",
   "execution_count": null,
   "metadata": {},
   "outputs": [],
   "source": [
    "import os\n",
    "from utilities import hydroshare\n",
    "from utilities.irods import commands"
   ]
  },
  {
   "cell_type": "code",
   "execution_count": null,
   "metadata": {},
   "outputs": [],
   "source": [
    "hs = hydroshare.hydroshare()"
   ]
  },
  {
   "cell_type": "markdown",
   "metadata": {},
   "source": [
    "### Instantiate the iCommands library.  \n",
    "This will install and setup the iRODs icommands if they haven't already been configured.  The purpose of the this module is to provide a lightweight wrapper around the standard `icommands` to make integration within Jupyter notebooks easy.  However, the standard `icommands` can also be used via bash, e.g. `!ils`"
   ]
  },
  {
   "cell_type": "code",
   "execution_count": null,
   "metadata": {},
   "outputs": [],
   "source": [
    "i = commands.iCommands(hs)"
   ]
  },
  {
   "cell_type": "markdown",
   "metadata": {},
   "source": [
    "### List the files in your HydroShare iRODs userspace\n",
    "List all files in your HydroShare iRODs userspace.  For more information on how to use this iRODs userspace, see [HydroShare iRODs Setup](https://pages.hydroshare.org/creating-and-managing-resources/uploading-large-files-into-hydroshare/)"
   ]
  },
  {
   "cell_type": "code",
   "execution_count": null,
   "metadata": {},
   "outputs": [],
   "source": [
    "# call the ils function to retrieve files as a Python list\n",
    "files = i.ils()"
   ]
  },
  {
   "cell_type": "code",
   "execution_count": null,
   "metadata": {},
   "outputs": [],
   "source": [
    "for f in files:\n",
    "    print(f)"
   ]
  },
  {
   "cell_type": "markdown",
   "metadata": {},
   "source": [
    "Alternatively you can use `icommands` directly from bash."
   ]
  },
  {
   "cell_type": "code",
   "execution_count": null,
   "metadata": {},
   "outputs": [],
   "source": [
    "!ils"
   ]
  },
  {
   "cell_type": "markdown",
   "metadata": {},
   "source": [
    "Notice that the output from the Python command (`i.ils`) is slightly different from the bash command (`!ils`). This is because the irods Python module cleans the `ils` response and organizes it into a native Python list.  While either approach is valid, the Python module aims to make iRODs tools easy to use within Python notebooks."
   ]
  },
  {
   "cell_type": "markdown",
   "metadata": {},
   "source": [
    "### Get a file from HydroShare iRODs to work with in JupyterHub\n",
    "\n",
    "Before we can work with files in JupyterHub, they need to be transfered into the JupyterHub [userspace](/user/test/tree/notebooks/data).  We can use the `iget` command to perform a parallel transfer from HydroShare iRODs data into our JupyterHub userspace.  For instance, lets get the first file that was returned from the `ils` command above:"
   ]
  },
  {
   "cell_type": "code",
   "execution_count": null,
   "metadata": {},
   "outputs": [],
   "source": [
    "myfile = i.iget(files[0])"
   ]
  },
  {
   "cell_type": "code",
   "execution_count": null,
   "metadata": {},
   "outputs": [],
   "source": [
    "print(myfile)"
   ]
  },
  {
   "cell_type": "markdown",
   "metadata": {},
   "source": [
    "Now that we have our file in JupyterHub, we can begin our processing.  If the file is a hydroshare resource bagit, it can be loaded into `hydroshare` module for easier processing:"
   ]
  },
  {
   "cell_type": "code",
   "execution_count": null,
   "metadata": {},
   "outputs": [],
   "source": [
    "# get the resource id (minus the extension)\n",
    "resourceid = os.path.basename(myfile).split('.')[0]\n",
    "\n",
    "# load the resource into the hydroshare module\n",
    "hs.loadResource(resourceid)"
   ]
  },
  {
   "cell_type": "code",
   "execution_count": null,
   "metadata": {
    "collapsed": true
   },
   "outputs": [],
   "source": []
  },
  {
   "cell_type": "code",
   "execution_count": null,
   "metadata": {
    "code_folding": [],
    "collapsed": true
   },
   "outputs": [],
   "source": [
    "# do something with the files"
   ]
  },
  {
   "cell_type": "code",
   "execution_count": null,
   "metadata": {
    "collapsed": true
   },
   "outputs": [],
   "source": []
  },
  {
   "cell_type": "markdown",
   "metadata": {},
   "source": [
    "### Syncronize files \n",
    "File can syncronized between JupyterHub and Hydroshare iRods using the `irsync` command.  A wrapper has been provided to make this easy to use outside of bash, but the native command can still be used `!irsync`.\n",
    "\n",
    "To demonstrate the `irsync` command, lets start by creating a simple text file using bash:"
   ]
  },
  {
   "cell_type": "code",
   "execution_count": null,
   "metadata": {},
   "outputs": [],
   "source": [
    "# print some text into a new file\n",
    "!echo \"this is some text\" > testfile"
   ]
  },
  {
   "cell_type": "code",
   "execution_count": null,
   "metadata": {},
   "outputs": [],
   "source": [
    "# preview the testfile\n",
    "!cat testfile"
   ]
  },
  {
   "cell_type": "markdown",
   "metadata": {},
   "source": [
    "Syncronize this file with the HydroShare iRODs server.  Several additional parameters have been provided, such as as `dryrun` which allows you to preview the syncronization before it's executed:"
   ]
  },
  {
   "cell_type": "code",
   "execution_count": null,
   "metadata": {
    "code_folding": []
   },
   "outputs": [],
   "source": [
    "i.irsync('testfile', 'testfile', dryrun=True)"
   ]
  },
  {
   "cell_type": "markdown",
   "metadata": {},
   "source": [
    "Additionally, we can control the direction of syncronization using the `source_irods` and `target_irods` parameters.  To demonstrate this, lets first make a change to our testfile on the JupterHub server."
   ]
  },
  {
   "cell_type": "code",
   "execution_count": null,
   "metadata": {},
   "outputs": [],
   "source": [
    "# append some more text our file\n",
    "!echo '\\nthis is some additional text' >> testfile"
   ]
  },
  {
   "cell_type": "code",
   "execution_count": null,
   "metadata": {},
   "outputs": [],
   "source": [
    "# preview the testfile\n",
    "!cat testfile"
   ]
  },
  {
   "cell_type": "markdown",
   "metadata": {},
   "source": [
    "Now our testfile in JupyterHub is out of sync with the version on HydroShare iRODs.  Lets revert our JupyterHub version back to that of the HydroShare iRODs version using the `irsync` command in the reverse direction"
   ]
  },
  {
   "cell_type": "code",
   "execution_count": null,
   "metadata": {},
   "outputs": [],
   "source": [
    "i.irsync('testfile', 'testfile', \n",
    "         source_irods=True, target_irods=False,\n",
    "         dryrun=True)"
   ]
  },
  {
   "cell_type": "code",
   "execution_count": null,
   "metadata": {},
   "outputs": [],
   "source": [
    "# preview the testfile\n",
    "!cat testfile"
   ]
  }
 ],
 "metadata": {
  "gist": {
   "data": {
    "description": "Untitled.ipynb",
    "public": false
   },
   "id": ""
  },
  "kernelspec": {
   "display_name": "Python 3",
   "language": "python",
   "name": "python3"
  },
  "language_info": {
   "codemirror_mode": {
    "name": "ipython",
    "version": 3
   },
   "file_extension": ".py",
   "mimetype": "text/x-python",
   "name": "python",
   "nbconvert_exporter": "python",
   "pygments_lexer": "ipython3",
   "version": "3.5.3"
  },
  "notify_time": "30"
 },
 "nbformat": 4,
 "nbformat_minor": 2
}
