{
 "cells": [
  {
   "cell_type": "markdown",
   "metadata": {},
   "source": [
    "# WaterML R Package Tutorial\n",
    "\n",
    "Author: Jiri Kadlec  \n",
    "Last Updated: 03-17-2016  \n"
   ]
  },
  {
   "cell_type": "markdown",
   "metadata": {},
   "source": [
    "This tutorial introduces the WaterML R package by demonstrating how to retrieve data from the Hydrologic Information System and perform statistical analysis using the R programming language."
   ]
  },
  {
   "cell_type": "markdown",
   "metadata": {},
   "source": [
    "## 1. HIS Data Access\n",
    "\n",
    "\n",
    "Load the required libraries, i.e. WaterML for accessing CUAHSI HIS data. The package can be found in the [CRAN](https://cran.r-project.org/web/packages/available_packages_by_name.html) package repository."
   ]
  },
  {
   "cell_type": "code",
   "execution_count": null,
   "metadata": {},
   "outputs": [],
   "source": [
    "#import required libraries\n",
    "library(WaterML)"
   ]
  },
  {
   "cell_type": "markdown",
   "metadata": {},
   "source": [
    "Find the CUAHSI HIS services from the HIS Central catalogue. The list of available services registered in HIS Central is also published here: http://hiscentral.cuahsi.org/pub_services.aspx. The GetServices() function returns a table with the URL, description, and citation of each service."
   ]
  },
  {
   "cell_type": "code",
   "execution_count": null,
   "metadata": {},
   "outputs": [],
   "source": [
    "#get the list of supported CUAHSI HIS services\n",
    "services <- GetServices()"
   ]
  },
  {
   "cell_type": "markdown",
   "metadata": {},
   "source": [
    "Define the CUAHSI HIS service that you are connecting to by giving the URL to that service’s WSDL file. This example uses a service from the Ipswich River Watershed Association:  http://hydroportal.cuahsi.org/ipswich/cuahsi_1_1.asmx?WSDL that enlists volunteers to collect data on the health of the Ipswich River and its tributaries in Massachusetts, USA. We can use the  GetVariables() and GetSites() functions to get the tables of variables and sites on the server."
   ]
  },
  {
   "cell_type": "code",
   "execution_count": null,
   "metadata": {},
   "outputs": [],
   "source": [
    "# point to an CUAHSI HIS service and get a list of the variables and sites\n",
    "server <- \"http://hydroportal.cuahsi.org/ipswich/cuahsi_1_1.asmx?WSDL\"\n",
    "variables <- GetVariables(server)\n",
    "sites <- GetSites(server)"
   ]
  },
  {
   "cell_type": "markdown",
   "metadata": {},
   "source": [
    "Next we will select one site and find which variables are measured at that site. In this example we choose the site “Fish Brook, Brookview Rd, Boxford” with the full site code “IRWA:FB-BV”. Note that you can learn more about the variables at this site viewing the SiteInfo data table in RStudio."
   ]
  },
  {
   "cell_type": "code",
   "execution_count": null,
   "metadata": {},
   "outputs": [],
   "source": [
    "siteinfo <- GetSiteInfo(server, \"IRWA:FB-BV\")"
   ]
  },
  {
   "cell_type": "markdown",
   "metadata": {},
   "source": [
    "Now we will get the data values using the GetValues method for two variables at the site: water temperature (full variable code IRWA:Temp) and dissolved oxygen (full variable code IRWA:DO). In this example we get the values for all available days. Note that we can also use the startDate and endDate parameters to restrict the time period of interest. To get help on the GetValues function, you can type  ?GetValues in the R console. Note that for this particular site there are 21 Temperature and 22 dissolved oxygen observations."
   ]
  },
  {
   "cell_type": "code",
   "execution_count": null,
   "metadata": {},
   "outputs": [],
   "source": [
    "# get full site info for all sites using the GetSiteInfo method\n",
    "Temp <- GetValues(server,siteCode=\"IRWA:FB-BV\",variableCode=\"IRWA:Temp\")\n",
    "DO <- GetValues(server, siteCode=\"IRWA:FB-BV\",variableCode=\"IRWA:DO\")"
   ]
  },
  {
   "cell_type": "markdown",
   "metadata": {},
   "source": [
    "## 2. Data Analysis and Visualization Using R"
   ]
  },
  {
   "cell_type": "markdown",
   "metadata": {},
   "source": [
    "Plot the time series of temperature and dissolved oxygen. We use the plot function for the new water temperature plot and we use the points() function for adding the dissolved oxygen data points to the existing plot."
   ]
  },
  {
   "cell_type": "code",
   "execution_count": null,
   "metadata": {},
   "outputs": [],
   "source": [
    "plot(DataValue~time, data=Temp, col=\"red\")\n",
    "points(DataValue~time, data=DO, col=\"blue\")"
   ]
  },
  {
   "cell_type": "markdown",
   "metadata": {},
   "source": [
    "Note that the “time” represents the local time, and “DateTimeUTC” represents the UTC time. The “DateTimeUTC” columns are in POSIXct format. POSIXct is a special format in R for storing date and time. POSIXct represents the number of seconds since the beginning of 1970. You can use the strftime function to get the year, month, day, hour, minute and second corresponding to each time as shown below:"
   ]
  },
  {
   "cell_type": "code",
   "execution_count": null,
   "metadata": {},
   "outputs": [],
   "source": [
    "years <- strftime(DO$time, \"%Y\")\n",
    "months <- strftime(DO$time, \"%m\")\n",
    "days <- strftime(DO$time, \"%d\")\n",
    "hours <- strftime(DO$time, \"%h\")\n",
    "minutes <- strftime(DO$time, \"%M\")\n",
    "seconds <- strftime(DO$time, \"%s\")"
   ]
  },
  {
   "cell_type": "markdown",
   "metadata": {},
   "source": [
    "Create a merged table with columns: Time, DO (Dissolved Oxygen) and Temp (Temperature). We can create this table using the merge function based on the time column. Note that we renamed the automatically assigned column names in the merged table from DataValue.x to “DO” and from DataValue.y to “Temp”."
   ]
  },
  {
   "cell_type": "code",
   "execution_count": null,
   "metadata": {},
   "outputs": [],
   "source": [
    "#merge our two tables based on the time column\n",
    "data <- merge(DO, Temp, by=\"time\")\n",
    "#rename the column DataValue.x in the merged table to \"DO\"\n",
    "names(data)[names(data)==\"DataValue.x\"] <- \"DO\"\n",
    "#rename the column DataValue.y in the merged table to \"Temp\"\n",
    "names(data)[names(data)==\"DataValue.y\"] <- \"Temp\""
   ]
  },
  {
   "cell_type": "markdown",
   "metadata": {},
   "source": [
    "Now you can plot the data as scatter plot of dissolved oxygen concentration versus temperature. We can also fit a linear regression model to see if there's a relationship between water temperature and dissolved oxygen concentration at this site."
   ]
  },
  {
   "cell_type": "code",
   "execution_count": null,
   "metadata": {},
   "outputs": [],
   "source": [
    "# Perform a linear regression on the dissolved oxygen vs. temperature values\n",
    "plot(DO~Temp, data=data)\n",
    "model <- lm(DO~Temp, data=data)\n",
    "abline(model)\n",
    "summary(model)"
   ]
  },
  {
   "cell_type": "markdown",
   "metadata": {},
   "source": [
    "The code above creates two outputs. First, it outputs the results from the regression analysis. From these results, there appears to be a significant negative linear relationship between water temperature and dissolved oxygen at this site.  Second, it creates a scatter plot of dissolved oxygen concentration versus water temperature with the linear regression line."
   ]
  },
  {
   "cell_type": "markdown",
   "metadata": {},
   "source": [
    "## 3. Summary"
   ]
  },
  {
   "cell_type": "markdown",
   "metadata": {},
   "source": [
    "This tutorial shows how you can use the WaterML library in R to access data from a CUAHSI HIS web service directly within R without the need to first download data to your local computer. While this was demonstrated for a data service hosted by Ipswich River Watershed Association, the WaterML R package can be used to access data from any compliant CUAHSI HIS web service including the 100+ data services listed on the HIS Central website."
   ]
  },
  {
   "cell_type": "markdown",
   "metadata": {},
   "source": [
    "## 4. Additional Notes\n",
    "\n",
    "For additional information on the tutorial and the WaterML R Package, please refer to:\n",
    "\n",
    "Jiri Kadlec, Bryn StClair, Daniel P.Ames, Richard A. Gill (2015). WaterML R package for managing ecological experiment data on a CUAHSI HydroServer. Ecological Informatics, 28, 19-28. http://www.sciencedirect.com/science/article/pii/S1574954115000801"
   ]
  }
 ],
 "metadata": {
  "kernelspec": {
   "display_name": "R 3.4",
   "language": "R",
   "name": "ir34"
  },
  "language_info": {
   "codemirror_mode": "r",
   "file_extension": ".r",
   "mimetype": "text/x-r-source",
   "name": "R",
   "pygments_lexer": "r",
   "version": "3.4.1"
  }
 },
 "nbformat": 4,
 "nbformat_minor": 2
}
