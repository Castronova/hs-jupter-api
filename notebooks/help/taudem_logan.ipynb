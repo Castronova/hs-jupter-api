{
 "cells": [
  {
   "cell_type": "markdown",
   "metadata": {},
   "source": [
    "\n",
    "<img src=\"http://hydrology.usu.edu/images/taudem5logo.gif\" style=\"float:left;width:300px;padding:20px\">       \n",
    "\n",
    "\n",
    "# TauDEM Raster Processing Notebook\n",
    "\n",
    "This notebook demonstrates basic watershed processing on using the TauDEM library.  For more information about TauDEM, see http://hydrology.usu.edu/taudem/taudem5/\n"
   ]
  },
  {
   "cell_type": "markdown",
   "metadata": {},
   "source": [
    "## Script Setup"
   ]
  },
  {
   "cell_type": "code",
   "execution_count": null,
   "metadata": {
    "collapsed": false
   },
   "outputs": [],
   "source": [
    "# import required libaries for geoprocessing\n",
    "%matplotlib inline\n",
    "import os\n",
    "import shutil\n",
    "import hs_utils\n",
    "import taudem\n",
    "\n",
    "# create an instance of the hydroshare rest interface\n",
    "hs = hs_utils.hydroshare()"
   ]
  },
  {
   "cell_type": "markdown",
   "metadata": {},
   "source": [
    "### Retrieve a raster resource using its ID\n",
    "\n",
    "The raster resouce id can be found by navigating to a resource in HydroShare and selecting the ID from the URL."
   ]
  },
  {
   "cell_type": "code",
   "execution_count": null,
   "metadata": {
    "collapsed": false
   },
   "outputs": [],
   "source": [
    "# get some resource content. The resource content is returned as a dictionary\n",
    "content = hs.getResourceFromHydroShare(os.environ['HS_RES_ID'])"
   ]
  },
  {
   "cell_type": "markdown",
   "metadata": {},
   "source": [
    "\n",
    "### Prepare a directory for output files"
   ]
  },
  {
   "cell_type": "code",
   "execution_count": null,
   "metadata": {
    "collapsed": false
   },
   "outputs": [],
   "source": [
    "# prepare a clean workspace for TauDEM output files\n",
    "data_directory = taudem.create_workspace('logan')   "
   ]
  },
  {
   "cell_type": "markdown",
   "metadata": {},
   "source": [
    "---\n",
    "\n",
    "\n",
    "##  Raster Processing\n",
    "\n",
    "The following operations demonstrate how TauDEM can be used to perform basic raster processes. \n",
    "http://hydrology.usu.edu/taudem/taudem5/TauDEM53CommandLineGuide.pdf"
   ]
  },
  {
   "cell_type": "markdown",
   "metadata": {},
   "source": [
    "### 1. View the Raw DEM"
   ]
  },
  {
   "cell_type": "code",
   "execution_count": null,
   "metadata": {
    "collapsed": false
   },
   "outputs": [],
   "source": [
    "# display the raw dem\n",
    "raw_dem_path = hs.content['logan.tif']\n",
    "taudem.plot_tiff(raw_dem_path)"
   ]
  },
  {
   "cell_type": "markdown",
   "metadata": {},
   "source": [
    "### 2. Remove DEM Pits"
   ]
  },
  {
   "cell_type": "code",
   "execution_count": null,
   "metadata": {
    "collapsed": false
   },
   "outputs": [],
   "source": [
    "# Fill the DEM Pits\n",
    "\n",
    "# set the output paths\n",
    "fill = os.path.join(data_directory, 'loganfel.tif')\n",
    "cmd = 'pitremove -z %s -fel %s' % (raw_dem_path, fill)\n",
    "taudem.run_cmd(cmd, processors=4)"
   ]
  },
  {
   "cell_type": "markdown",
   "metadata": {
    "collapsed": false
   },
   "source": [
    "### 3. Calculate Flow Directions"
   ]
  },
  {
   "cell_type": "code",
   "execution_count": null,
   "metadata": {
    "collapsed": false
   },
   "outputs": [],
   "source": [
    "#####################\n",
    "# D8 Flow Direction #\n",
    "#####################\n",
    "\n",
    "# set the output paths \n",
    "fdr = os.path.join(data_directory, 'fdr.tif')  # flowdir\n",
    "sd8 = os.path.join(data_directory, 'sd8.tif')  # slope\n",
    "\n",
    "cmd = 'd8flowdir -fel %s -sd8 %s -p %s' % (fill, sd8, fdr)\n",
    "taudem.run_cmd(cmd, processors=4)\n"
   ]
  },
  {
   "cell_type": "code",
   "execution_count": null,
   "metadata": {
    "collapsed": false
   },
   "outputs": [],
   "source": [
    "#######################\n",
    "# DInf Flow direction #\n",
    "#######################\n",
    "\n",
    "# set the output paths \n",
    "ang = os.path.join(data_directory, 'loganang.tif')  # flow angle\n",
    "slp = os.path.join(data_directory, 'loganslp.tif')  # flow slope\n",
    "\n",
    "cmd = 'dinfflowdir -fel %s -ang %s -slp %s' % (fill, ang, slp)\n",
    "taudem.run_cmd(cmd, processors=4)\n"
   ]
  },
  {
   "cell_type": "markdown",
   "metadata": {},
   "source": [
    "#### Plot the Results"
   ]
  },
  {
   "cell_type": "code",
   "execution_count": null,
   "metadata": {
    "collapsed": false
   },
   "outputs": [],
   "source": [
    "taudem.plot_tiff(tiff=[fdr, ang], title=['D8 Flow Direction', 'DInf Flow Angle'])\n",
    "taudem.plot_tiff(tiff=[sd8, slp], title=['D8 Slope', 'DInf Slope'])"
   ]
  },
  {
   "cell_type": "markdown",
   "metadata": {
    "collapsed": false
   },
   "source": [
    "### 4. Calculate Contributing Area"
   ]
  },
  {
   "cell_type": "code",
   "execution_count": null,
   "metadata": {
    "collapsed": false
   },
   "outputs": [],
   "source": [
    "########################\n",
    "# D8 Contributing Area #\n",
    "########################\n",
    "\n",
    "# set the output paths\n",
    "ad8 = os.path.join(data_directory, 'loganad8.tif')  # D8 contributing area\n",
    "\n",
    "# build the taudem command\n",
    "cmd = 'aread8 -p %s -ad8 %s' % (fdr, ad8)\n",
    "# -p:   D8 flow direction output file   \n",
    "# -ad8: D8 contributing area file (output)  \n",
    "\n",
    "# run the command\n",
    "taudem.run_cmd(cmd, processors=4)"
   ]
  },
  {
   "cell_type": "code",
   "execution_count": null,
   "metadata": {
    "collapsed": false
   },
   "outputs": [],
   "source": [
    "##########################\n",
    "# DInf Contributing Area #\n",
    "##########################\n",
    "\n",
    "# set the output paths\n",
    "sca = os.path.join(data_directory, 'logansca.tif')  # D-Infinity contributing area\n",
    "\n",
    "# build the taudem command\n",
    "cmd = 'areadinf -ang %s -sca %s' % (ang, sca)                         \n",
    "# -ang: D-infinity flow direction input file.                                  \n",
    "# -sca: D-infinity area output file.                                             \n",
    "\n",
    "# run the command\n",
    "taudem.run_cmd(cmd, processors=4)"
   ]
  },
  {
   "cell_type": "markdown",
   "metadata": {},
   "source": [
    "Download another resource from HydroShare that contains the outlet location of the Logan watershed.  This resource is located at the following address [https://www.hydroshare.org/resource/1461c298e8594eb48d28e317f400c728/](https://www.hydroshare.org/resource/1461c298e8594eb48d28e317f400c728/)"
   ]
  },
  {
   "cell_type": "code",
   "execution_count": null,
   "metadata": {
    "collapsed": false
   },
   "outputs": [],
   "source": [
    "# connect with HydroShare and download the Logan Outlet resource\n",
    "content = hs.getResourceFromHydroShare('0f7489e2ab8e4ad18f7ae1d46e66163d')\n",
    "\n",
    "# unzip the content for this resource\n",
    "import zipfile\n",
    "zip_ref = zipfile.ZipFile(hs.content['LoganOutlet.zip'], 'r')\n",
    "zip_ref.extractall(data_directory)\n",
    "for f in zip_ref.infolist():\n",
    "    # add the path to the hs.content variable\n",
    "    filepath = os.path.join(data_directory, f.filename)\n",
    "    hs.content[f.filename] = filepath\n",
    "zip_ref.close()\n",
    "\n",
    "# print the content files as a dictionary\n",
    "import hs_utils\n",
    "hs_utils.display_resource_content_files(hs.content, text='Below are the files that have been loaded into memory:')\n"
   ]
  },
  {
   "cell_type": "code",
   "execution_count": null,
   "metadata": {
    "collapsed": false
   },
   "outputs": [],
   "source": [
    "###################################################################\n",
    "# D8 Contributing Area - Upslope of outlets defined by outlet.shp #\n",
    "###################################################################\n",
    "\n",
    "# set the output paths\n",
    "ad8o = os.path.join(data_directory, 'loganad8o.tif')  # Contributing area upslope from outlet\n",
    "outlet = hs.content['logan_Outletmv.shp']  # outlet shapefile from hydroshare resource\n",
    "\n",
    "# build the taudem command\n",
    "cmd = 'aread8 -p %s -o %s -ad8 %s' % (fdr, outlet, ad8o)\n",
    "# -p:   D8 flow direction output file \n",
    "# -o:   outlet shapefile.   \n",
    "# -ad8: D8 contributing area file (output)  \n",
    "\n",
    "# run the command\n",
    "taudem.run_cmd(cmd, processors=4)"
   ]
  },
  {
   "cell_type": "markdown",
   "metadata": {},
   "source": [
    "#### Plot the Results"
   ]
  },
  {
   "cell_type": "code",
   "execution_count": null,
   "metadata": {
    "collapsed": false
   },
   "outputs": [],
   "source": [
    "# plot the contributing area result\n",
    "taudem.plot_tiff(tiff=[ad8, sca, ad8o], \n",
    "                 title=['D8 Contributing Area', \n",
    "                        'DInf Contributing Area',\n",
    "                        'D8 Contributing Area from Outlet'])"
   ]
  },
  {
   "cell_type": "markdown",
   "metadata": {},
   "source": [
    "### 5. Calculate Grid Network"
   ]
  },
  {
   "cell_type": "code",
   "execution_count": null,
   "metadata": {
    "collapsed": false
   },
   "outputs": [],
   "source": [
    "###############\n",
    "# Grid Netork #\n",
    "###############\n",
    "\n",
    "# set the output paths\n",
    "plen = os.path.join(data_directory, 'loganplen.tif')  # Longest flow path\n",
    "tlen = os.path.join(data_directory, 'logantlen.tif')  # Total flow path length\n",
    "gord = os.path.join(data_directory, 'logangord.tif')  # Grid network order\n",
    "\n",
    "# build the taudem command\n",
    "cmd = 'gridnet -p %s -plen %s -tlen %s -gord %s' % (fdr, plen, tlen, gord)                           \n",
    "# -p:     D8 flow direction input file.                                            \n",
    "# -plen:  the longest flow length upstream of each point (output)\n",
    "# -tlen:  the total path length upstream of each point (output)                 \n",
    "# -gord:  the grid of strahler order (output)                            \n",
    "            \n",
    "# run the command\n",
    "taudem.run_cmd(cmd, processors=4)\n"
   ]
  },
  {
   "cell_type": "markdown",
   "metadata": {},
   "source": [
    "#### Plot the Results"
   ]
  },
  {
   "cell_type": "code",
   "execution_count": null,
   "metadata": {
    "collapsed": false
   },
   "outputs": [],
   "source": [
    "# plot the results\n",
    "taudem.plot_tiff(tiff=[plen, tlen, gord],\n",
    "                title=['Longest Flow Path',\n",
    "                       'Total Flow Path Length',\n",
    "                       'Grid Network'])\n"
   ]
  },
  {
   "cell_type": "markdown",
   "metadata": {},
   "source": [
    "\n",
    "### 6. Calculate Peuker Douglas "
   ]
  },
  {
   "cell_type": "code",
   "execution_count": null,
   "metadata": {
    "collapsed": false
   },
   "outputs": [],
   "source": [
    "##################\n",
    "# Peuker Douglas #\n",
    "##################\n",
    "\n",
    "# set the output paths\n",
    "ss = os.path.join(data_directory, 'loganss.tif')  # Stream network skeleton\n",
    "\n",
    "# build the taudem command\n",
    "cmd = 'peukerdouglas -fel %s -ss %s' % (fill, ss) \n",
    "\n",
    "# run the command\n",
    "taudem.run_cmd(cmd, processors=4)\n"
   ]
  },
  {
   "cell_type": "markdown",
   "metadata": {},
   "source": [
    "#### Plot the Results"
   ]
  },
  {
   "cell_type": "code",
   "execution_count": null,
   "metadata": {
    "collapsed": false
   },
   "outputs": [],
   "source": [
    "# plot the results\n",
    "taudem.plot_tiff(tiff=ss, title='Stream Network Skeleton')"
   ]
  },
  {
   "cell_type": "markdown",
   "metadata": {},
   "source": [
    "### 7. PeukerDouglas stream delineation"
   ]
  },
  {
   "cell_type": "code",
   "execution_count": null,
   "metadata": {
    "collapsed": true
   },
   "outputs": [],
   "source": [
    "# set the output paths\n",
    "ssa = os.path.join(data_directory, 'loganssa.tif')  \n",
    "drp = os.path.join(data_directory, 'logandrp.txt')  \n",
    "src = os.path.join(data_directory, 'logansrc.tif') "
   ]
  },
  {
   "cell_type": "code",
   "execution_count": null,
   "metadata": {
    "collapsed": false
   },
   "outputs": [],
   "source": [
    "########################\n",
    "# Contributing Area D8 #\n",
    "########################\n",
    "\n",
    "# build the taudem command\n",
    "cmd = 'aread8 -p %s -o %s -ad8 %s -wg %s' % (fdr, outlet, ssa ,ss) \n",
    "# -p:   D8 flow direction output file \n",
    "# -o:   the optional outlet shape input file.   \n",
    "# -ad8: D8 contributing area file (output)  \n",
    "# -wg:  is the optional weight grid input file. \n",
    "\n",
    "# run the command\n",
    "taudem.run_cmd(cmd, processors=4)"
   ]
  },
  {
   "cell_type": "code",
   "execution_count": null,
   "metadata": {
    "collapsed": false
   },
   "outputs": [],
   "source": [
    "########################\n",
    "# Stream Drop Analysis #\n",
    "########################\n",
    "\n",
    "# build the taudem command\n",
    "cmd = 'dropanalysis -p %s -fel %s -ad8 %s -ssa %s -drp %s -o %s -par 5 500 10 0' \\\n",
    "       % (fdr, fill, ad8, ssa, drp, outlet)        \n",
    "# -ad8: input contributing area file used in calculations of drainage density. \n",
    "# -p:   input D8 flow directions file.  \n",
    "# -fel: input elevation file.   \n",
    "# -ssa: accumulated stream source file \n",
    "# -drp: a text file for drop analysis tabular output \n",
    "# -o:   the shapefile containing input outlets  \n",
    "# -par: <lower bound> <upper bound> <number of threshholds> <steptype> (0=log, 1=arithmetic)\n",
    "\n",
    "# run the command\n",
    "taudem.run_cmd(cmd, processors=4)"
   ]
  },
  {
   "cell_type": "code",
   "execution_count": null,
   "metadata": {
    "collapsed": false
   },
   "outputs": [],
   "source": [
    "####################\n",
    "# Drop Thesholding #\n",
    "####################\n",
    "\n",
    "# build the taudem command\n",
    "cmd = 'threshold -ssa %s -src %s -thresh 300' % (ssa, src)  \n",
    "# -ssa:    the file to be thresholded                                             \n",
    "# -src:    the name of file with the thresholded output     \n",
    "# -thresh: the value of the threshold  \n",
    "\n",
    "# run the command\n",
    "taudem.run_cmd(cmd, processors=4)"
   ]
  },
  {
   "cell_type": "markdown",
   "metadata": {},
   "source": [
    "#### View the Results"
   ]
  },
  {
   "cell_type": "code",
   "execution_count": null,
   "metadata": {
    "collapsed": false
   },
   "outputs": [],
   "source": [
    "# view the results\n",
    "with open(drp, 'r') as f:\n",
    "    text = f.readlines()\n",
    "    for line in text:\n",
    "        print(line)\n",
    "\n",
    "taudem.plot_tiff(tiff=[src], title=['Threshold Streams'])"
   ]
  },
  {
   "cell_type": "markdown",
   "metadata": {},
   "source": [
    "---\n",
    "### 8. Stream Network "
   ]
  },
  {
   "cell_type": "code",
   "execution_count": null,
   "metadata": {
    "collapsed": true
   },
   "outputs": [],
   "source": [
    "# set the output paths\n",
    "order = os.path.join(data_directory, 'loganord3.tif')  \n",
    "tree = os.path.join(data_directory, 'logantree.dat')  \n",
    "coord = os.path.join(data_directory, 'logancoord.dat') \n",
    "net = os.path.join(data_directory, 'logannet.shp') \n",
    "watershed = os.path.join(data_directory, 'loganw.tif') "
   ]
  },
  {
   "cell_type": "code",
   "execution_count": null,
   "metadata": {
    "collapsed": false
   },
   "outputs": [],
   "source": [
    "##################\n",
    "# Stream Network #\n",
    "##################\n",
    "\n",
    "# build the taudem command \n",
    "cmd = 'streamnet -fel %s -p %s -ad8 %s -src %s -ord %s -tree %s -coord %s -net %s -w %s -o %s' \\\n",
    "       % (fill, fdr, ad8, src, order, tree, coord, net, watershed, outlet)\n",
    "# -fel: pit filled elevation\n",
    "# -p:  D8 flow direction grid\n",
    "# -ad8: D8 drainage area\n",
    "# -src: stream raster grid\n",
    "# -o: watershed outlet shapefile\n",
    "# -ord: stream order grid (output)\n",
    "# -tree: network connectivity tree (output)\n",
    "# -coord: network coordinates (output)\n",
    "# -net: stream reach shapefile (output)\n",
    "# -w: watershed grid (output)\n",
    "\n",
    "# run the command\n",
    "taudem.run_cmd(cmd, processors=4)"
   ]
  },
  {
   "cell_type": "markdown",
   "metadata": {},
   "source": [
    "#### View the Results"
   ]
  },
  {
   "cell_type": "code",
   "execution_count": null,
   "metadata": {
    "collapsed": false
   },
   "outputs": [],
   "source": [
    "# plot the results\n",
    "taudem.plot_tiff(watershed)"
   ]
  },
  {
   "cell_type": "markdown",
   "metadata": {},
   "source": [
    "---\n",
    "## Save the results back into HydroShare\n",
    "\n",
    "Using the HydroShare rest api, you can create a new resource in HydroShare from a content file."
   ]
  },
  {
   "cell_type": "code",
   "execution_count": null,
   "metadata": {
    "collapsed": false
   },
   "outputs": [],
   "source": [
    "# save this file as a new resource\n",
    "# lets save this content as a new resource in HydroShare\n",
    "title = 'DEM derived Logan data'\n",
    "abstract = 'This a group of files that were derived from the Logan River watershed.'\n",
    "keywords = ['Demo', 'JupyterHub', 'TauDEM', 'Logan', 'Geoprocessing']\n",
    "rtype = 'genericresource'\n",
    "files = [hs.content['logan.tif'],    # input DEM for Logan Watershed\n",
    "         hs.content['taudem_logan.ipynb'], # this notebook\n",
    "         fill, # pit fill dem\n",
    "         fdr,  # D8 flow direction\n",
    "         sd8,  # D8 slope?\n",
    "         ad8,  # D8 contributing area\n",
    "         watershed, # watershed grid\n",
    "         order, # stream order grid\n",
    "         hs.content['LoganOutlet.zip']]  \n",
    "\n",
    "# create a hydroshare resource containing these data\n",
    "resource_id = hs.createHydroShareResource(abstract, \n",
    "                                          title, \n",
    "                                          derivedFromId=os.environ['HS_RES_ID'],\n",
    "                                          keywords=keywords, \n",
    "                                          resource_type=rtype, \n",
    "                                          content_files=files, \n",
    "                                          public=False)"
   ]
  }
 ],
 "metadata": {
  "kernelspec": {
   "display_name": "Python 3",
   "language": "python",
   "name": "python3"
  },
  "language_info": {
   "codemirror_mode": {
    "name": "ipython",
    "version": 3
   },
   "file_extension": ".py",
   "mimetype": "text/x-python",
   "name": "python",
   "nbconvert_exporter": "python",
   "pygments_lexer": "ipython3",
   "version": "3.5.2"
  },
  "widgets": {
   "state": {},
   "version": "1.1.2"
  }
 },
 "nbformat": 4,
 "nbformat_minor": 0
}
