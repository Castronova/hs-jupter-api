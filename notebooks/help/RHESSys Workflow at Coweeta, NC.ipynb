{
 "cells": [
  {
   "cell_type": "markdown",
   "metadata": {},
   "source": [
    "### Coweeta, NC RHESSys workflow\n",
    "\n",
    "US Forest Service WS18 is a 12.3ha, mixed hardwood-oak, control catchment that’s been undisturbed since 1927.\n",
    "\n",
    "\n",
    "RHESSysWorkflows provides a series of Python tools for performing [RHESSys](https://github.com/RHESSys/RHESSys) data preparation workflows. These tools build on the workflow system defined by [EcohydroLib](https://github.com/selimnairb/EcohydroLib) and [RHESSysWorkflows](https://github.com/selimnairb/RHESSysWorkflows).\n",
    "\n",
    "This notebook is built on RHESSys sample workflow. Not all steps are documented. Here we focus on explaining new or modifications.\n",
    "\n",
    "Users interested in seeing step outputs, remove **output = ** from the command line.\n"
   ]
  },
  {
   "cell_type": "code",
   "execution_count": null,
   "metadata": {
    "collapsed": true
   },
   "outputs": [],
   "source": [
    "import os\n",
    "import logging\n",
    "import hs_utils\n",
    "from rhessys_wf import *\n",
    "%matplotlib inline"
   ]
  },
  {
   "cell_type": "code",
   "execution_count": null,
   "metadata": {
    "collapsed": false
   },
   "outputs": [],
   "source": [
    "w = RHESSysWorkflow(project_name='coweeta_ncV3', \n",
    "                    gageid='custom',\n",
    "                    start_date='2008-01-01',\n",
    "                    end_date='2010-01-01'\n",
    "                    )"
   ]
  },
  {
   "cell_type": "markdown",
   "metadata": {},
   "source": [
    "### Retrieve Coweeta, NC data from HydroShare Resource\n",
    "\n",
    "### Step 1 of 3\n",
    "\n",
    "The first step to retrieve a resource from HydroShare is to create a HydroShare connection as follows:"
   ]
  },
  {
   "cell_type": "code",
   "execution_count": null,
   "metadata": {
    "collapsed": false
   },
   "outputs": [],
   "source": [
    "hs = hs_utils.hydroshare()"
   ]
  },
  {
   "cell_type": "markdown",
   "metadata": {},
   "source": [
    "### Step 2 of 3\n",
    "\n",
    "Dr. Laurence Lin from UNC Institute for the Environment\n",
    "has prepared a HydroShare Resource for **Coweeta, NC** [(RHESSys (5.20) watershed 18, Coweeta, NC)](https://www.hydroshare.org/resource/c397f68fbc9847d6a717b0a2c2fe7671/) \n",
    "\n",
    "If you follow the web link, or move your mouse cursor over the above web link, you will note the web link has nas numbers and text after **https://www.hydroshare.org/resource/**. This text string is a resource id. Here the resource id is **c397f68fbc9847d6a717b0a2c2fe7671** and is needed to retrieve the resource prepared by Dr. Laurence Lin."
   ]
  },
  {
   "cell_type": "code",
   "execution_count": null,
   "metadata": {
    "collapsed": false
   },
   "outputs": [],
   "source": [
    "resource_id = 'c397f68fbc9847d6a717b0a2c2fe7671'\n",
    "# get ETV data bundle for this tutotial stored on HydroShare\n",
    "content = hs.getResourceFromHydroShare(resource_id)"
   ]
  },
  {
   "cell_type": "markdown",
   "metadata": {},
   "source": [
    "### Step 3 of 3\n",
    "\n",
    "After the resource has finished downloading, the next step is to unzip the folder in your workspace.\n",
    "We know the name of the zipped file \"ws18.zip\" from the above step. If you are using a different resource, you will be required to change **hs.content['ws18.zip']**, as well as **ws18** folder names below.\n"
   ]
  },
  {
   "cell_type": "code",
   "execution_count": null,
   "metadata": {
    "collapsed": false
   },
   "outputs": [],
   "source": [
    "zipfolder = w.sub_project_folder + '/RHESSys_ETV'\n",
    "w.create_path(zipfolder)\n",
    "zipfilepathname = hs.content['ws18.zip']\n",
    "w.unzip_etv_zip_file_at_path(zipfilepathname, zipfolder)\n",
    "print 'Steps Finished'"
   ]
  },
  {
   "cell_type": "markdown",
   "metadata": {},
   "source": [
    "This step **registers the DEM.tif** stored in the resource rather than using the `get_USGSDEMForBoundingbox` command."
   ]
  },
  {
   "cell_type": "code",
   "execution_count": null,
   "metadata": {
    "collapsed": false
   },
   "outputs": [],
   "source": [
    "os.environ[\"GDAL_DATA\"] = \"/opt/conda/share/gdal\"\n",
    "demfile = w.sub_project_folder + '/RHESSys_ETV/ws18/DEM.tif'\n",
    "options = \" -p \" + w.sub_project_folder + \" -d \" + demfile + \" -b \\\"CWT18 DEM\\\"\"\n",
    "w.RegisterDEM(w.sub_project_folder, demfile)"
   ]
  },
  {
   "cell_type": "markdown",
   "metadata": {},
   "source": [
    "**Register streamflow gage** coordinates from a point shapefile into metadata \n",
    "store for a project directory, copying the shapefile into the project directory \n",
    "in the process"
   ]
  },
  {
   "cell_type": "code",
   "execution_count": null,
   "metadata": {
    "collapsed": false
   },
   "outputs": [],
   "source": [
    "gagefile = w.sub_project_folder + '/RHESSys_ETV/ws18/gage.shp'\n",
    "layername = 'gage'\n",
    "id_attribute = 'gage_id'\n",
    "id_value = \"\\\"Weir 18\\\"\"\n",
    "w.RegisterGage(w.sub_project_folder, gagefile, layername, id_attribute, id_value)\n"
   ]
  },
  {
   "cell_type": "code",
   "execution_count": null,
   "metadata": {
    "collapsed": false
   },
   "outputs": [],
   "source": [
    "output = w.get_USGSNLCDForDEMExtent(w.sub_project_folder)"
   ]
  },
  {
   "cell_type": "markdown",
   "metadata": {},
   "source": [
    "**Register raster** into metadata store for a project directory,\n",
    "copying the raster into the project directory in the process.  Raster type must\n",
    "be one of GenericMetadata.RASTER_TYPES."
   ]
  },
  {
   "cell_type": "code",
   "execution_count": null,
   "metadata": {
    "collapsed": false
   },
   "outputs": [],
   "source": [
    "roads_file = w.sub_project_folder + '/RHESSys_ETV/ws18/rhessys/roads.tif'\n",
    "options = \" -p \" + w.sub_project_folder + \" -t roads \" + \" -r \" + roads_file + \" --force -s near \"\n",
    "w.RegisterRasterOptions(options)"
   ]
  },
  {
   "cell_type": "code",
   "execution_count": null,
   "metadata": {
    "collapsed": false
   },
   "outputs": [],
   "source": [
    "output = w.get_SSURGOFeaturesForBoundingbox(w.sub_project_folder)"
   ]
  },
  {
   "cell_type": "markdown",
   "metadata": {},
   "source": [
    "Here the resource or user supplied **LAI** is registered."
   ]
  },
  {
   "cell_type": "code",
   "execution_count": null,
   "metadata": {
    "collapsed": false
   },
   "outputs": [],
   "source": [
    "lai_file = w.sub_project_folder + '/RHESSys_ETV/ws18/lai.tif'\n",
    "options = \" -p \" + w.sub_project_folder + \" -t lai \" + \" -r \" + lai_file + \" -s bilinear --force \"\n",
    "w.RegisterRasterOptions(options)"
   ]
  },
  {
   "cell_type": "markdown",
   "metadata": {},
   "source": [
    "Here the resource or user supplied **ISOHYET** is registered."
   ]
  },
  {
   "cell_type": "code",
   "execution_count": null,
   "metadata": {
    "collapsed": false
   },
   "outputs": [],
   "source": [
    "isohyet_file = w.sub_project_folder + '/RHESSys_ETV/ws18/isohyet.tif'\n",
    "options = \" -p \" + w.sub_project_folder + \" -t isohyet \" + \" -r \" + isohyet_file + \" --force -s bilinear \"\n",
    "w.RegisterRasterOptions(options)"
   ]
  },
  {
   "cell_type": "code",
   "execution_count": null,
   "metadata": {
    "collapsed": false
   },
   "outputs": [],
   "source": [
    "output = w.GenerateSoilPropertyRastersFromSSURGO(w.sub_project_folder)"
   ]
  },
  {
   "cell_type": "code",
   "execution_count": null,
   "metadata": {
    "collapsed": false
   },
   "outputs": [],
   "source": [
    "output = w.CreateGRASSLocationFromDEM(w.sub_project_folder, '\"RHESSys model for watershed 18 at Coweeta LTER\"')"
   ]
  },
  {
   "cell_type": "markdown",
   "metadata": {},
   "source": [
    "The `ImportRHESSysSource` function downloads and compiles the latest [RHESSys](https://github.com/RHESSys/RHESSys) source code in the user defined project folder. This make take a couple minutes.   "
   ]
  },
  {
   "cell_type": "code",
   "execution_count": null,
   "metadata": {
    "collapsed": false
   },
   "outputs": [],
   "source": [
    "output = w.ImportRHESSysSource(w.sub_project_folder)"
   ]
  },
  {
   "cell_type": "code",
   "execution_count": null,
   "metadata": {
    "collapsed": true
   },
   "outputs": [],
   "source": [
    "cell_size = 250\n",
    "area_estimate = 0.13\n",
    "output = w.DelineateWatershed(w.sub_project_folder, cell_size, area_estimate)"
   ]
  },
  {
   "cell_type": "code",
   "execution_count": null,
   "metadata": {
    "collapsed": false
   },
   "outputs": [],
   "source": [
    "output = w.ImportRasterMapIntoGRASS(w.sub_project_folder, 'lai', 'bilinear')"
   ]
  },
  {
   "cell_type": "code",
   "execution_count": null,
   "metadata": {
    "collapsed": false
   },
   "outputs": [],
   "source": [
    "output = w.ImportRasterMapIntoGRASS(w.sub_project_folder, 'isohyet', 'bilinear')"
   ]
  },
  {
   "cell_type": "code",
   "execution_count": null,
   "metadata": {
    "collapsed": false
   },
   "outputs": [],
   "source": [
    "output = w.ImportRasterMapIntoGRASS(w.sub_project_folder, 'roads', 'nearest')"
   ]
  },
  {
   "cell_type": "code",
   "execution_count": null,
   "metadata": {
    "collapsed": false
   },
   "outputs": [],
   "source": [
    "output = w.ImportRasterMapIntoGRASS(w.sub_project_folder, 'landcover', 'nearest')"
   ]
  },
  {
   "cell_type": "code",
   "execution_count": null,
   "metadata": {
    "collapsed": false
   },
   "outputs": [],
   "source": [
    "output = w.RegisterLandcoverReclassRules(w.sub_project_folder)"
   ]
  },
  {
   "cell_type": "code",
   "execution_count": null,
   "metadata": {
    "collapsed": false
   },
   "outputs": [],
   "source": [
    "options = \" -p \" + w.sub_project_folder + \" --skipRoads\"\n",
    "output = w.GenerateLandcoverMapsOptions(options)"
   ]
  },
  {
   "cell_type": "code",
   "execution_count": null,
   "metadata": {
    "collapsed": false
   },
   "outputs": [],
   "source": [
    "output = w.GenerateSoilTextureMap(w.sub_project_folder, options='')"
   ]
  },
  {
   "cell_type": "code",
   "execution_count": null,
   "metadata": {
    "collapsed": false
   },
   "outputs": [],
   "source": [
    "patch_options = \" -p \" + w.sub_project_folder + \" -t grid\"\n",
    "output = w.GeneratePatchMapOptions(patch_options)"
   ]
  },
  {
   "cell_type": "code",
   "execution_count": null,
   "metadata": {
    "collapsed": false
   },
   "outputs": [],
   "source": [
    "w.climate_data_fullpathname = w.sub_project_folder + '/RHESSys_ETV/ws18/rhessys/clim'\n",
    "output = w.ImportClimateData(w.sub_project_folder, w.climate_data_fullpathname)"
   ]
  },
  {
   "cell_type": "code",
   "execution_count": null,
   "metadata": {
    "collapsed": false
   },
   "outputs": [],
   "source": [
    "options = \" -p \" + w.sub_project_folder + \" -c cwt\"\n",
    "output = w.GenerateWorldTemplateOptions(options)\n"
   ]
  },
  {
   "cell_type": "code",
   "execution_count": null,
   "metadata": {
    "collapsed": false
   },
   "outputs": [],
   "source": [
    "output = w.CreateWorldfile(w.sub_project_folder)"
   ]
  },
  {
   "cell_type": "markdown",
   "metadata": {},
   "source": [
    "**Flowtable** will be created in the RHESSys folder of the project directory."
   ]
  },
  {
   "cell_type": "code",
   "execution_count": null,
   "metadata": {
    "collapsed": false
   },
   "outputs": [],
   "source": [
    "options = \" -p \" + w.sub_project_folder + \" --routeRoads\"\n",
    "output = w.CreateFlowtableOptions(options)"
   ]
  },
  {
   "cell_type": "code",
   "execution_count": null,
   "metadata": {
    "collapsed": false
   },
   "outputs": [],
   "source": [
    "output = w.RunLAIRead(w.sub_project_folder)"
   ]
  },
  {
   "cell_type": "code",
   "execution_count": null,
   "metadata": {
    "collapsed": false
   },
   "outputs": [],
   "source": [
    "output = w.RunCmd(w.sub_project_folder, 3)"
   ]
  },
  {
   "cell_type": "markdown",
   "metadata": {},
   "source": [
    "The RunModel function run the RHESSys simulation! Please wait a couple minutes."
   ]
  },
  {
   "cell_type": "code",
   "execution_count": null,
   "metadata": {
    "collapsed": false
   },
   "outputs": [],
   "source": [
    "output = w.RunModel(w.sub_project_folder)"
   ]
  },
  {
   "cell_type": "markdown",
   "metadata": {
    "collapsed": true
   },
   "source": [
    "## Resources\n",
    "\n",
    "* RHESSys\n",
    "  * [Setup](http://fiesta.bren.ucsb.edu/~rhessys/setup/setup.html)\n",
    "  * [Wiki](http://fiesta.bren.ucsb.edu/~rhessys/)\n",
    "* Data\n",
    "  * [HydroShare](https://www.hydroshare.org/)\n",
    "  * [USGS Data and Tools](https://www.usgs.gov/products/data-and-tools/data-and-tools-topics)\n",
    "  * [USDA Data gateway](https://gdg.sc.egov.usda.gov/)\n",
    "  * [HydroTerre](http://hydroterre.psu.edu/)\n",
    "  "
   ]
  },
  {
   "cell_type": "code",
   "execution_count": null,
   "metadata": {
    "collapsed": true
   },
   "outputs": [],
   "source": []
  }
 ],
 "metadata": {
  "kernelspec": {
   "display_name": "Python 2",
   "language": "python",
   "name": "python2"
  },
  "language_info": {
   "codemirror_mode": {
    "name": "ipython",
    "version": 2
   },
   "file_extension": ".py",
   "mimetype": "text/x-python",
   "name": "python",
   "nbconvert_exporter": "python",
   "pygments_lexer": "ipython2",
   "version": "2.7.11"
  },
  "widgets": {
   "state": {},
   "version": "1.1.2"
  }
 },
 "nbformat": 4,
 "nbformat_minor": 0
}
