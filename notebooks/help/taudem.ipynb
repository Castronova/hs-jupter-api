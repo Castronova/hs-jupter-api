{
 "cells": [
  {
   "cell_type": "markdown",
   "metadata": {},
   "source": [
    "\n",
    "<img src=\"http://hydrology.usu.edu/images/taudem5logo.gif\" style=\"float:left;width:300px;padding:20px\">       \n",
    "\n",
    "\n",
    "# TauDEM Raster Processing Notebook\n",
    "\n",
    "<br>\n",
    "This notebook demonstrates basic watershed processing using the TauDEM GIS library.  For more information about TauDEM, see http://hydrology.usu.edu/taudem/taudem5/.  This tutorial is divided into the following three categories:\n",
    "\n",
    "* [Setup and Preparation](#setup)\n",
    "* [GIS Processing using TauDEM](#gis)\n",
    "* [New Resource Creation using HydroShare](#creation)\n"
   ]
  },
  {
   "cell_type": "markdown",
   "metadata": {},
   "source": [
    "### 1. Script Setup and Preparation\n",
    "<a name=\"setup\"></a>\n",
    "\n",
    "Before we begin GIS processing, we must imported several libaries into the notebook.  The **hs_utils** library provides functions for interacting with HydroShare, including resource querying, dowloading and creation.  The **taudem** libary provides functions for simplifying GIS commands, workspace maintenance, as well as visualization. Finally, the `%matplotlib inline` command tells the notebook server to place plotting output directly into this page. \n",
    "\n",
    "> Note: You may see some matplotlib warnings if this is the first time you are running this notebook.  These warnings can be disregarded.\n"
   ]
  },
  {
   "cell_type": "code",
   "execution_count": 4,
   "metadata": {
    "collapsed": false
   },
   "outputs": [],
   "source": [
    "# import required libaries for geoprocessing\n",
    "import os\n",
    "import hs_utils\n",
    "import taudem\n",
    "%matplotlib inline"
   ]
  },
  {
   "cell_type": "markdown",
   "metadata": {},
   "source": [
    "Next we need to establish a secure connection with HydroShare.  This is done by simply instantiating the `hydroshare` class that is defined within `hs_utils`.  In addition to connecting with HydroShare, this command also sets environment variables for several parameters that may useful to you: \n",
    "\n",
    "1. Your username\n",
    "2. The ID of the resource which launched the notebook\n",
    "3. The type of the resource that launched the notebook\n",
    "4. The url for the notebook server."
   ]
  },
  {
   "cell_type": "code",
   "execution_count": 6,
   "metadata": {
    "collapsed": false
   },
   "outputs": [
    {
     "name": "stdout",
     "output_type": "stream",
     "text": [
      "Adding the following system variables:\n",
      "   HS_USR_NAME = TonyCastronova\n",
      "   HS_RES_ID = 68313c40c7ff48cd9e065ceada3c8426\n",
      "   HS_RES_TYPE = genericresource\n",
      "   JUPYTER_HUB_IP = jupyter.uwrl.usu.edu\n",
      "\n",
      "These can be accessed using the following command: \n",
      "   os.environ[key]\n",
      "\n",
      "   (e.g.)\n",
      "   os.environ[\"HS_USR_NAME\"]  => TonyCastronova\n"
     ]
    },
    {
     "data": {
      "text/html": [
       "<b style=\"color:green;\">Successfully established a connection with HydroShare</b>"
      ],
      "text/plain": [
       "<IPython.core.display.HTML object>"
      ]
     },
     "metadata": {},
     "output_type": "display_data"
    }
   ],
   "source": [
    "# establish a secure connection to HydroShare\n",
    "hs = hs_utils.hydroshare()"
   ]
  },
  {
   "cell_type": "markdown",
   "metadata": {},
   "source": [
    "### Retrieve a raster resource using its ID\n",
    "\n",
    "This example uses a digital elevation model (DEM) that is stored in HydroShare at the following url: https://www.hydroshare.org/resource/6ee06abb2ed8414f9b66d229c8e9a129/ .  The data for our processing routines can be retrieved by using the `getResourceFromHydroShare` function by passing in the global identifier from the url above."
   ]
  },
  {
   "cell_type": "code",
   "execution_count": null,
   "metadata": {
    "collapsed": false
   },
   "outputs": [],
   "source": [
    "# get some resource content. The resource content is returned as a dictionary\n",
    "content = hs.getResourceFromHydroShare('6ee06abb2ed8414f9b66d229c8e9a129')"
   ]
  },
  {
   "cell_type": "markdown",
   "metadata": {},
   "source": [
    "Two file were downloaded onto the Python notebook server: (1) logan.tiff, and (2) logan.vrt.  We will be using the logan.tiff file as the starting point for our GIS processing.\n",
    "\n",
    "\n",
    "### Prepare a directory for output files\n",
    "\n",
    "The `taudem` library consists of utility functions for taudem GIS processing.  The `create_workspace` function will build a clean directory for our GIS processing results."
   ]
  },
  {
   "cell_type": "code",
   "execution_count": null,
   "metadata": {
    "collapsed": false
   },
   "outputs": [],
   "source": [
    "# prepare a clean workspace for TauDEM output files\n",
    "data_directory = taudem.create_workspace('logan_data_processing')   "
   ]
  },
  {
   "cell_type": "markdown",
   "metadata": {},
   "source": [
    "---\n",
    "\n",
    "\n",
    "##  Raster Processing\n",
    "<a name=\"gis\"/>\n",
    "\n",
    "The following operations demonstrate how TauDEM can be used to perform basic raster processes. See the following link for more information on TauDEM:  \n",
    "http://hydrology.usu.edu/taudem/taudem5/TauDEM53CommandLineGuide.pdf"
   ]
  },
  {
   "cell_type": "markdown",
   "metadata": {},
   "source": [
    "### 1. View the Raw DEM"
   ]
  },
  {
   "cell_type": "code",
   "execution_count": null,
   "metadata": {
    "collapsed": false
   },
   "outputs": [],
   "source": [
    "# display the raw dem\n",
    "raw_dem_path = hs.content['logan.tif']\n",
    "taudem.plot_tiff(raw_dem_path)"
   ]
  },
  {
   "cell_type": "markdown",
   "metadata": {},
   "source": [
    "### 2. Remove DEM Pits"
   ]
  },
  {
   "cell_type": "code",
   "execution_count": null,
   "metadata": {
    "collapsed": false
   },
   "outputs": [],
   "source": [
    "# Fill the DEM Pits\n",
    "\n",
    "# set the output paths\n",
    "fill = os.path.join(data_directory, 'loganfel.tif')\n",
    "cmd = 'pitremove -z %s -fel %s' % (raw_dem_path, fill)\n",
    "taudem.run_cmd(cmd, processors=4)"
   ]
  },
  {
   "cell_type": "markdown",
   "metadata": {
    "collapsed": false
   },
   "source": [
    "### 3. Calculate Flow Directions"
   ]
  },
  {
   "cell_type": "code",
   "execution_count": null,
   "metadata": {
    "collapsed": false
   },
   "outputs": [],
   "source": [
    "#####################\n",
    "# D8 Flow Direction #\n",
    "#####################\n",
    "\n",
    "# set the output paths \n",
    "fdr = os.path.join(data_directory, 'fdr.tif')  # flowdir\n",
    "sd8 = os.path.join(data_directory, 'sd8.tif')  # slope\n",
    "\n",
    "cmd = 'd8flowdir -fel %s -sd8 %s -p %s' % (fill, sd8, fdr)\n",
    "taudem.run_cmd(cmd, processors=4)\n"
   ]
  },
  {
   "cell_type": "code",
   "execution_count": null,
   "metadata": {
    "collapsed": false
   },
   "outputs": [],
   "source": [
    "#######################\n",
    "# DInf Flow direction #\n",
    "#######################\n",
    "\n",
    "# set the output paths \n",
    "ang = os.path.join(data_directory, 'loganang.tif')  # flow angle\n",
    "slp = os.path.join(data_directory, 'loganslp.tif')  # flow slope\n",
    "\n",
    "cmd = 'dinfflowdir -fel %s -ang %s -slp %s' % (fill, ang, slp)\n",
    "taudem.run_cmd(cmd, processors=4)\n"
   ]
  },
  {
   "cell_type": "markdown",
   "metadata": {},
   "source": [
    "#### Plot the Results"
   ]
  },
  {
   "cell_type": "code",
   "execution_count": null,
   "metadata": {
    "collapsed": false
   },
   "outputs": [],
   "source": [
    "taudem.plot_tiff(tiff=[fdr, ang], title=['D8 Flow Direction', 'DInf Flow Angle'])\n",
    "taudem.plot_tiff(tiff=[sd8, slp], title=['D8 Slope', 'DInf Slope'])"
   ]
  },
  {
   "cell_type": "markdown",
   "metadata": {
    "collapsed": false
   },
   "source": [
    "### 4. Calculate Contributing Area"
   ]
  },
  {
   "cell_type": "code",
   "execution_count": null,
   "metadata": {
    "collapsed": false
   },
   "outputs": [],
   "source": [
    "########################\n",
    "# D8 Contributing Area #\n",
    "########################\n",
    "\n",
    "# set the output paths\n",
    "ad8 = os.path.join(data_directory, 'loganad8.tif')  # D8 contributing area\n",
    "\n",
    "# build the taudem command\n",
    "cmd = 'aread8 -p %s -ad8 %s' % (fdr, ad8)\n",
    "# -p:   D8 flow direction output file   \n",
    "# -ad8: D8 contributing area file (output)  \n",
    "\n",
    "# run the command\n",
    "taudem.run_cmd(cmd, processors=4)"
   ]
  },
  {
   "cell_type": "code",
   "execution_count": null,
   "metadata": {
    "collapsed": false,
    "scrolled": true
   },
   "outputs": [],
   "source": [
    "##########################\n",
    "# DInf Contributing Area #\n",
    "##########################\n",
    "\n",
    "# set the output paths\n",
    "sca = os.path.join(data_directory, 'logansca.tif')  # D-Infinity contributing area\n",
    "\n",
    "# build the taudem command\n",
    "cmd = 'areadinf -ang %s -sca %s' % (ang, sca)                         \n",
    "# -ang: D-infinity flow direction input file.                                  \n",
    "# -sca: D-infinity area output file.                                             \n",
    "\n",
    "# run the command\n",
    "taudem.run_cmd(cmd, processors=4)"
   ]
  },
  {
   "cell_type": "markdown",
   "metadata": {},
   "source": [
    "---\n",
    "## Save the results back into HydroShare\n",
    "<a name=\"creation\"/>\n",
    "\n",
    "Using the HydroShare rest api, you can create a new resource in HydroShare from a content file."
   ]
  },
  {
   "cell_type": "code",
   "execution_count": null,
   "metadata": {
    "collapsed": true
   },
   "outputs": [],
   "source": [
    "# define HydroShare required metadata\n",
    "title = 'TauDEM Processing of Logan Watershed'\n",
    "abstract = 'This a group of TauDEM processing results that were derived using the Logan River DEM.'\n",
    "keywords = ['TauDEM', 'Logan River', 'Geoprocessing']\n",
    "\n",
    "# set the resource type that will be created.\n",
    "rtype = 'genericresource'\n",
    "\n",
    "# create a list of files that will be added to the HydroShare resource.\n",
    "files = [hs.content['logan.tif'],          # input DEM for Logan Watershed\n",
    "         hs.content['taudem_logan.ipynb'], # this notebook\n",
    "         fill, # pit fill dem\n",
    "         fdr,  # D8 flow direction\n",
    "         sd8,  # D8 slope\n",
    "         ang,  # DInf flow angle\n",
    "         slp,  # DInf slope\n",
    "         ad8,  # D8 contributing area\n",
    "         sca   # DInf contributing area\n",
    "        ]  \n",
    "\n",
    "# Set the Logan DEM resource as the \"parent\" \n",
    "# (i.e. the new resource will be \"derived from\" the \"6ee06abb2ed8414f9b66d229c8e9a129 resource)\n",
    "parent_resource = '6ee06abb2ed8414f9b66d229c8e9a129'\n"
   ]
  },
  {
   "cell_type": "code",
   "execution_count": null,
   "metadata": {
    "collapsed": false
   },
   "outputs": [],
   "source": [
    "# create a hydroshare resource containing these data\n",
    "resource_id = hs.createHydroShareResource(abstract, \n",
    "                                          title, \n",
    "                                          derivedFromId=parent_resource,\n",
    "                                          keywords=keywords, \n",
    "                                          resource_type=rtype, \n",
    "                                          content_files=files, \n",
    "                                          public=False)"
   ]
  }
 ],
 "metadata": {
  "kernelspec": {
   "display_name": "Python 3",
   "language": "python",
   "name": "python3"
  },
  "language_info": {
   "codemirror_mode": {
    "name": "ipython",
    "version": 3
   },
   "file_extension": ".py",
   "mimetype": "text/x-python",
   "name": "python",
   "nbconvert_exporter": "python",
   "pygments_lexer": "ipython3",
   "version": "3.5.2"
  },
  "widgets": {
   "state": {},
   "version": "1.1.2"
  }
 },
 "nbformat": 4,
 "nbformat_minor": 0
}
