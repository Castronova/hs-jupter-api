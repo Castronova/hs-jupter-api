{
 "cells": [
  {
   "cell_type": "markdown",
   "metadata": {},
   "source": [
    "### Sample RHESSys workflow\n",
    "\n",
    "**Note:** This workflow is underdevelopment and still needs documentation"
   ]
  },
  {
   "cell_type": "code",
   "execution_count": 1,
   "metadata": {
    "collapsed": false
   },
   "outputs": [],
   "source": [
    "from rhessys_wf import *\n",
    "\n",
    "project_location = './test'\n",
    "project_name = 'mytest'\n",
    "gageid = '01589312'\n",
    "start_date = '2008-01-01'\n",
    "end_date = '2010-01-01'\n",
    "rhessys_source_location = ''\n",
    "publisher = 'RHESSysWorkflow'\n",
    "\n",
    "!rm -rf test/\n",
    "!mkdir test"
   ]
  },
  {
   "cell_type": "code",
   "execution_count": 2,
   "metadata": {
    "collapsed": true
   },
   "outputs": [],
   "source": [
    "import logging\n",
    "\n",
    "# Get root logger (all other loggers will be derived from this logger's properties)\n",
    "logger = logging.getLogger()\n",
    "\n",
    "# assuming only a single handler has been setup (seems \n",
    "# to be default in notebook), set that handler to go to stdout.\n",
    "logger.handlers[0].stream = sys.stdout"
   ]
  },
  {
   "cell_type": "code",
   "execution_count": 3,
   "metadata": {
    "collapsed": false
   },
   "outputs": [
    {
     "name": "stdout",
     "output_type": "stream",
     "text": [
      "Log file location: ./test/mytest/mytest.log\n"
     ]
    }
   ],
   "source": [
    "w = RHESSysWorkflow(project_location, project_name, gageid, start_date, end_date, rhessys_source_location, publisher)"
   ]
  },
  {
   "cell_type": "code",
   "execution_count": 4,
   "metadata": {
    "collapsed": false
   },
   "outputs": [
    {
     "name": "stdout",
     "output_type": "stream",
     "text": [
      "INFO:myApp:GetNHDStreamflowGageIdentifiersAndLocation.py -p ./test/mytest/mytest -g 01589312\n",
      "INFO:myApp:GetCatchmentShapefileForNHDStreamflowGage.py --overwrite -p ./test/mytest/mytest\n",
      "INFO:myApp:GetBoundingboxFromStudyareaShapefile.py -p ./test/mytest/mytest\n",
      "INFO:myApp:./test/mytest/mytest/metadata.txt\n",
      "INFO:myApp:\n",
      "min x = -76.769782\n",
      "min y = 39.273610\n",
      "max x = -76.717498\n",
      "max y = 39.326008\n",
      "\n"
     ]
    }
   ],
   "source": [
    "w.get_NHDStreamflowGageIdentifiersAndLocation(w.sub_project_folder,w.gageid)\n",
    "w.get_CatchmentShapefileForNHDStreamflowGage(w.sub_project_folder)\n",
    "w.get_BoundingboxFromStudyareaShapefile(w.sub_project_folder)\n",
    "extent = w.get_Extent_from_RHESSysWorkflows_Metadata_File()"
   ]
  },
  {
   "cell_type": "code",
   "execution_count": 5,
   "metadata": {
    "collapsed": false
   },
   "outputs": [
    {
     "name": "stdout",
     "output_type": "stream",
     "text": [
      "checking to see if HydroTerre job is completed...\n",
      "checking to see if HydroTerre job is completed...\n",
      "--------Download Start-------------\n",
      "Retrieving result from: http://hydroterre.psu.edu/HydroTerre_Rhessys_ByExtent/ja875f2ab65f34eee8e7f87f47cd9b099/scratch/RHESSys_ETV_Data.zip\n",
      "--------Download End-------------\n",
      "--------HUC12 Area-------------\n",
      "412.045597076416 SQKM\n"
     ]
    }
   ],
   "source": [
    "w.HydroTerre_RHESSys_ByExtent(extent, w.ht_start_date, w.ht_end_date, w.sub_project_folder)\n",
    "zipfolder = w.sub_project_folder + '/RHESSys_ETV'\n",
    "w.create_path(zipfolder)\n",
    "zipfilepathname = w.sub_project_folder + '/RHESSys_ETV_Data.zip'\n",
    "w.unzip_etv_zip_file_at_path(zipfilepathname, zipfolder)"
   ]
  },
  {
   "cell_type": "code",
   "execution_count": 6,
   "metadata": {
    "collapsed": false
   },
   "outputs": [
    {
     "name": "stdout",
     "output_type": "stream",
     "text": [
      "INFO:myApp:GetUSGSDEMForBoundingbox.py --overwrite -p ./test/mytest/mytest\n",
      "INFO:myApp:GetUSGSNLCDForDEMExtent.py -p ./test/mytest/mytest\n",
      "INFO:myApp:GetSSURGOFeaturesForBoundingbox.py -p ./test/mytest/mytest\n",
      "INFO:myApp:GenerateSoilPropertyRastersFromSSURGO.py -p ./test/mytest/mytest\n",
      "INFO:myApp:RegisterRaster.py -p ./test/mytest/mytest -t lai -r ./test/mytest/mytest/RHESSys_ETV/RHESSys_LAI/LAI_Month0.tif -b \"RHESSysWorkflow\" --force \n",
      "INFO:myApp:CreateGRASSLocationFromDEM.py -p ./test/mytest/mytest -d \"RHESSys model for Dead Run 5 watershed near Catonsville, MD\"\n"
     ]
    }
   ],
   "source": [
    "output = w.get_USGSDEMForBoundingbox(w.sub_project_folder)\n",
    "output = w.get_USGSNLCDForDEMExtent(w.sub_project_folder)\n",
    "output = w.get_SSURGOFeaturesForBoundingbox(w.sub_project_folder)\n",
    "output =w.GenerateSoilPropertyRastersFromSSURGO(w.sub_project_folder)\n",
    "w.lai_fullpathname_with_ext = w.sub_project_folder + '/RHESSys_ETV/RHESSys_LAI/LAI_Month0.tif'\n",
    "output = w.Register_LAI_Raster(w.sub_project_folder, w.lai_fullpathname_with_ext, w.publisher)\n",
    "output = w.CreateGRASSLocationFromDEM(w.sub_project_folder, '\"RHESSys model for Dead Run 5 watershed near Catonsville, MD\"')"
   ]
  },
  {
   "cell_type": "code",
   "execution_count": 7,
   "metadata": {
    "collapsed": false
   },
   "outputs": [
    {
     "name": "stdout",
     "output_type": "stream",
     "text": [
      "INFO:myApp:ImportRHESSysSource.py --overwrite -p ./test/mytest/mytest\n",
      "Finished\n"
     ]
    }
   ],
   "source": [
    "output = w.ImportRHESSysSource(w.sub_project_folder)\n",
    "print 'Finished'"
   ]
  },
  {
   "cell_type": "code",
   "execution_count": 13,
   "metadata": {
    "collapsed": false
   },
   "outputs": [
    {
     "name": "stdout",
     "output_type": "stream",
     "text": [
      "Using raster named 'dem' to calculate flow direction map\n",
      "WARNING: No existing MASK to remove\n",
      "\u0007SECTION 1a (of 4): Initiating Memory.\n",
      "SECTION 1b (of 4): Determining Offmap Flow.\n",
      "   0%\b\b\b\b\b   4%\b\b\b\b\b   8%\b\b\b\b\b  12%\b\b\b\b\b  16%\b\b\b\b\b  20%\b\b\b\b\b  24%\b\b\b\b\b  28%\b\b\b\b\b  32%\b\b\b\b\b  36%\b\b\b\b\b  40%\b\b\b\b\b  44%\b\b\b\b\b  48%\b\b\b\b\b  52%\b\b\b\b\b  56%\b\b\b\b\b  60%\b\b\b\b\b  64%\b\b\b\b\b  68%\b\b\b\b\b  72%\b\b\b\b\b  76%\b\b\b\b\b  80%\b\b\b\b\b  84%\b\b\b\b\b  88%\b\b\b\b\b  92%\b\b\b\b\b  96%\b\b\b\b\b 100%\b\b\b\b\b\n",
      "SECTION 2: A * Search.\n",
      "   0%\b\b\b\b\b   2%\b\b\b\b\b   4%\b\b\b\b\b   6%\b\b\b\b\b   8%\b\b\b\b\b  10%\b\b\b\b\b  12%\b\b\b\b\b  14%\b\b\b\b\b  16%\b\b\b\b\b  18%\b\b\b\b\b  20%\b\b\b\b\b  22%\b\b\b\b\b  24%\b\b\b\b\b  26%\b\b\b\b\b  28%\b\b\b\b\b  30%\b\b\b\b\b  32%\b\b\b\b\b  34%\b\b\b\b\b  36%\b\b\b\b\b  38%\b\b\b\b\b  40%\b\b\b\b\b  42%\b\b\b\b\b  44%\b\b\b\b\b  46%\b\b\b\b\b  48%\b\b\b\b\b  50%\b\b\b\b\b  52%\b\b\b\b\b  54%\b\b\b\b\b  56%\b\b\b\b\b  58%\b\b\b\b\b  60%\b\b\b\b\b  62%\b\b\b\b\b  64%\b\b\b\b\b  66%\b\b\b\b\b  68%\b\b\b\b\b  70%\b\b\b\b\b  72%\b\b\b\b\b  74%\b\b\b\b\b  76%\b\b\b\b\b  78%\b\b\b\b\b  80%\b\b\b\b\b  82%\b\b\b\b\b  84%\b\b\b\b\b  86%\b\b\b\b\b  88%\b\b\b\b\b  90%\b\b\b\b\b  92%\b\b\b\b\b  94%\b\b\b\b\b  96%\b\b\b\b\b  98%\b\b\b\b\b 100%\b\b\b\b\b\n",
      "SECTION 3: Accumulating Surface Flow with SFD.\n",
      "   1%\b\b\b\b\b   3%\b\b\b\b\b   5%\b\b\b\b\b   7%\b\b\b\b\b   9%\b\b\b\b\b  11%\b\b\b\b\b  13%\b\b\b\b\b  15%\b\b\b\b\b  17%\b\b\b\b\b  19%\b\b\b\b\b  21%\b\b\b\b\b  23%\b\b\b\b\b  25%\b\b\b\b\b  27%\b\b\b\b\b  29%\b\b\b\b\b  31%\b\b\b\b\b  33%\b\b\b\b\b  35%\b\b\b\b\b  37%\b\b\b\b\b  39%\b\b\b\b\b  41%\b\b\b\b\b  43%\b\b\b\b\b  45%\b\b\b\b\b  47%\b\b\b\b\b  49%\b\b\b\b\b  51%\b\b\b\b\b  53%\b\b\b\b\b  55%\b\b\b\b\b  57%\b\b\b\b\b  59%\b\b\b\b\b  61%\b\b\b\b\b  63%\b\b\b\b\b  65%\b\b\b\b\b  67%\b\b\b\b\b  69%\b\b\b\b\b  71%\b\b\b\b\b  73%\b\b\b\b\b  75%\b\b\b\b\b  77%\b\b\b\b\b  79%\b\b\b\b\b  81%\b\b\b\b\b  83%\b\b\b\b\b  85%\b\b\b\b\b  87%\b\b\b\b\b  89%\b\b\b\b\b  91%\b\b\b\b\b  93%\b\b\b\b\b  95%\b\b\b\b\b  97%\b\b\b\b\b  99%\b\b\b\b\b 100%\b\b\b\b\b\n",
      "SECTION 4: Closing Maps.\n",
      "WARNING: Vector map <gage> already exists and will be overwritten\n",
      "\u0007Scanning input for column types...\n",
      "Maximum input row length: 29\n",
      "Maximum number of columns: 2\n",
      "Minimum number of columns: 2\n",
      "Importing points...\n",
      " 100%\b\b\b\b\b\n",
      "Building topology for vector map <gage>...\n",
      "Registering primitives...\n",
      "1 primitives registered\n",
      "1 vertices registered\n",
      "Building areas...\n",
      " 100%\b\b\b\b\b\n",
      "0 areas built\n",
      "0 isles built\n",
      "Attaching islands...\n",
      "Attaching centroids...\n",
      " 100%\b\b\b\b\b\n",
      "Number of nodes: 1\n",
      "Number of primitives: 1\n",
      "Number of points: 1\n",
      "Number of lines: 0\n",
      "Number of boundaries: 0\n",
      "Number of centroids: 0\n",
      "Number of areas: 0\n",
      "Number of isles: 0\n",
      "v.in.ascii complete.\n",
      "Traceback (most recent call last):\n",
      "  File \"/opt/conda/envs/python2/bin/DelineateWatershed.py\", line 4, in <module>\n",
      "    __import__('pkg_resources').run_script('rhessysworkflows==1.34', 'DelineateWatershed.py')\n",
      "  File \"/opt/conda/envs/python2/lib/python2.7/site-packages/setuptools-21.2.1-py2.7.egg/pkg_resources/__init__.py\", line 719, in run_script\n",
      "  File \"/opt/conda/envs/python2/lib/python2.7/site-packages/setuptools-21.2.1-py2.7.egg/pkg_resources/__init__.py\", line 1504, in run_script\n",
      "  File \"/opt/conda/envs/python2/lib/python2.7/site-packages/rhessysworkflows-1.34-py2.7.egg/EGG-INFO/scripts/DelineateWatershed.py\", line 242, in <module>\n",
      "    threshold=args.streamThreshold)\n",
      "  File \"/usr/lib/grass64/etc/python/grass/script/core.py\", line 238, in read_command\n",
      "    ps = pipe_command(*args, **kwargs)\n",
      "  File \"/usr/lib/grass64/etc/python/grass/script/core.py\", line 215, in pipe_command\n",
      "    return start_command(*args, **kwargs)\n",
      "  File \"/usr/lib/grass64/etc/python/grass/script/core.py\", line 177, in start_command\n",
      "    return Popen(args, **popts)\n",
      "  File \"/usr/lib/grass64/etc/python/grass/script/core.py\", line 56, in __init__\n",
      "    startupinfo, creationflags)\n",
      "  File \"/opt/conda/envs/python2/lib/python2.7/subprocess.py\", line 710, in __init__\n",
      "    errread, errwrite)\n",
      "  File \"/opt/conda/envs/python2/lib/python2.7/subprocess.py\", line 1335, in _execute_child\n",
      "    raise child_exception\n",
      "OSError: [Errno 2] No such file or directory\n"
     ]
    }
   ],
   "source": [
    "output = w.climate_data_fullpathname = w.sub_project_folder + '/RHESSys_ETV/RHESSys_Climate'\n",
    "\n",
    "output = w.ImportClimateData(w.sub_project_folder, w.climate_data_fullpathname)\n",
    "\n",
    "output = w.station_data_fullpathname = w.sub_project_folder + '/RHESSys_ETV/RHESSys_Climate'\n",
    "\n",
    "output = w.DelineateWatershed(w.sub_project_folder, w.dem_cell_threshold, w.areaEstimate)\n",
    "\n",
    "output = w.GeneratePatchMap(w.sub_project_folder)"
   ]
  },
  {
   "cell_type": "code",
   "execution_count": null,
   "metadata": {
    "collapsed": false
   },
   "outputs": [],
   "source": [
    "output = w.GenerateSoilTextureMap(w.sub_project_folder)\n",
    "\n",
    "output = w.ImportRasterMapIntoGRASS_LAI(w.sub_project_folder)\n",
    "\n",
    "output = w.ImportRasterMapIntoGRASS_LANDCOVER(w.sub_project_folder)"
   ]
  },
  {
   "cell_type": "code",
   "execution_count": null,
   "metadata": {
    "collapsed": false
   },
   "outputs": [],
   "source": [
    "output = w.RegisterLandcoverReclassRules(w.sub_project_folder)\n",
    "output = w.GenerateLandcoverMaps(w.sub_project_folder)\n",
    "output = w.GenerateWorldTemplate(w.sub_project_folder)\n",
    "output = w.CreateWorldfile(w.sub_project_folder)\n",
    "output = w.CreateFlowtable(w.sub_project_folder)\n",
    "output = w.RunLAIRead(w.sub_project_folder)\n",
    "output = w.RunCmd(w.sub_project_folder, 3)            "
   ]
  },
  {
   "cell_type": "code",
   "execution_count": null,
   "metadata": {
    "collapsed": false
   },
   "outputs": [],
   "source": [
    "output = w.RunModel(w.sub_project_folder)"
   ]
  },
  {
   "cell_type": "code",
   "execution_count": null,
   "metadata": {
    "collapsed": false
   },
   "outputs": [],
   "source": [
    "obs_data = '/projects/start_from_scratch/01589312/DR5_discharge_WY2008-2012.txt'\n",
    "output = w.RHESSysPlot(w.sub_project_folder, obs_data)"
   ]
  },
  {
   "cell_type": "code",
   "execution_count": null,
   "metadata": {
    "collapsed": true
   },
   "outputs": [],
   "source": []
  }
 ],
 "metadata": {
  "kernelspec": {
   "display_name": "Python 2",
   "language": "python",
   "name": "python2"
  },
  "language_info": {
   "codemirror_mode": {
    "name": "ipython",
    "version": 2
   },
   "file_extension": ".py",
   "mimetype": "text/x-python",
   "name": "python",
   "nbconvert_exporter": "python",
   "pygments_lexer": "ipython2",
   "version": "2.7.11"
  },
  "widgets": {
   "state": {},
   "version": "1.1.2"
  }
 },
 "nbformat": 4,
 "nbformat_minor": 0
}
