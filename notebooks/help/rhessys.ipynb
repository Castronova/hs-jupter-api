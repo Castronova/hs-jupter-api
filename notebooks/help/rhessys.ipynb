{
 "cells": [
  {
   "cell_type": "markdown",
   "metadata": {},
   "source": [
    "### Sample RHESSys workflow\n",
    "\n",
    "RHESSysWorkflows provides a series of Python tools for performing [RHESSys](https://github.com/RHESSys/RHESSys) data preparation workflows. These tools build on the workflow system defined by [EcohydroLib](https://github.com/selimnairb/EcohydroLib) and [RHESSysWorkflows](https://github.com/selimnairb/RHESSysWorkflows)."
   ]
  },
  {
   "cell_type": "code",
   "execution_count": 2,
   "metadata": {
    "collapsed": false
   },
   "outputs": [],
   "source": [
    "import os\n",
    "import logging\n",
    "from rhessys_wf import *\n",
    "%matplotlib inline"
   ]
  },
  {
   "cell_type": "markdown",
   "metadata": {},
   "source": [
    "The `RHESSysWorkflow` class is provided as part of the `rhessys_wf` library (imported above) to streamline your interaction with the `RHESSysWorkflows` [core functions](https://github.com/selimnairb/RHESSysWorkflows).  More information about this class can be obtained by executing the `help(RHESSysWorkflow)` command.\n",
    "\n",
    "Create an instance of the `RHESSysWorkflow` class and assign it to the variable `w`, using USGS gage **01589312** [(DEAD RUN NEAR CATONSVILLE, MD)](http://waterdata.usgs.gov/usa/nwis/uv?01589312) , a start date of **2008-01-01**, and an end date of **2010-01-01**.  This command will create a clean directory for the given project name of **myRHESSysSimulation** in the JupyterHub's default data directory."
   ]
  },
  {
   "cell_type": "code",
   "execution_count": 3,
   "metadata": {
    "collapsed": false
   },
   "outputs": [
    {
     "name": "stdout",
     "output_type": "stream",
     "text": [
      "Project [mysim] already exists, would you like to remove it [Y/n]? Y\n",
      "Creating a clean directory for project [mysim]\n",
      "Log file location: /home/jovyan/work/notebooks/data/mysim/mysim.log\n"
     ]
    },
    {
     "data": {
      "text/html": [
       "<pre>RHESSys project has been initialized at:<br><a href=/user/lleonard/notebooks/notebooks/data/mysim target=\"_blank\">/notebooks/data/mysim<a></pre>"
      ],
      "text/plain": [
       "<IPython.core.display.HTML object>"
      ]
     },
     "metadata": {},
     "output_type": "display_data"
    }
   ],
   "source": [
    "w = RHESSysWorkflow(project_name='myRHESSysSimulation', \n",
    "                    gageid='01589312',\n",
    "                    start_date='2008-01-01',\n",
    "                    end_date='2010-01-01'\n",
    "                    )"
   ]
  },
  {
   "cell_type": "markdown",
   "metadata": {},
   "source": [
    "The `RHESSysWorkflow` class uses a logging library to document output and errors.  We can display these messages in our notebook by attaching to the logger and redirecting the output to stdout.  While this step is not necessary, it will provide us with more verbose output."
   ]
  },
  {
   "cell_type": "code",
   "execution_count": 4,
   "metadata": {
    "collapsed": true
   },
   "outputs": [],
   "source": [
    "# Get root logger (all other loggers will be derived from this logger's properties)\n",
    "logger = logging.getLogger()\n",
    "\n",
    "# assuming only a single handler has been setup (seems to be default in notebook), set that handler to go to stdout.\n",
    "logger.handlers[0].stream = sys.stdout"
   ]
  },
  {
   "cell_type": "markdown",
   "metadata": {},
   "source": [
    "Using the watershed parameters defined within the `RHESSysWorkflow object` (***w***), `get_NHDStreamflowGageIdentifiersAndLocation` retrieves NHDPlus2 streamflow gage identifiers (reachcode, measure along reach in percent) for a USGS gage. The function `get_CatchmentShapefileForNHDStreamflowGage` generates a shapefile for the drainage area of an NHDPlus2 streamflow gage using web services from [Horizon Systems NHDPlus Version 2](http://www.horizon-systems.com/NHDPlus/NHDPlusV2_home.php). The `get_BoundingboxFromStudyareaShapefile` function calculates the bounding box (also known as envelope and extent) of the catchment."
   ]
  },
  {
   "cell_type": "code",
   "execution_count": 5,
   "metadata": {
    "collapsed": false
   },
   "outputs": [
    {
     "name": "stdout",
     "output_type": "stream",
     "text": [
      "INFO:myApp:GetNHDStreamflowGageIdentifiersAndLocation.py -p /home/jovyan/work/notebooks/data/mysim/mysim -g 01589312\n",
      "INFO:myApp:GetCatchmentShapefileForNHDStreamflowGage.py --overwrite -p /home/jovyan/work/notebooks/data/mysim/mysim\n",
      "INFO:myApp:GetBoundingboxFromStudyareaShapefile.py -p /home/jovyan/work/notebooks/data/mysim/mysim\n",
      "INFO:myApp:/home/jovyan/work/notebooks/data/mysim/mysim/metadata.txt\n",
      "INFO:myApp:\n",
      "min x = -76.769782\n",
      "min y = 39.273610\n",
      "max x = -76.717498\n",
      "max y = 39.326008\n",
      "\n"
     ]
    }
   ],
   "source": [
    "w.get_NHDStreamflowGageIdentifiersAndLocation(w.sub_project_folder,w.gageid)\n",
    "w.get_CatchmentShapefileForNHDStreamflowGage(w.sub_project_folder)\n",
    "w.get_BoundingboxFromStudyareaShapefile(w.sub_project_folder)\n",
    "extent = w.get_Extent_from_RHESSysWorkflows_Metadata_File()"
   ]
  },
  {
   "cell_type": "markdown",
   "metadata": {},
   "source": [
    "Using the generated bounding box and user defined start/end dates for RHESSys simulation period, an Essential Terrestrial Variable (***ETV***) RHESSys data bundle (with climate forcing, soils, elevation) are retrieved from the [HydroTerre](http://www.hydroterre.psu.edu) cyberinfrastructure services using the function `HydroTerre_RHESSys_ByExtent`. The zipped data bundle is unzipped for the remaining workflow steps. Please note, the earliest start date is 1979-01-01 and the latest end date is 2009-12-31 for climate forcing (defined at the first step)."
   ]
  },
  {
   "cell_type": "code",
   "execution_count": 6,
   "metadata": {
    "collapsed": false
   },
   "outputs": [
    {
     "name": "stdout",
     "output_type": "stream",
     "text": [
      "checking to see if HydroTerre job is completed...\n",
      "checking to see if HydroTerre job is completed...\n",
      "checking to see if HydroTerre job is completed...\n",
      "checking to see if HydroTerre job is completed...\n",
      "checking to see if HydroTerre job is completed...\n",
      "--------Download Start-------------\n",
      "Retrieving result from: http://hydroterre.psu.edu/HydroTerre_Rhessys_ByExtent/j3e134c823fbd44fe9ded1e0541006f6f/scratch/RHESSys_ETV_Data.zip\n",
      "--------Download End-------------\n",
      "--------HUC12 Area-------------\n",
      "412.045597076416 SQKM\n"
     ]
    }
   ],
   "source": [
    "w.HydroTerre_RHESSys_ByExtent(extent, w.ht_start_date, w.ht_end_date, w.sub_project_folder)\n",
    "zipfolder = w.sub_project_folder + '/RHESSys_ETV'\n",
    "w.create_path(zipfolder)\n",
    "zipfilepathname = w.sub_project_folder + '/RHESSys_ETV_Data.zip'\n",
    "w.unzip_etv_zip_file_at_path(zipfilepathname, zipfolder)"
   ]
  },
  {
   "cell_type": "markdown",
   "metadata": {},
   "source": [
    "The function `get_USGSDEMForBoundingbox` downloads 1/3 arcsecond Digital Elevation Model (***DEM***) data from the \n",
    "National Elevation Dataset and NHDPlus hydro-conditioned coverages hosted by U.S. Geological Survey (***USGS***) Web Coverage Service (WCS) interface at the [Center for Integrated Data Analytics group](http://cida.usgs.gov/). `get_USGSNLCDForDEMExtent` retrieves the National Landcover Dataset (***NLCD***) within the watershed extent from data services at [RENCI](http://renci.org/). `get_SSURGOFeaturesForBoundingbox` processes ***SSURGO*** soil data from the United States Department of Agriculture [USDA](http://sdmdataaccess.nrcs.usda.gov/) and the `GenerateSoilPropertyRastersFromSSURGO` function rasterizes these soil attributes for [GRASS](https://grass.osgeo.org/) project manipulation. The [HydroTerre](http://www.hydroterre.psu.edu) RHESSys service generates a Leaf Area Index (***LAI***) raster dataset for each month, users can choose which month they are interested in by modifying the `w.lai_fullpathname_with_ext` variable. The `Register_LAI_Raster` function registers the LAI raster dataset for [GRASS](https://grass.osgeo.org/) project manipulation. The [GRASS](https://grass.osgeo.org/) `CreateGRASSLocationFromDEM` setups up the GRASS environment and imports the DEM raster dataset.     \n"
   ]
  },
  {
   "cell_type": "code",
   "execution_count": 7,
   "metadata": {
    "collapsed": false
   },
   "outputs": [
    {
     "name": "stdout",
     "output_type": "stream",
     "text": [
      "INFO:myApp:GetUSGSDEMForBoundingbox.py --overwrite -p /home/jovyan/work/notebooks/data/mysim/mysim\n",
      "INFO:myApp:GetUSGSNLCDForDEMExtent.py -p /home/jovyan/work/notebooks/data/mysim/mysim\n",
      "INFO:myApp:GetSSURGOFeaturesForBoundingbox.py -p /home/jovyan/work/notebooks/data/mysim/mysim\n",
      "INFO:myApp:GenerateSoilPropertyRastersFromSSURGO.py -p /home/jovyan/work/notebooks/data/mysim/mysim\n",
      "INFO:myApp:RegisterRaster.py -p /home/jovyan/work/notebooks/data/mysim/mysim -t lai -r /home/jovyan/work/notebooks/data/mysim/mysim/RHESSys_ETV/RHESSys_LAI/LAI_Month0.tif -b \"RHESSysWorkflow\" --force \n",
      "INFO:myApp:CreateGRASSLocationFromDEM.py -p /home/jovyan/work/notebooks/data/mysim/mysim -d \"RHESSys model for Dead Run 5 watershed near Catonsville, MD\"\n"
     ]
    }
   ],
   "source": [
    "output = w.get_USGSDEMForBoundingbox(w.sub_project_folder)\n",
    "output = w.get_USGSNLCDForDEMExtent(w.sub_project_folder)\n",
    "output = w.get_SSURGOFeaturesForBoundingbox(w.sub_project_folder)\n",
    "output =w.GenerateSoilPropertyRastersFromSSURGO(w.sub_project_folder)\n",
    "w.lai_fullpathname_with_ext = w.sub_project_folder + '/RHESSys_ETV/RHESSys_LAI/LAI_Month0.tif'\n",
    "output = w.Register_LAI_Raster(w.sub_project_folder, w.lai_fullpathname_with_ext, w.publisher)\n",
    "output = w.CreateGRASSLocationFromDEM(w.sub_project_folder, '\"RHESSys model for Dead Run 5 watershed near Catonsville, MD\"')"
   ]
  },
  {
   "cell_type": "markdown",
   "metadata": {},
   "source": [
    "The `ImportRHESSysSource` function downloads and compiles the latest [RHESSys](https://github.com/RHESSys/RHESSys) source code in the user defined project folder.    "
   ]
  },
  {
   "cell_type": "code",
   "execution_count": 8,
   "metadata": {
    "collapsed": false
   },
   "outputs": [
    {
     "name": "stdout",
     "output_type": "stream",
     "text": [
      "INFO:myApp:ImportRHESSysSource.py --overwrite -p /home/jovyan/work/notebooks/data/mysim/mysim\n",
      "Finished\n"
     ]
    }
   ],
   "source": [
    "output = w.ImportRHESSysSource(w.sub_project_folder)\n",
    "print 'Finished'"
   ]
  },
  {
   "cell_type": "markdown",
   "metadata": {},
   "source": [
    "The [HydroTerre](http://www.hydroterre.psu.edu) RHESSys service generates climate data within the user defined start and end period. Users can download data from other services (i.e. [HydroShare](https://www.hydroshare.org/)) and modify the `climate_data_fullpathname` variable. The `ImportClimateData` function imports the ***climate*** data already in RHESSys file formats into the [RHESSys](https://github.com/RHESSys/RHESSys) project directory. If the user is using climate station data, the `station_data_fullpathname` variable should be defined. The `DelineateWatershed` script uses data retrieved from the above services and delineates a watershed with user defined `dem_cell_threshold` and `areaEstimate` parameters. The `GeneratePatchMap` function creates [RHESSys](https://github.com/RHESSys/RHESSys) patches (geometry) in the [GRASS](https://grass.osgeo.org/) project. "
   ]
  },
  {
   "cell_type": "code",
   "execution_count": 9,
   "metadata": {
    "collapsed": false
   },
   "outputs": [
    {
     "name": "stdout",
     "output_type": "stream",
     "text": [
      "INFO:myApp:ImportClimateData.py -p /home/jovyan/work/notebooks/data/mysim/mysim -s /home/jovyan/work/notebooks/data/mysim/mysim/RHESSys_ETV/RHESSys_Climate\n",
      "INFO:myApp:DelineateWatershed.py -p /home/jovyan/work/notebooks/data/mysim/mysim -t 500 -a 412.045597076416\n",
      "INFO:myApp:GeneratePatchMap.py -p /home/jovyan/work/notebooks/data/mysim/mysim -t clump -c elevation\n"
     ]
    }
   ],
   "source": [
    "output = w.climate_data_fullpathname = w.sub_project_folder + '/RHESSys_ETV/RHESSys_Climate'\n",
    "\n",
    "output = w.ImportClimateData(w.sub_project_folder, w.climate_data_fullpathname)\n",
    "\n",
    "output = w.station_data_fullpathname = w.sub_project_folder + '/RHESSys_ETV/RHESSys_Climate'\n",
    "\n",
    "output = w.DelineateWatershed(w.sub_project_folder, w.dem_cell_threshold, w.areaEstimate)\n",
    "\n",
    "output = w.GeneratePatchMap(w.sub_project_folder)"
   ]
  },
  {
   "cell_type": "markdown",
   "metadata": {},
   "source": [
    "The `GenerateSoilTextureMap` function imports ***soil*** data (sand and clay percentages) into the [GRASS](https://grass.osgeo.org/) project and generate soil texture map using the GRASS addon [r.soils.texture](https://grass.osgeo.org/grass70/manuals/addons/r.soils.texture.html). The `ImportRasterMapIntoGRASS_LAI` and `ImportRasterMapIntoGRASS_LANDCOVER` functions import the ***LAI*** and ***Landcover*** datasets into the GRASS project."
   ]
  },
  {
   "cell_type": "code",
   "execution_count": 10,
   "metadata": {
    "collapsed": false
   },
   "outputs": [
    {
     "name": "stdout",
     "output_type": "stream",
     "text": [
      "INFO:myApp:GenerateSoilTextureMap.py --overwrite -p /home/jovyan/work/notebooks/data/mysim/mysim\n",
      "INFO:myApp:ImportRasterMapIntoGRASS.py -p /home/jovyan/work/notebooks/data/mysim/mysim -t lai -m nearest\n",
      "INFO:myApp:ImportRasterMapIntoGRASS.py -p /home/jovyan/work/notebooks/data/mysim/mysim -t landcover -m nearest\n"
     ]
    }
   ],
   "source": [
    "output = w.GenerateSoilTextureMap(w.sub_project_folder, options='--overwrite')\n",
    "\n",
    "output = w.ImportRasterMapIntoGRASS_LAI(w.sub_project_folder)\n",
    "\n",
    "output = w.ImportRasterMapIntoGRASS_LANDCOVER(w.sub_project_folder)"
   ]
  },
  {
   "cell_type": "markdown",
   "metadata": {},
   "source": [
    "These steps consume the [GRASS](https://grass.osgeo.org/) project datasets and prepares the [RHESSys](https://github.com/RHESSys/RHESSys) model data structures. The `RegisterLandcoverReclassRules` function generates landcover raster map reclassification rules (*** stratum, landuse, impervious, road, lai-recode ***) which are then used by the `GenerateLandcoverMaps` function to generate derived landscover data for RHESSys. The `GenerateWorldTemplate` function prepares the [RHESSys ***world template file*** ](http://fiesta.bren.ucsb.edu/~rhessys/setup/setup.html) with the user defined datasets and the `CreateWorldfile` function generates the [RHESSys ***world  file*** ](http://fiesta.bren.ucsb.edu/~rhessys/setup/setup.html). The `CreateFlowtable` script is used to describe the [connectivity between patches](https://github.com/RHESSys/RHESSys/wiki/Flowtable) with the user defined data to describe landscape partitioning, topology and soil characteristics of a basin. The `RunLAIRead` utility initializes vegetation carbon stores by initializing the world file. The `RunCmd` tool examines the project meta data to check that the RHESSys model is ready.    "
   ]
  },
  {
   "cell_type": "code",
   "execution_count": 11,
   "metadata": {
    "collapsed": false
   },
   "outputs": [
    {
     "name": "stdout",
     "output_type": "stream",
     "text": [
      "INFO:myApp:RegisterLandcoverReclassRules.py -p /home/jovyan/work/notebooks/data/mysim/mysim -k\n",
      "INFO:myApp:GenerateLandcoverMaps.py -p /home/jovyan/work/notebooks/data/mysim/mysim\n",
      "INFO:myApp:GenerateWorldTemplate.py -p /home/jovyan/work/notebooks/data/mysim/mysim -c HT_RHESSys\n",
      "INFO:myApp:CreateWorldfile.py -p /home/jovyan/work/notebooks/data/mysim/mysim -v\n",
      "INFO:myApp:CreateFlowtable.py -p /home/jovyan/work/notebooks/data/mysim/mysim --routeRoads\n",
      "INFO:myApp:RunLAIRead.py -p /home/jovyan/work/notebooks/data/mysim/mysim -v\n",
      "INFO:myApp:RunCmd.py -p /home/jovyan/work/notebooks/data/mysim/mysim echo \"2008 10 1 1 print_daily_on\" > /home/jovyan/work/notebooks/data/mysim/mysim/rhessys/tecfiles/tec_daily.txt\n"
     ]
    }
   ],
   "source": [
    "output = w.RegisterLandcoverReclassRules(w.sub_project_folder)\n",
    "output = w.GenerateLandcoverMaps(w.sub_project_folder)\n",
    "output = w.GenerateWorldTemplate(w.sub_project_folder)\n",
    "output = w.CreateWorldfile(w.sub_project_folder)\n",
    "output = w.CreateFlowtable(w.sub_project_folder)\n",
    "output = w.RunLAIRead(w.sub_project_folder)\n",
    "output = w.RunCmd(w.sub_project_folder, 3)            "
   ]
  },
  {
   "cell_type": "markdown",
   "metadata": {},
   "source": [
    "The `RunModel` function run the [RHESSys](https://github.com/RHESSys/RHESSys) simulation!"
   ]
  },
  {
   "cell_type": "code",
   "execution_count": 12,
   "metadata": {
    "collapsed": false
   },
   "outputs": [
    {
     "name": "stdout",
     "output_type": "stream",
     "text": [
      "INFO:myApp:RunModel.py -v -p /home/jovyan/work/notebooks/data/mysim/mysim -d \"Test model run\" --basin -pre test -st 2008 1 1 1 -ed 2010 1 1 1 -w world -t tec_daily.txt -r world.flow -- -s 0.07041256017 133.552915269 1.81282283058 -sv 4.12459677088 78.3440566535 -gw 0.00736592779294 0.340346799457\n"
     ]
    }
   ],
   "source": [
    "output = w.RunModel(w.sub_project_folder)"
   ]
  },
  {
   "cell_type": "markdown",
   "metadata": {},
   "source": [
    "To aid in analyzing the RHESSys simulation results, the `plot_rhessys_results` function plots model results (***data ***) against user supplied observed data (***obs_data***)."
   ]
  },
  {
   "cell_type": "code",
   "execution_count": 13,
   "metadata": {
    "collapsed": false
   },
   "outputs": [
    {
     "ename": "IOError",
     "evalue": "[Errno 2] No such file or directory: '/home/jovyan/work/notebooks/data/test_obs.txt'",
     "output_type": "error",
     "traceback": [
      "\u001b[1;31m\u001b[0m",
      "\u001b[1;31mIOError\u001b[0mTraceback (most recent call last)",
      "\u001b[1;32m<ipython-input-13-b98df64fb9e8>\u001b[0m in \u001b[0;36m<module>\u001b[1;34m()\u001b[0m\n\u001b[0;32m      9\u001b[0m      \u001b[0mlegend\u001b[0m \u001b[1;33m=\u001b[0m \u001b[1;33m[\u001b[0m\u001b[1;34m'Test simulation'\u001b[0m\u001b[1;33m]\u001b[0m\u001b[1;33m,\u001b[0m\u001b[1;33m\u001b[0m\u001b[0m\n\u001b[0;32m     10\u001b[0m      \u001b[0mtitle\u001b[0m \u001b[1;33m=\u001b[0m \u001b[1;34m'DR5 streamflow'\u001b[0m\u001b[1;33m,\u001b[0m\u001b[1;33m\u001b[0m\u001b[0m\n\u001b[1;32m---> 11\u001b[1;33m      y = 'Streamflow (mm/day)')\n\u001b[0m\u001b[0;32m     12\u001b[0m \u001b[1;33m\u001b[0m\u001b[0m\n\u001b[0;32m     13\u001b[0m \u001b[1;33m\u001b[0m\u001b[0m\n",
      "\u001b[1;32m/home/jovyan/work/notebooks/utilities/rhessys_wf.py\u001b[0m in \u001b[0;36mplot_rhessys_results\u001b[1;34m(outfileSuffix, obs, column, legend, plottype, data, behavioralData, color, linewidth, linestyle, title, x, y, titlefontsize, scatterwidth, fontweight, legendfontsize, axesfontsize, ticklabelfontsize, figureX, figureY, supressObs, secondaryData, secondaryPlotType, secondaryColumn, secondaryLabel)\u001b[0m\n\u001b[0;32m    306\u001b[0m     \u001b[1;32mif\u001b[0m \u001b[0mdata\u001b[0m\u001b[1;33m:\u001b[0m\u001b[1;33m\u001b[0m\u001b[0m\n\u001b[0;32m    307\u001b[0m         \u001b[1;31m# Open observed data\u001b[0m\u001b[1;33m\u001b[0m\u001b[1;33m\u001b[0m\u001b[0m\n\u001b[1;32m--> 308\u001b[1;33m         \u001b[0mobs_file\u001b[0m \u001b[1;33m=\u001b[0m \u001b[0mopen\u001b[0m\u001b[1;33m(\u001b[0m\u001b[0mobs\u001b[0m\u001b[1;33m,\u001b[0m \u001b[1;34m'r'\u001b[0m\u001b[1;33m)\u001b[0m\u001b[1;33m\u001b[0m\u001b[0m\n\u001b[0m\u001b[0;32m    309\u001b[0m         (obs_datetime, obs_data) = RHESSysOutput.readObservedDataFromFile(obs_file,\n\u001b[0;32m    310\u001b[0m                                                                           readHour=False)\n",
      "\u001b[1;31mIOError\u001b[0m: [Errno 2] No such file or directory: '/home/jovyan/work/notebooks/data/test_obs.txt'"
     ]
    }
   ],
   "source": [
    "data =  os.path.join(w.sub_project_folder, 'rhessys/output/test/rhessys_basin.daily')\n",
    "obs_data =  '/home/jovyan/work/notebooks/data/test_obs.txt'\n",
    "\n",
    "plot_rhessys_results(\n",
    "    outfileSuffix = 'test_plot', \n",
    "     obs = obs_data, \n",
    "     column = 'streamflow',\n",
    "     data = [data], \n",
    "     legend = ['Test simulation'],\n",
    "     title = 'DR5 streamflow',\n",
    "     y = 'Streamflow (mm/day)')\n",
    "\n",
    "\n",
    "plot_rhessys_results('test_plot', \n",
    "     obs_data, \n",
    "     'streamflow', \n",
    "     ['Test simulation'],\n",
    "        #plottype=PLOT_DEFAULT,\n",
    "        data=[data], \n",
    "        #behavioralData=None,\n",
    "        #color=['magenta'],\n",
    "        #linewidth=None,\n",
    "        #linestyle=None,\n",
    "        title='DR5 streamflow',\n",
    "        #x=None,\n",
    "        y='Streamflow (mm/day)',\n",
    "        #titlefontsize=12,\n",
    "        #scatterwidth=1,\n",
    "        #fontweight='regular',\n",
    "        #legendfontsize=6,\n",
    "        #axesfontsize=12,\n",
    "        #ticklabelfontsize=12,\n",
    "        #figureX=8,\n",
    "        #figureY=5,\n",
    "        #supressObs=False,\n",
    "        #secondaryData=obs_data,\n",
    "        #secondaryPlotType='bar',\n",
    "        #secondaryColumn='precip',\n",
    "        #secondaryLabel='Rainfall (mm/day)'\n",
    "                    )"
   ]
  },
  {
   "cell_type": "markdown",
   "metadata": {
    "collapsed": true
   },
   "source": [
    "---\n",
    "## 3. Save the results back into HydroShare\n",
    "\n",
    "Using the `hs_utils` library, the results of our time series analysis can be saved back into HydroShare.  First, define all of the required metadata for resource creation, i.e. *title*, *abstract*, *keywords*, and *content files*.  In addition, we must define the type of resource that will be created, in this case *genericresource*.  \n",
    "\n",
    "***Optional*** : define the resource from which this \"new\" content has been derived.  This is one method for tracking resource provenance."
   ]
  },
  {
   "cell_type": "code",
   "execution_count": 29,
   "metadata": {
    "collapsed": false
   },
   "outputs": [
    {
     "name": "stdout",
     "output_type": "stream",
     "text": [
      "Adding the following system variables:\n",
      "   HS_USR_NAME = TonyCastronova\n",
      "   HS_RES_ID = 466d5b3de8a543808d96ded08d861dc5\n",
      "   HS_RES_TYPE = genericresource\n",
      "   JUPYTER_HUB_IP = jupyter.uwrl.usu.edu\n",
      "\n",
      "These can be accessed using the following command: \n",
      "   os.environ[key]\n",
      "\n",
      "   (e.g.)\n",
      "   os.environ[\"HS_USR_NAME\"]  => TonyCastronova\n"
     ]
    },
    {
     "data": {
      "text/html": [
       "<b style=\"color:green;\">Successfully established a connection with HydroShare</b>"
      ],
      "text/plain": [
       "<IPython.core.display.HTML object>"
      ]
     },
     "metadata": {},
     "output_type": "display_data"
    }
   ],
   "source": [
    "import hs_utils\n",
    "\n",
    "# establish a secure connection to HydroShare\n",
    "hs = hs_utils.hydroshare()"
   ]
  },
  {
   "cell_type": "code",
   "execution_count": 26,
   "metadata": {
    "collapsed": false
   },
   "outputs": [
    {
     "name": "stdout",
     "output_type": "stream",
     "text": [
      "tar: Removing leading `/' from member names\r\n"
     ]
    }
   ],
   "source": [
    "# compress the simulation data\n",
    "!tar -zcf $DATA/mysim.tar.gz $DATA/mysim "
   ]
  },
  {
   "cell_type": "code",
   "execution_count": 30,
   "metadata": {
    "collapsed": true
   },
   "outputs": [],
   "source": [
    "# define HydroShare required metadata\n",
    "title = 'RHESSys Example'\n",
    "abstract = 'This is a sample RHESSys simulation'\n",
    "keywords = ['Jupyterhub', 'RHESSys']\n",
    "\n",
    "# set the resource type that will be created.\n",
    "rtype = 'genericresource'\n",
    "\n",
    "# create a list of files that will be added to the HydroShare resource.\n",
    "files = [os.path.join(os.environ['DATA'], 'mysim.tar.gz'), # the compressed simulation data\n",
    "         os.path.join(os.getcwd(), 'rhessys.ipynb')  # this notebook\n",
    "        ]  "
   ]
  },
  {
   "cell_type": "code",
   "execution_count": 33,
   "metadata": {
    "collapsed": false
   },
   "outputs": [
    {
     "data": {
      "application/javascript": [
       "IPython.notebook.save_checkpoint();"
      ],
      "text/plain": [
       "<IPython.core.display.Javascript object>"
      ]
     },
     "metadata": {},
     "output_type": "display_data"
    },
    {
     "name": "stdout",
     "output_type": "stream",
     "text": [
      "You have indicated that this resource is NOT derived from any existing HydroShare resource.  Are you sure that this is what you intended? [Y/n]y\n",
      "                                       \n"
     ]
    },
    {
     "data": {
      "text/html": [
       "<b style=\"color:green;\">Resource Creation Successful</b>"
      ],
      "text/plain": [
       "<IPython.core.display.HTML object>"
      ]
     },
     "metadata": {},
     "output_type": "display_data"
    },
    {
     "name": "stdout",
     "output_type": "stream",
     "text": [
      "                                     \n"
     ]
    },
    {
     "data": {
      "text/html": [
       "<b style=\"color:green;\">Successfully Added Content Files</b>"
      ],
      "text/plain": [
       "<IPython.core.display.HTML object>"
      ]
     },
     "metadata": {},
     "output_type": "display_data"
    },
    {
     "data": {
      "text/html": [
       "Resource id: 0ae84cd4873b46c3b10ea2ae8746f603"
      ],
      "text/plain": [
       "<IPython.core.display.HTML object>"
      ]
     },
     "metadata": {},
     "output_type": "display_data"
    },
    {
     "data": {
      "text/html": [
       "<a href=https://www.hydroshare.org/resource/0ae84cd4873b46c3b10ea2ae8746f603 target=\"_blank\">Open Resource in HydroShare<a>"
      ],
      "text/plain": [
       "<IPython.core.display.HTML object>"
      ]
     },
     "metadata": {},
     "output_type": "display_data"
    }
   ],
   "source": [
    "# save the state of the current notebook\n",
    "from IPython.display import display,Javascript \n",
    "display(Javascript('IPython.notebook.save_checkpoint();'))\n",
    "\n",
    "# create a hydroshare resource containing these data\n",
    "resource_id = hs.createHydroShareResource(abstract, \n",
    "                                          title, \n",
    "                                          derivedFromId=None,\n",
    "                                          keywords=keywords, \n",
    "                                          resource_type=rtype, \n",
    "                                          content_files=files, \n",
    "                                          public=False)"
   ]
  },
  {
   "cell_type": "markdown",
   "metadata": {},
   "source": [
    "## 4. Known Limitations and Future Additions\n",
    "\n",
    "* We are ***missing user parameters*** to control the RHESSys simulation. For example, different ways to generate patches. As well as controlling the data workflows, such as metadata for `CreateGRASSLocationFromDEM`.\n",
    "* The ***areaEstimate*** input in `DelineateWatershed` function requires automation. The area returned by the HydroTerre RHESSys workflow uses USGS HUC-12s that are often larger than the watershed generated by the `DelineateWatershed` function.\n",
    "* New tools are required to process the ***LAI*** raster datasets for RHESSys simulations.\n",
    "* The RHESSysWorkflows do allow users to specify and/or upload ***climate station data***. We envision a new web-service that can automatically detect the climate stations within the watershed and prepare the data. Here, we are using climate data from HydroTerre which has one climate normal from 1979-01-01 to 2009-12-31. Users interested in data from the year 2010 to present will be required to upload RHESSys climate files.\n",
    "* The ***ETV***  bundle has additional data not used by this workflow and future tools will allow users the option where to retrieve data services from with graphic user interface (GUI) control.\n",
    "* This notebook retrieves RHESSys code from the github repository. Future notebooks will empower users to upload their code version and/or import specific model versions."
   ]
  },
  {
   "cell_type": "markdown",
   "metadata": {},
   "source": [
    "## 5. Resources\n",
    "\n",
    "* RHESSys\n",
    "  * [Setup](http://fiesta.bren.ucsb.edu/~rhessys/setup/setup.html)\n",
    "  * [Wiki](http://fiesta.bren.ucsb.edu/~rhessys/)\n",
    "* Data\n",
    "  * [HydroShare](https://www.hydroshare.org/)\n",
    "  * [USGS Data and Tools](https://www.usgs.gov/products/data-and-tools/data-and-tools-topics)\n",
    "  * [USDA Data gateway](https://gdg.sc.egov.usda.gov/)\n",
    "  * [HydroTerre](http://hydroterre.psu.edu/)\n",
    "  \n"
   ]
  },
  {
   "cell_type": "code",
   "execution_count": null,
   "metadata": {
    "collapsed": true
   },
   "outputs": [],
   "source": []
  }
 ],
 "metadata": {
  "kernelspec": {
   "display_name": "Python 2",
   "language": "python",
   "name": "python2"
  },
  "language_info": {
   "codemirror_mode": {
    "name": "ipython",
    "version": 2
   },
   "file_extension": ".py",
   "mimetype": "text/x-python",
   "name": "python",
   "nbconvert_exporter": "python",
   "pygments_lexer": "ipython2",
   "version": "2.7.11"
  },
  "widgets": {
   "state": {},
   "version": "1.1.2"
  }
 },
 "nbformat": 4,
 "nbformat_minor": 0
}
