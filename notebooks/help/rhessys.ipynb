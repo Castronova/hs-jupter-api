{
 "cells": [
  {
   "cell_type": "markdown",
   "metadata": {},
   "source": [
    "### Sample RHESSys workflow\n",
    "\n",
    "**Note:** This workflow is underdevelopment and still needs documentation"
   ]
  },
  {
   "cell_type": "code",
   "execution_count": null,
   "metadata": {
    "collapsed": false
   },
   "outputs": [],
   "source": [
    "import logging\n",
    "from rhessys_wf import *"
   ]
  },
  {
   "cell_type": "code",
   "execution_count": null,
   "metadata": {
    "collapsed": false
   },
   "outputs": [],
   "source": [
    "w = RHESSysWorkflow(project_name='mysim', \n",
    "                    gageid='01589312',\n",
    "                    start_date='2008-01-01',\n",
    "                    end_date='2010-01-01'\n",
    "                    )"
   ]
  },
  {
   "cell_type": "code",
   "execution_count": null,
   "metadata": {
    "collapsed": true
   },
   "outputs": [],
   "source": [
    "# Get root logger (all other loggers will be derived from this logger's properties)\n",
    "logger = logging.getLogger()\n",
    "\n",
    "# assuming only a single handler has been setup (seems to be default in notebook), set that handler to go to stdout.\n",
    "logger.handlers[0].stream = sys.stdout"
   ]
  },
  {
   "cell_type": "code",
   "execution_count": null,
   "metadata": {
    "collapsed": false
   },
   "outputs": [],
   "source": [
    "w.get_NHDStreamflowGageIdentifiersAndLocation(w.sub_project_folder,w.gageid)\n",
    "w.get_CatchmentShapefileForNHDStreamflowGage(w.sub_project_folder)\n",
    "w.get_BoundingboxFromStudyareaShapefile(w.sub_project_folder)\n",
    "extent = w.get_Extent_from_RHESSysWorkflows_Metadata_File()"
   ]
  },
  {
   "cell_type": "code",
   "execution_count": null,
   "metadata": {
    "collapsed": false
   },
   "outputs": [],
   "source": [
    "w.HydroTerre_RHESSys_ByExtent(extent, w.ht_start_date, w.ht_end_date, w.sub_project_folder)\n",
    "zipfolder = w.sub_project_folder + '/RHESSys_ETV'\n",
    "w.create_path(zipfolder)\n",
    "zipfilepathname = w.sub_project_folder + '/RHESSys_ETV_Data.zip'\n",
    "w.unzip_etv_zip_file_at_path(zipfilepathname, zipfolder)"
   ]
  },
  {
   "cell_type": "code",
   "execution_count": null,
   "metadata": {
    "collapsed": false
   },
   "outputs": [],
   "source": [
    "output = w.get_USGSDEMForBoundingbox(w.sub_project_folder)\n",
    "output = w.get_USGSNLCDForDEMExtent(w.sub_project_folder)\n",
    "output = w.get_SSURGOFeaturesForBoundingbox(w.sub_project_folder)\n",
    "output =w.GenerateSoilPropertyRastersFromSSURGO(w.sub_project_folder)\n",
    "w.lai_fullpathname_with_ext = w.sub_project_folder + '/RHESSys_ETV/RHESSys_LAI/LAI_Month0.tif'\n",
    "output = w.Register_LAI_Raster(w.sub_project_folder, w.lai_fullpathname_with_ext, w.publisher)\n",
    "output = w.CreateGRASSLocationFromDEM(w.sub_project_folder, '\"RHESSys model for Dead Run 5 watershed near Catonsville, MD\"')"
   ]
  },
  {
   "cell_type": "code",
   "execution_count": null,
   "metadata": {
    "collapsed": false
   },
   "outputs": [],
   "source": [
    "output = w.ImportRHESSysSource(w.sub_project_folder)\n",
    "print 'Finished'"
   ]
  },
  {
   "cell_type": "code",
   "execution_count": null,
   "metadata": {
    "collapsed": false
   },
   "outputs": [],
   "source": [
    "output = w.climate_data_fullpathname = w.sub_project_folder + '/RHESSys_ETV/RHESSys_Climate'\n",
    "\n",
    "output = w.ImportClimateData(w.sub_project_folder, w.climate_data_fullpathname)\n",
    "\n",
    "output = w.station_data_fullpathname = w.sub_project_folder + '/RHESSys_ETV/RHESSys_Climate'\n",
    "\n",
    "output = w.DelineateWatershed(w.sub_project_folder, w.dem_cell_threshold, w.areaEstimate)\n",
    "\n",
    "output = w.GeneratePatchMap(w.sub_project_folder)"
   ]
  },
  {
   "cell_type": "code",
   "execution_count": null,
   "metadata": {
    "collapsed": false
   },
   "outputs": [],
   "source": [
    "output = w.GenerateSoilTextureMap(w.sub_project_folder, options='--overwrite')\n",
    "\n",
    "output = w.ImportRasterMapIntoGRASS_LAI(w.sub_project_folder)\n",
    "\n",
    "output = w.ImportRasterMapIntoGRASS_LANDCOVER(w.sub_project_folder)"
   ]
  },
  {
   "cell_type": "code",
   "execution_count": null,
   "metadata": {
    "collapsed": false
   },
   "outputs": [],
   "source": [
    "output = w.RegisterLandcoverReclassRules(w.sub_project_folder)\n",
    "output = w.GenerateLandcoverMaps(w.sub_project_folder)\n",
    "output = w.GenerateWorldTemplate(w.sub_project_folder)\n",
    "output = w.CreateWorldfile(w.sub_project_folder)\n",
    "output = w.CreateFlowtable(w.sub_project_folder)\n",
    "output = w.RunLAIRead(w.sub_project_folder)\n",
    "output = w.RunCmd(w.sub_project_folder, 3)            "
   ]
  },
  {
   "cell_type": "code",
   "execution_count": null,
   "metadata": {
    "collapsed": false
   },
   "outputs": [],
   "source": [
    "output = w.RunModel(w.sub_project_folder)"
   ]
  },
  {
   "cell_type": "code",
   "execution_count": null,
   "metadata": {
    "collapsed": false
   },
   "outputs": [],
   "source": [
    "obs_data = '/projects/start_from_scratch/01589312/DR5_discharge_WY2008-2012.txt'\n",
    "output = w.RHESSysPlot(w.sub_project_folder, obs_data)"
   ]
  },
  {
   "cell_type": "code",
   "execution_count": null,
   "metadata": {
    "collapsed": true
   },
   "outputs": [],
   "source": []
  }
 ],
 "metadata": {
  "kernelspec": {
   "display_name": "Python 2",
   "language": "python",
   "name": "python2"
  },
  "language_info": {
   "codemirror_mode": {
    "name": "ipython",
    "version": 2
   },
   "file_extension": ".py",
   "mimetype": "text/x-python",
   "name": "python",
   "nbconvert_exporter": "python",
   "pygments_lexer": "ipython2",
   "version": "2.7.11"
  },
  "widgets": {
   "state": {},
   "version": "1.1.2"
  }
 },
 "nbformat": 4,
 "nbformat_minor": 0
}
