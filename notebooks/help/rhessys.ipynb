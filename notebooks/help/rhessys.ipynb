{
 "cells": [
  {
   "cell_type": "markdown",
   "metadata": {},
   "source": [
    "### Sample RHESSys workflow\n",
    "\n",
    "**Note:** This workflow is underdevelopment and still needs documentation"
   ]
  },
  {
   "cell_type": "code",
   "execution_count": 1,
   "metadata": {
    "collapsed": false
   },
   "outputs": [],
   "source": [
    "import os\n",
    "import logging\n",
    "from rhessys_wf import *\n",
    "%matplotlib inline"
   ]
  },
  {
   "cell_type": "markdown",
   "metadata": {},
   "source": [
    "The `RHESSysWorkflow` class is provided as part of the `rhessys_wf` library (imported above) to streamline your interaction with the `RHESSysWorkflows` [core functions](https://github.com/selimnairb/RHESSysWorkflows).  More information about this class can be obtained by executing the `help(RHESSysWorkflow)` command.\n",
    "\n",
    "Create and instance of the `RHESSysWorkflow` class and assign it to the variable `w`, using the gage id **01589312**, a start date of **2008-01-01**, and an end date of **2010-01-01**.  This command will create a clean directory for the given project name of **mysim** in the JupyterHub's default data directory."
   ]
  },
  {
   "cell_type": "code",
   "execution_count": 2,
   "metadata": {
    "collapsed": false
   },
   "outputs": [
    {
     "name": "stdout",
     "output_type": "stream",
     "text": [
      "Project [mysim] already exists, would you like to remove it [Y/n]? \n",
      "Creating a clean directory for project [mysim]\n",
      "Log file location: /home/jovyan/work/notebooks/data/mysim/mysim.log\n"
     ]
    },
    {
     "data": {
      "text/html": [
       "<pre>RHESSys project has been initialized at:<br><a href=/user/tonycastronova/notebooks/notebooks/data/mysim target=\"_blank\">/notebooks/data/mysim<a></pre>"
      ],
      "text/plain": [
       "<IPython.core.display.HTML object>"
      ]
     },
     "metadata": {},
     "output_type": "display_data"
    }
   ],
   "source": [
    "w = RHESSysWorkflow(project_name='mysim', \n",
    "                    gageid='01589312',\n",
    "                    start_date='2008-01-01',\n",
    "                    end_date='2010-01-01'\n",
    "                    )"
   ]
  },
  {
   "cell_type": "markdown",
   "metadata": {},
   "source": [
    "The `RHESSysWorkflow` class uses a logging library to document output and errors.  We can display these messages in our notebook by attaching to the logger and redirecting the output to stdout.  While this step is not necessary, it will provide us with more verbose output."
   ]
  },
  {
   "cell_type": "code",
   "execution_count": 3,
   "metadata": {
    "collapsed": true
   },
   "outputs": [],
   "source": [
    "# Get root logger (all other loggers will be derived from this logger's properties)\n",
    "logger = logging.getLogger()\n",
    "\n",
    "# assuming only a single handler has been setup (seems to be default in notebook), set that handler to go to stdout.\n",
    "logger.handlers[0].stream = sys.stdout"
   ]
  },
  {
   "cell_type": "markdown",
   "metadata": {},
   "source": [
    "Create project from NHD gage id??"
   ]
  },
  {
   "cell_type": "code",
   "execution_count": 4,
   "metadata": {
    "collapsed": false
   },
   "outputs": [
    {
     "name": "stdout",
     "output_type": "stream",
     "text": [
      "INFO:myApp:GetNHDStreamflowGageIdentifiersAndLocation.py -p /home/jovyan/work/notebooks/data/mysim/mysim -g 01589312\n",
      "INFO:myApp:GetCatchmentShapefileForNHDStreamflowGage.py --overwrite -p /home/jovyan/work/notebooks/data/mysim/mysim\n",
      "INFO:myApp:GetBoundingboxFromStudyareaShapefile.py -p /home/jovyan/work/notebooks/data/mysim/mysim\n",
      "INFO:myApp:/home/jovyan/work/notebooks/data/mysim/mysim/metadata.txt\n",
      "INFO:myApp:\n",
      "min x = -76.769782\n",
      "min y = 39.273610\n",
      "max x = -76.717498\n",
      "max y = 39.326008\n",
      "\n"
     ]
    }
   ],
   "source": [
    "w.get_NHDStreamflowGageIdentifiersAndLocation(w.sub_project_folder,w.gageid)\n",
    "w.get_CatchmentShapefileForNHDStreamflowGage(w.sub_project_folder)\n",
    "w.get_BoundingboxFromStudyareaShapefile(w.sub_project_folder)\n",
    "extent = w.get_Extent_from_RHESSysWorkflows_Metadata_File()"
   ]
  },
  {
   "cell_type": "markdown",
   "metadata": {},
   "source": [
    "Retrieve ??? from HydroTerre"
   ]
  },
  {
   "cell_type": "code",
   "execution_count": null,
   "metadata": {
    "collapsed": false
   },
   "outputs": [],
   "source": [
    "w.HydroTerre_RHESSys_ByExtent(extent, w.ht_start_date, w.ht_end_date, w.sub_project_folder)\n",
    "zipfolder = w.sub_project_folder + '/RHESSys_ETV'\n",
    "w.create_path(zipfolder)\n",
    "zipfilepathname = w.sub_project_folder + '/RHESSys_ETV_Data.zip'\n",
    "w.unzip_etv_zip_file_at_path(zipfilepathname, zipfolder)"
   ]
  },
  {
   "cell_type": "markdown",
   "metadata": {},
   "source": [
    "do more rhessys prep ..."
   ]
  },
  {
   "cell_type": "code",
   "execution_count": null,
   "metadata": {
    "collapsed": true
   },
   "outputs": [],
   "source": [
    "output = w.get_USGSDEMForBoundingbox(w.sub_project_folder)\n",
    "output = w.get_USGSNLCDForDEMExtent(w.sub_project_folder)\n",
    "output = w.get_SSURGOFeaturesForBoundingbox(w.sub_project_folder)\n",
    "output =w.GenerateSoilPropertyRastersFromSSURGO(w.sub_project_folder)\n",
    "w.lai_fullpathname_with_ext = w.sub_project_folder + '/RHESSys_ETV/RHESSys_LAI/LAI_Month0.tif'\n",
    "output = w.Register_LAI_Raster(w.sub_project_folder, w.lai_fullpathname_with_ext, w.publisher)\n",
    "output = w.CreateGRASSLocationFromDEM(w.sub_project_folder, '\"RHESSys model for Dead Run 5 watershed near Catonsville, MD\"')"
   ]
  },
  {
   "cell_type": "markdown",
   "metadata": {},
   "source": [
    "import rhessys code..."
   ]
  },
  {
   "cell_type": "code",
   "execution_count": null,
   "metadata": {
    "collapsed": false
   },
   "outputs": [],
   "source": [
    "output = w.ImportRHESSysSource(w.sub_project_folder)\n",
    "print 'Finished'"
   ]
  },
  {
   "cell_type": "markdown",
   "metadata": {},
   "source": [
    "add climate data, delineate watershed...."
   ]
  },
  {
   "cell_type": "code",
   "execution_count": null,
   "metadata": {
    "collapsed": false
   },
   "outputs": [],
   "source": [
    "output = w.climate_data_fullpathname = w.sub_project_folder + '/RHESSys_ETV/RHESSys_Climate'\n",
    "\n",
    "output = w.ImportClimateData(w.sub_project_folder, w.climate_data_fullpathname)\n",
    "\n",
    "output = w.station_data_fullpathname = w.sub_project_folder + '/RHESSys_ETV/RHESSys_Climate'\n",
    "\n",
    "output = w.DelineateWatershed(w.sub_project_folder, w.dem_cell_threshold, w.areaEstimate)\n",
    "\n",
    "output = w.GeneratePatchMap(w.sub_project_folder)"
   ]
  },
  {
   "cell_type": "markdown",
   "metadata": {},
   "source": [
    "generate soil texture ..."
   ]
  },
  {
   "cell_type": "code",
   "execution_count": null,
   "metadata": {
    "collapsed": true
   },
   "outputs": [],
   "source": [
    "output = w.GenerateSoilTextureMap(w.sub_project_folder, options='--overwrite')\n",
    "\n",
    "output = w.ImportRasterMapIntoGRASS_LAI(w.sub_project_folder)\n",
    "\n",
    "output = w.ImportRasterMapIntoGRASS_LANDCOVER(w.sub_project_folder)"
   ]
  },
  {
   "cell_type": "markdown",
   "metadata": {},
   "source": [
    "generate rhessys simulation inputs???"
   ]
  },
  {
   "cell_type": "code",
   "execution_count": null,
   "metadata": {
    "collapsed": false
   },
   "outputs": [],
   "source": [
    "output = w.RegisterLandcoverReclassRules(w.sub_project_folder)\n",
    "output = w.GenerateLandcoverMaps(w.sub_project_folder)\n",
    "output = w.GenerateWorldTemplate(w.sub_project_folder)\n",
    "output = w.CreateWorldfile(w.sub_project_folder)\n",
    "output = w.CreateFlowtable(w.sub_project_folder)\n",
    "output = w.RunLAIRead(w.sub_project_folder)\n",
    "output = w.RunCmd(w.sub_project_folder, 3)            "
   ]
  },
  {
   "cell_type": "markdown",
   "metadata": {},
   "source": [
    "run the rhessys simulation"
   ]
  },
  {
   "cell_type": "code",
   "execution_count": null,
   "metadata": {
    "collapsed": false
   },
   "outputs": [],
   "source": [
    "output = w.RunModel(w.sub_project_folder)"
   ]
  },
  {
   "cell_type": "markdown",
   "metadata": {},
   "source": [
    "plot the output"
   ]
  },
  {
   "cell_type": "code",
   "execution_count": null,
   "metadata": {
    "collapsed": false
   },
   "outputs": [],
   "source": [
    "data =  os.path.join(w.sub_project_folder, 'rhessys/output/test/rhessys_basin.daily')\n",
    "obs_data =  '/home/jovyan/work/notebooks/data/test_obs.txt'\n",
    "\n",
    "plot_rhessys_results(\n",
    "    outfileSuffix = 'test_plot', \n",
    "     obs = obs_data, \n",
    "     column = 'streamflow',\n",
    "     data = [data], \n",
    "     legend = ['Test simulation'],\n",
    "     title = 'DR5 streamflow',\n",
    "     y = 'Streamflow (mm/day)')\n",
    "\n",
    "\n",
    "plot_rhessys_results('test_plot', \n",
    "     obs_data, \n",
    "     'streamflow', \n",
    "     ['Test simulation'],\n",
    "        #plottype=PLOT_DEFAULT,\n",
    "        data=[data], \n",
    "        #behavioralData=None,\n",
    "        #color=['magenta'],\n",
    "        #linewidth=None,\n",
    "        #linestyle=None,\n",
    "        title='DR5 streamflow',\n",
    "        #x=None,\n",
    "        y='Streamflow (mm/day)',\n",
    "        #titlefontsize=12,\n",
    "        #scatterwidth=1,\n",
    "        #fontweight='regular',\n",
    "        #legendfontsize=6,\n",
    "        #axesfontsize=12,\n",
    "        #ticklabelfontsize=12,\n",
    "        #figureX=8,\n",
    "        #figureY=5,\n",
    "        #supressObs=False,\n",
    "        #secondaryData=obs_data,\n",
    "        #secondaryPlotType='bar',\n",
    "        #secondaryColumn='precip',\n",
    "        #secondaryLabel='Rainfall (mm/day)'\n",
    "                    )"
   ]
  },
  {
   "cell_type": "markdown",
   "metadata": {
    "collapsed": true
   },
   "source": [
    "---\n",
    "## 3. Save the results back into HydroShare\n",
    "\n",
    "Using the `hs_utils` library, the results of our timeseries analysis can be saved back into HydroShare.  First, define all of the required metadata for resource creation, i.e. *title*, *abstract*, *keywords*, and *content files*.  In addition, we must define the type of resource that will be created, in this case *genericresource*.  \n",
    "\n",
    "***Optional*** : define the resource from which this \"new\" content has been derived.  This is one method for tracking resource provenance."
   ]
  },
  {
   "cell_type": "code",
   "execution_count": 29,
   "metadata": {
    "collapsed": false
   },
   "outputs": [
    {
     "name": "stdout",
     "output_type": "stream",
     "text": [
      "Adding the following system variables:\n",
      "   HS_USR_NAME = TonyCastronova\n",
      "   HS_RES_ID = 466d5b3de8a543808d96ded08d861dc5\n",
      "   HS_RES_TYPE = genericresource\n",
      "   JUPYTER_HUB_IP = jupyter.uwrl.usu.edu\n",
      "\n",
      "These can be accessed using the following command: \n",
      "   os.environ[key]\n",
      "\n",
      "   (e.g.)\n",
      "   os.environ[\"HS_USR_NAME\"]  => TonyCastronova\n"
     ]
    },
    {
     "data": {
      "text/html": [
       "<b style=\"color:green;\">Successfully established a connection with HydroShare</b>"
      ],
      "text/plain": [
       "<IPython.core.display.HTML object>"
      ]
     },
     "metadata": {},
     "output_type": "display_data"
    }
   ],
   "source": [
    "import hs_utils\n",
    "\n",
    "# establish a secure connection to HydroShare\n",
    "hs = hs_utils.hydroshare()"
   ]
  },
  {
   "cell_type": "code",
   "execution_count": 26,
   "metadata": {
    "collapsed": false
   },
   "outputs": [
    {
     "name": "stdout",
     "output_type": "stream",
     "text": [
      "tar: Removing leading `/' from member names\r\n"
     ]
    }
   ],
   "source": [
    "# compress the simulation data\n",
    "!tar -zcf $DATA/mysim.tar.gz $DATA/mysim "
   ]
  },
  {
   "cell_type": "code",
   "execution_count": 30,
   "metadata": {
    "collapsed": true
   },
   "outputs": [],
   "source": [
    "# define HydroShare required metadata\n",
    "title = 'RHESSys Example'\n",
    "abstract = 'This is a sample RHESSys simulation'\n",
    "keywords = ['Jupyterhub', 'RHESSys']\n",
    "\n",
    "# set the resource type that will be created.\n",
    "rtype = 'genericresource'\n",
    "\n",
    "# create a list of files that will be added to the HydroShare resource.\n",
    "files = [os.path.join(os.environ['DATA'], 'mysim.tar.gz'), # the compressed simulation data\n",
    "         os.path.join(os.getcwd(), 'rhessys.ipynb')  # this notebook\n",
    "        ]  "
   ]
  },
  {
   "cell_type": "code",
   "execution_count": 33,
   "metadata": {
    "collapsed": false
   },
   "outputs": [
    {
     "data": {
      "application/javascript": [
       "IPython.notebook.save_checkpoint();"
      ],
      "text/plain": [
       "<IPython.core.display.Javascript object>"
      ]
     },
     "metadata": {},
     "output_type": "display_data"
    },
    {
     "name": "stdout",
     "output_type": "stream",
     "text": [
      "You have indicated that this resource is NOT derived from any existing HydroShare resource.  Are you sure that this is what you intended? [Y/n]y\n",
      "                                       \n"
     ]
    },
    {
     "data": {
      "text/html": [
       "<b style=\"color:green;\">Resource Creation Successful</b>"
      ],
      "text/plain": [
       "<IPython.core.display.HTML object>"
      ]
     },
     "metadata": {},
     "output_type": "display_data"
    },
    {
     "name": "stdout",
     "output_type": "stream",
     "text": [
      "                                     \n"
     ]
    },
    {
     "data": {
      "text/html": [
       "<b style=\"color:green;\">Successfully Added Content Files</b>"
      ],
      "text/plain": [
       "<IPython.core.display.HTML object>"
      ]
     },
     "metadata": {},
     "output_type": "display_data"
    },
    {
     "data": {
      "text/html": [
       "Resource id: 0ae84cd4873b46c3b10ea2ae8746f603"
      ],
      "text/plain": [
       "<IPython.core.display.HTML object>"
      ]
     },
     "metadata": {},
     "output_type": "display_data"
    },
    {
     "data": {
      "text/html": [
       "<a href=https://www.hydroshare.org/resource/0ae84cd4873b46c3b10ea2ae8746f603 target=\"_blank\">Open Resource in HydroShare<a>"
      ],
      "text/plain": [
       "<IPython.core.display.HTML object>"
      ]
     },
     "metadata": {},
     "output_type": "display_data"
    }
   ],
   "source": [
    "# save the state of the current notebook\n",
    "from IPython.display import display,Javascript \n",
    "display(Javascript('IPython.notebook.save_checkpoint();'))\n",
    "\n",
    "# create a hydroshare resource containing these data\n",
    "resource_id = hs.createHydroShareResource(abstract, \n",
    "                                          title, \n",
    "                                          derivedFromId=None,\n",
    "                                          keywords=keywords, \n",
    "                                          resource_type=rtype, \n",
    "                                          content_files=files, \n",
    "                                          public=False)"
   ]
  },
  {
   "cell_type": "code",
   "execution_count": null,
   "metadata": {
    "collapsed": true
   },
   "outputs": [],
   "source": []
  }
 ],
 "metadata": {
  "kernelspec": {
   "display_name": "Python 2",
   "language": "python",
   "name": "python2"
  },
  "language_info": {
   "codemirror_mode": {
    "name": "ipython",
    "version": 2
   },
   "file_extension": ".py",
   "mimetype": "text/x-python",
   "name": "python",
   "nbconvert_exporter": "python",
   "pygments_lexer": "ipython2",
   "version": "2.7.11"
  },
  "widgets": {
   "state": {},
   "version": "1.1.2"
  }
 },
 "nbformat": 4,
 "nbformat_minor": 0
}
