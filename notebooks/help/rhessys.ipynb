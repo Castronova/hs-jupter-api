{
 "cells": [
  {
   "cell_type": "code",
   "execution_count": 1,
   "metadata": {
    "collapsed": false
   },
   "outputs": [],
   "source": [
    "from rhessys_wf import *\n",
    "\n",
    "project_location = './test'\n",
    "project_name = 'mytest'\n",
    "gageid = '01589312'\n",
    "start_date = '2008-01-01'\n",
    "end_date = '2010-01-01'\n",
    "rhessys_source_location = ''\n",
    "publisher = 'RHESSysWorkflow'\n",
    "\n",
    "!rm -rf test/\n",
    "!mkdir test"
   ]
  },
  {
   "cell_type": "code",
   "execution_count": 2,
   "metadata": {
    "collapsed": true
   },
   "outputs": [],
   "source": [
    "import logging\n",
    "\n",
    "# Get root logger (all other loggers will be derived from this logger's properties)\n",
    "logger = logging.getLogger()\n",
    "\n",
    "# assuming only a single handler has been setup (seems \n",
    "# to be default in notebook), set that handler to go to stdout.\n",
    "logger.handlers[0].stream = sys.stdout"
   ]
  },
  {
   "cell_type": "code",
   "execution_count": 3,
   "metadata": {
    "collapsed": false
   },
   "outputs": [
    {
     "name": "stdout",
     "output_type": "stream",
     "text": [
      "Log file location: ./test/mytest/mytest.log\n"
     ]
    }
   ],
   "source": [
    "w = RHESSysWorkflow(project_location, project_name, gageid, start_date, end_date, rhessys_source_location, publisher)"
   ]
  },
  {
   "cell_type": "code",
   "execution_count": 4,
   "metadata": {
    "collapsed": false
   },
   "outputs": [
    {
     "name": "stdout",
     "output_type": "stream",
     "text": [
      "INFO:myApp:GetNHDStreamflowGageIdentifiersAndLocation.py -p ./test/mytest/mytest -g 01589312\n",
      "INFO:myApp:GetCatchmentShapefileForNHDStreamflowGage.py --overwrite -p ./test/mytest/mytest\n",
      "INFO:myApp:GetBoundingboxFromStudyareaShapefile.py -p ./test/mytest/mytest\n",
      "INFO:myApp:./test/mytest/mytest/metadata.txt\n",
      "INFO:myApp:\n",
      "min x = -76.769782\n",
      "min y = 39.273610\n",
      "max x = -76.717498\n",
      "max y = 39.326008\n",
      "\n"
     ]
    }
   ],
   "source": [
    "w.get_NHDStreamflowGageIdentifiersAndLocation(w.sub_project_folder,w.gageid)\n",
    "w.get_CatchmentShapefileForNHDStreamflowGage(w.sub_project_folder)\n",
    "w.get_BoundingboxFromStudyareaShapefile(w.sub_project_folder)\n",
    "extent = w.get_Extent_from_RHESSysWorkflows_Metadata_File()"
   ]
  },
  {
   "cell_type": "code",
   "execution_count": 5,
   "metadata": {
    "collapsed": false
   },
   "outputs": [
    {
     "name": "stdout",
     "output_type": "stream",
     "text": [
      "checking to see if HydroTerre job is completed...\n",
      "checking to see if HydroTerre job is completed...\n",
      "--------Download Start-------------\n",
      "Retrieving result from: http://hydroterre.psu.edu/HydroTerre_Rhessys_ByExtent/j31304063c3e64be0b4d0e8f2bd6c4f9a/scratch/RHESSys_ETV_Data.zip\n",
      "--------Download End-------------\n",
      "--------HUC12 Area-------------\n",
      "412.045597076416 SQKM\n"
     ]
    }
   ],
   "source": [
    "w.HydroTerre_RHESSys_ByExtent(extent, w.ht_start_date, w.ht_end_date, w.sub_project_folder)\n",
    "zipfolder = w.sub_project_folder + '/RHESSys_ETV'\n",
    "w.create_path(zipfolder)\n",
    "zipfilepathname = w.sub_project_folder + '/RHESSys_ETV_Data.zip'\n",
    "w.unzip_etv_zip_file_at_path(zipfilepathname, zipfolder)"
   ]
  },
  {
   "cell_type": "code",
   "execution_count": 6,
   "metadata": {
    "collapsed": false
   },
   "outputs": [
    {
     "name": "stdout",
     "output_type": "stream",
     "text": [
      "INFO:myApp:GetUSGSDEMForBoundingbox.py --overwrite -p ./test/mytest/mytest\n",
      "INFO:myApp:GetUSGSNLCDForDEMExtent.py -p ./test/mytest/mytest\n",
      "INFO:myApp:GetSSURGOFeaturesForBoundingbox.py -p ./test/mytest/mytest\n",
      "INFO:myApp:GenerateSoilPropertyRastersFromSSURGO.py -p ./test/mytest/mytest\n",
      "INFO:myApp:RegisterRaster.py -p ./test/mytest/mytest -t lai -r ./test/mytest/mytest/RHESSys_ETV/RHESSys_LAI/LAI_Month0.tif -b \"RHESSysWorkflow\" --force \n",
      "INFO:myApp:CreateGRASSLocationFromDEM.py -p ./test/mytest/mytest -d \"RHESSys model for Dead Run 5 watershed near Catonsville, MD\"\n"
     ]
    }
   ],
   "source": [
    "output = w.get_USGSDEMForBoundingbox(w.sub_project_folder)\n",
    "output = w.get_USGSNLCDForDEMExtent(w.sub_project_folder)\n",
    "output = w.get_SSURGOFeaturesForBoundingbox(w.sub_project_folder)\n",
    "output =w.GenerateSoilPropertyRastersFromSSURGO(w.sub_project_folder)\n",
    "w.lai_fullpathname_with_ext = w.sub_project_folder + '/RHESSys_ETV/RHESSys_LAI/LAI_Month0.tif'\n",
    "output = w.Register_LAI_Raster(w.sub_project_folder, w.lai_fullpathname_with_ext, w.publisher)\n",
    "output = w.CreateGRASSLocationFromDEM(w.sub_project_folder, '\"RHESSys model for Dead Run 5 watershed near Catonsville, MD\"')"
   ]
  },
  {
   "cell_type": "code",
   "execution_count": 7,
   "metadata": {
    "collapsed": false
   },
   "outputs": [
    {
     "name": "stdout",
     "output_type": "stream",
     "text": [
      "INFO:myApp:ImportRHESSysSource.py --overwrite -p ./test/mytest/mytest\n",
      "Finished\n"
     ]
    }
   ],
   "source": [
    "output = w.ImportRHESSysSource(w.sub_project_folder)\n",
    "print 'Finished'"
   ]
  },
  {
   "cell_type": "code",
   "execution_count": 8,
   "metadata": {
    "collapsed": false
   },
   "outputs": [
    {
     "name": "stdout",
     "output_type": "stream",
     "text": [
      "INFO:myApp:ImportClimateData.py -p ./test/mytest/mytest -s ./test/mytest/mytest/RHESSys_ETV/RHESSys_Climate\n",
      "INFO:myApp:DelineateWatershed.py -p ./test/mytest/mytest -t 500 -a 412.045597076416\n",
      "INFO:myApp:GeneratePatchMap.py -p ./test/mytest/mytest -t clump -c elevation\n"
     ]
    }
   ],
   "source": [
    "output = w.climate_data_fullpathname = w.sub_project_folder + '/RHESSys_ETV/RHESSys_Climate'\n",
    "\n",
    "output = w.ImportClimateData(w.sub_project_folder, w.climate_data_fullpathname)\n",
    "\n",
    "output = w.station_data_fullpathname = w.sub_project_folder + '/RHESSys_ETV/RHESSys_Climate'\n",
    "\n",
    "output = w.DelineateWatershed(w.sub_project_folder, w.dem_cell_threshold, w.areaEstimate)\n",
    "\n",
    "output = w.GeneratePatchMap(w.sub_project_folder)\n"
   ]
  },
  {
   "cell_type": "code",
   "execution_count": 9,
   "metadata": {
    "collapsed": false
   },
   "outputs": [
    {
     "name": "stdout",
     "output_type": "stream",
     "text": [
      "INFO:myApp:GenerateSoilTextureMap.py -p ./test/mytest/mytest\n",
      "INFO:myApp:ImportRasterMapIntoGRASS.py -p ./test/mytest/mytest -t lai -m nearest\n",
      "INFO:myApp:ImportRasterMapIntoGRASS.py -p ./test/mytest/mytest -t landcover -m nearest\n"
     ]
    }
   ],
   "source": [
    "output = w.GenerateSoilTextureMap(w.sub_project_folder)\n",
    "\n",
    "output = w.ImportRasterMapIntoGRASS_LAI(w.sub_project_folder)\n",
    "\n",
    "output = w.ImportRasterMapIntoGRASS_LANDCOVER(w.sub_project_folder)"
   ]
  },
  {
   "cell_type": "code",
   "execution_count": 10,
   "metadata": {
    "collapsed": false
   },
   "outputs": [
    {
     "name": "stdout",
     "output_type": "stream",
     "text": [
      "INFO:myApp:RegisterLandcoverReclassRules.py -p ./test/mytest/mytest -k\n",
      "INFO:myApp:GenerateLandcoverMaps.py -p ./test/mytest/mytest\n",
      "INFO:myApp:GenerateWorldTemplate.py -p ./test/mytest/mytest -c HT_RHESSys\n",
      "INFO:myApp:CreateWorldfile.py -p ./test/mytest/mytest -v\n",
      "INFO:myApp:CreateFlowtable.py -p ./test/mytest/mytest --routeRoads\n",
      "INFO:myApp:RunLAIRead.py -p ./test/mytest/mytest -v\n",
      "INFO:myApp:RunCmd.py -p ./test/mytest/mytest echo \"2008 10 1 1 print_daily_on\" > ./test/mytest/mytest/rhessys/tecfiles/tec_daily.txt\n"
     ]
    }
   ],
   "source": [
    "output = w.RegisterLandcoverReclassRules(w.sub_project_folder)\n",
    "output = w.GenerateLandcoverMaps(w.sub_project_folder)\n",
    "output = w.GenerateWorldTemplate(w.sub_project_folder)\n",
    "output = w.CreateWorldfile(w.sub_project_folder)\n",
    "output = w.CreateFlowtable(w.sub_project_folder)\n",
    "output = w.RunLAIRead(w.sub_project_folder)\n",
    "output = w.RunCmd(w.sub_project_folder, 3)            "
   ]
  },
  {
   "cell_type": "code",
   "execution_count": null,
   "metadata": {
    "collapsed": false
   },
   "outputs": [],
   "source": [
    "output = w.RunModel(w.sub_project_folder)"
   ]
  },
  {
   "cell_type": "code",
   "execution_count": null,
   "metadata": {
    "collapsed": false
   },
   "outputs": [],
   "source": [
    "obs_data = '/projects/start_from_scratch/01589312/DR5_discharge_WY2008-2012.txt'\n",
    "output = w.RHESSysPlot(w.sub_project_folder, obs_data)"
   ]
  },
  {
   "cell_type": "code",
   "execution_count": null,
   "metadata": {
    "collapsed": true
   },
   "outputs": [],
   "source": []
  }
 ],
 "metadata": {
  "kernelspec": {
   "display_name": "Python 2",
   "language": "python",
   "name": "python2"
  },
  "language_info": {
   "codemirror_mode": {
    "name": "ipython",
    "version": 2
   },
   "file_extension": ".py",
   "mimetype": "text/x-python",
   "name": "python",
   "nbconvert_exporter": "python",
   "pygments_lexer": "ipython2",
   "version": "2.7.11"
  },
  "widgets": {
   "state": {},
   "version": "1.1.2"
  }
 },
 "nbformat": 4,
 "nbformat_minor": 0
}
