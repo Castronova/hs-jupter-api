{
 "cells": [
  {
   "cell_type": "markdown",
   "metadata": {},
   "source": [
    "## Welcome to the HydroShare Python Notebook Server\n",
    "\n",
    "Welcome.  This Jupyter notebook server will enable you to explore, modify, and interact with HydroShare resources using the Python programming language.  A Jupyter **notebook** is an enhanced computational environment that combines rich text and code execution into a single script-like container. The HydroShare Python Notebook Server aims to combine this standard notebook functionality with the HydroShare data hosting platform to provided a rich computational environment for water scientists.\n",
    "\n",
    "### Directory Structure  \n",
    "\n",
    "A userspace has been contructed for you and consists of several directories, examples, and utility libraries.  Most of this filesystem is recreated each time you visit the JupyterHub to ensure that the latest and greatest notebooks are made available to you. The userspace has been organized in the following manner:\n",
    "\n",
    "- Notebooks: (`the main directory space`)  \n",
    " - Data: (`storing HydroShare resource content`)\n",
    " - Documents: (`create and save custom notebooks`)\n",
    " - Examples: (`example notebooks`)\n",
    " - Utilities: (`helpful libraries`)\n",
    "\n",
    "The **data** directory is the default location where HydroShare resource content is saved and accessed from Python notebooks.  This is a safe place to upload or save data files that will be accessed from within notebooks.\n",
    "  \n",
    "The **documents** directory is a location for you to create and manage custom notebooks. \n",
    "  \n",
    "The **examples** directory contains sample notebooks for your reference.  This directory be periodically updated to provide HydroShare users new notebooks, which unfortunately means that anything saved here may be overwritten or lost. For this reason, we recommend that you use the **documents** directory for you personal notebooks instead of the examples directory. \n",
    "  \n",
    "The **utilities** directory contains Python libraries to aid in notebook development.\n",
    "   \n",
    "\n",
    "### Terminal Commands\n",
    "\n",
    "The HydroShare Python Notebook Server runs on ubuntu Linux.  This means that users have access to most standard terminal commands.  If you wish to execute a terminal command, simply prepend an exclamation point (`!`) to the its standard name.  For example, issue the following command to list the path to the current working directory `!pwd`.\n",
    "\n",
    "\n",
    "### HydroShare Commands\n",
    "You can interact with HydroShare resources using REST web service calls.  To help you issue these REST commands, the `hs_restclient` library ([readthedocs](http://hs-restclient.readthedocs.org/en/latest/) is installed on the system and is available for you to use.  In addition, a utility library has been provided to you, `hs_utilities`, which bundles some of useful commands into easy-to-use functions. \n",
    "\n",
    "\n",
    "### Help Documentation\n",
    "Help for any Python library installed on the system can be obtained by issuing the `help` command.  For example, to see the documentation for the hs_utilites library, execute `help(hs_utilities)`.\n"
   ]
  },
  {
   "cell_type": "markdown",
   "metadata": {},
   "source": [
    "---\n",
    "\n",
    "## Import the Required Libraries \n",
    "Most notebooks that interact with HydroShare will import the `hs_utils` library.  This library contains functions for querying HydroShare resources using a REST API.\n"
   ]
  },
  {
   "cell_type": "code",
   "execution_count": 4,
   "metadata": {
    "collapsed": false
   },
   "outputs": [],
   "source": [
    "import os\n",
    "from hs_utils import hs"
   ]
  },
  {
   "cell_type": "markdown",
   "metadata": {},
   "source": [
    "## Get the HydroShare Resource Content"
   ]
  },
  {
   "cell_type": "code",
   "execution_count": 5,
   "metadata": {
    "collapsed": false
   },
   "outputs": [
    {
     "name": "stdout",
     "output_type": "stream",
     "text": [
      "                      \n"
     ]
    },
    {
     "data": {
      "text/html": [
       "<b style=\"color:green;\">Download Completed Successfully</b>"
      ],
      "text/plain": [
       "<IPython.core.display.HTML object>"
      ]
     },
     "metadata": {},
     "output_type": "display_data"
    },
    {
     "data": {
      "text/html": [
       "Downloaded content is located at: /home/jovyan/work/notebooks/data/68313c40c7ff48cd9e065ceada3c8426/68313c40c7ff48cd9e065ceada3c8426"
      ],
      "text/plain": [
       "<IPython.core.display.HTML object>"
      ]
     },
     "metadata": {},
     "output_type": "display_data"
    },
    {
     "data": {
      "text/html": [
       "<h3>Found the following content when parsing the HydroShare resource:</h3>"
      ],
      "text/plain": [
       "<IPython.core.display.HTML object>"
      ]
     },
     "metadata": {},
     "output_type": "display_data"
    },
    {
     "data": {
      "text/html": [
       "<table><th>File Key</th><th>Path Value</th><tr style=\"word-break: break-word;\"><td width=\"20%\">taudem_logan.ipynb</td><td>/home/jovyan/work/notebooks/data/68313c40c7ff48cd9e065ceada3c8426/68313c40c7ff48cd9e065ceada3c8426/data/contents/taudem_logan.ipynb</td></tr><tr style=\"word-break: break-word;\"><td width=\"20%\">logan.tif</td><td>/home/jovyan/work/notebooks/data/68313c40c7ff48cd9e065ceada3c8426/68313c40c7ff48cd9e065ceada3c8426/data/contents/logan.tif</td></tr></table>"
      ],
      "text/plain": [
       "<IPython.core.display.HTML object>"
      ]
     },
     "metadata": {},
     "output_type": "display_data"
    },
    {
     "data": {
      "text/html": [
       "<p>To access these variables issue the following command: <br> <code>   my_value = hs.content[\"key\"] </code><p>"
      ],
      "text/plain": [
       "<IPython.core.display.HTML object>"
      ]
     },
     "metadata": {},
     "output_type": "display_data"
    },
    {
     "data": {
      "text/html": [
       "<h3>Found the following notebook(s) associated with this HydroShare resource.</h3>"
      ],
      "text/plain": [
       "<IPython.core.display.HTML object>"
      ]
     },
     "metadata": {},
     "output_type": "display_data"
    },
    {
     "data": {
      "text/html": [
       "Click the link(s) below to launch in a new browser tab."
      ],
      "text/plain": [
       "<IPython.core.display.HTML object>"
      ]
     },
     "metadata": {},
     "output_type": "display_data"
    },
    {
     "data": {
      "text/html": [
       "<a href=http://129.123.9.63/user/tonycastronova/notebooks/notebooks/data/68313c40c7ff48cd9e065ceada3c8426/68313c40c7ff48cd9e065ceada3c8426/data/contents/taudem_logan.ipynb target=\"_blank\">taudem_logan.ipynb<a>"
      ],
      "text/plain": [
       "<IPython.core.display.HTML object>"
      ]
     },
     "metadata": {},
     "output_type": "display_data"
    }
   ],
   "source": [
    "# get resource content as a dictionary\n",
    "content = hs.getResourceFromHydroShare(os.environ['HS_RES_ID'])"
   ]
  },
  {
   "cell_type": "markdown",
   "metadata": {},
   "source": [
    "## Create a New HydroShare Resource"
   ]
  },
  {
   "cell_type": "code",
   "execution_count": null,
   "metadata": {
    "collapsed": false
   },
   "outputs": [],
   "source": [
    "# lets save this content as a new resource in HydroShare\n",
    "abstract = 'This is a demo of the HydroShare Python Notebook Server'\n",
    "title = 'Hello From JupyterHub'\n",
    "keywords = ['Demo', 'JupyterHub']\n",
    "rtype = os.environ['HS_RES_TYPE']  # get the resource type from the original\n",
    "files = list(hs.content.values())  # get the resource content files\n",
    "\n",
    "# create a new resource\n",
    "resource_id = hs.createHydroShareResource(abstract, \n",
    "                                          title, \n",
    "                                          derivedFromId=os.environ['HS_RES_ID'],\n",
    "                                          keywords=keywords, \n",
    "                                          resource_type=rtype, \n",
    "                                          content_files=files, \n",
    "                                          public=False)"
   ]
  },
  {
   "cell_type": "code",
   "execution_count": null,
   "metadata": {
    "collapsed": true
   },
   "outputs": [],
   "source": []
  }
 ],
 "metadata": {
  "kernelspec": {
   "display_name": "Python 3",
   "language": "python",
   "name": "python3"
  },
  "language_info": {
   "codemirror_mode": {
    "name": "ipython",
    "version": 3
   },
   "file_extension": ".py",
   "mimetype": "text/x-python",
   "name": "python",
   "nbconvert_exporter": "python",
   "pygments_lexer": "ipython3",
   "version": "3.5.2"
  },
  "widgets": {
   "state": {},
   "version": "1.1.2"
  }
 },
 "nbformat": 4,
 "nbformat_minor": 0
}
