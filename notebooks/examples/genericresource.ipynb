{
 "cells": [
  {
   "cell_type": "markdown",
   "metadata": {},
   "source": [
    "## Welcome to the HydroShare Python Notebook Server\n",
    "\n",
    "\n",
    "Welcome.  This notebook server will allow you to explore, modify, and interact with HydroShare resources using the Python programming language using Jupyter notebooks.  A Jupyter **notebook** is an enhanced computational environment that combines rich text and code execution into a single script-like container. The HydroShare Python Notebook Server aims to combine this standard notebook functionality with the HydroShare data hosting platform to provided a rich computational environment for water scientists.\n",
    "\n",
    "### Directory Space  \n",
    "\n",
    "A JupyterHub directory space has been contructed for you and consists of several directories, example notebooks, and utility libraries.  Your directory space is organized in the following manner:\n",
    "\n",
    "- Notebooks: (`the main directory space`)  \n",
    " - Data: (`storing HydroShare resource content`)\n",
    " - Documents: (`create and save custom notebooks`)\n",
    " - Examples: (`example notebooks`)\n",
    " - Utilities: (`helpful libraries`)\n",
    "\n",
    "The **data** directory is the default location where HydroShare resource content is saved and accessed from within notebooks.  This is a safe place to upload or save data that will be accessed from within your notebooks.\n",
    "  \n",
    "The **documents** directory is provided as a location for you to create and manage custom notebooks.\n",
    "  \n",
    "The **examples** contains sample notebooks.  This directory will be periodically updated with new notebooks, which unfortunately means that anything saved here may be overwritten without notice. For this reason, we recommend that you use the **documents** directory for you personal files and notebooks.  \n",
    "  \n",
    "The **utilities** directory contains Python libraries to aid in notebook development.\n",
    "   \n",
    "\n",
    "### Terminal Commands\n",
    "\n",
    "The HydroShare Python Notebook Server runs on ubuntu Linux.  This means that users have access to most standard terminal commands.  If you wish to execute a terminal command, simply prepend an exclamation point (`!`) to the its standard name.  For example, issue the following command to list the path to the current working directory `!pwd`.\n",
    "\n",
    "\n",
    "### HydroShare Commands\n",
    "You can interact with HydroShare resources using REST web service calls.  To help you issue these REST commands, the `hs_restclient` library ([readthedocs](http://hs-restclient.readthedocs.org/en/latest/) is installed on the system and is available for you to use.  In addition, a utility library has been provided to you, `hs_utilities`, which bundles some of useful commands into easy-to-use functions. \n",
    "\n",
    "\n",
    "### Help Documentation\n",
    "Help for any Python library installed on the system can be obtained by issuing the `help` command.  For example, to see the documentation for the hs_utilites library, execute `help(hs_utilities)`.\n"
   ]
  },
  {
   "cell_type": "markdown",
   "metadata": {},
   "source": [
    "---\n",
    "\n",
    "## 1. Getting Started\n",
    "To get started, lets establish a secure connection with HydroShare and retrieve the content for the resource that you launched JupyterHub with."
   ]
  },
  {
   "cell_type": "code",
   "execution_count": null,
   "metadata": {
    "collapsed": false
   },
   "outputs": [],
   "source": [
    "# import hs_utils and load environment\n",
    "import os\n",
    "from hs_utils import hs\n",
    "\n",
    "# get the data directory (this is an environment variable that is provided to you)\n",
    "data_directory = os.environ['DATA']"
   ]
  },
  {
   "cell_type": "code",
   "execution_count": null,
   "metadata": {
    "collapsed": false
   },
   "outputs": [],
   "source": [
    "# get some resource content. The resource content is returned as a dictionary\n",
    "content = hs.getResourceFromHydroShare(os.environ['HS_RES_ID'])"
   ]
  },
  {
   "cell_type": "code",
   "execution_count": null,
   "metadata": {
    "collapsed": false
   },
   "outputs": [],
   "source": [
    "# lets save this content as a new resource in HydroShare\n",
    "abstract = 'This is a demo of the HydroShare-JupyterHub Save Function'\n",
    "title = 'Hello From JupyterHub'\n",
    "keywords = ['Demo', 'JupyterHub']\n",
    "rtype = os.environ['HS_RES_TYPE']\n",
    "files = list(hs.content.values())\n",
    "resource_id = hs.createHydroShareResource(abstract, \n",
    "                                          title, \n",
    "                                          derivedFromId=os.environ['HS_RES_ID'],\n",
    "                                          keywords=keywords, \n",
    "                                          resource_type=rtype, \n",
    "                                          content_files=files, \n",
    "                                          public=False)"
   ]
  },
  {
   "cell_type": "code",
   "execution_count": null,
   "metadata": {
    "collapsed": true
   },
   "outputs": [],
   "source": []
  }
 ],
 "metadata": {
  "kernelspec": {
   "display_name": "Python 3",
   "language": "python",
   "name": "python3"
  },
  "language_info": {
   "codemirror_mode": {
    "name": "ipython",
    "version": 3
   },
   "file_extension": ".py",
   "mimetype": "text/x-python",
   "name": "python",
   "nbconvert_exporter": "python",
   "pygments_lexer": "ipython3",
   "version": "3.5.2"
  },
  "widgets": {
   "state": {},
   "version": "1.1.2"
  }
 },
 "nbformat": 4,
 "nbformat_minor": 0
}
