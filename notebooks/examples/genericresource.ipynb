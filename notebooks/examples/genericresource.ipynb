{
 "cells": [
  {
   "cell_type": "markdown",
   "metadata": {},
   "source": [
    "## Welcome to the HydroShare - Python Notebook Server\n",
    "\n",
    "You have been redirected to this page because you wish to explore, modify, and/or interact with your HydroShare resources using Python.  This notebook has been launched inside your very own userspace so that your edits can be saved for later use.  The notebook server is arranged in the following manner:\n",
    "\n",
    "- Notebooks: (`the main directory space`)\n",
    "  - Examples: (`a directory space for HydroShare related examples`)\n",
    "  - Documents: (`a directory for you to create and save custom notebooks`)\n",
    "  \n",
    "The **examples** directory will be periodically updated to provide HydroShare users new notebook examples, which unfortunately means that anything saved here may be overwritten or lost. For this reason, we recommend that you use the **Documents** directory for you personal notebooks instead of the examples directory. \n",
    "  \n",
    "The following sections outline several useful features for analysis of HydroShare resources.  Below you will find links to several notebooks that have been provided as a reference to you.  \n",
    "\n",
    "\n",
    "### Terminal Commands\n",
    "Any terminal commands that you have access to, can executed by prepending the command with and exclamation point (`!`).  For example, issue the following command to list the path to the current working directory `!pwd`.\n",
    "\n",
    "\n",
    "### HydroShare Commands\n",
    "You can interact with HydroShare resources using REST web service calls.  To help you issue these REST commands, the `hs_restclient` library ([readthedocs](http://hs-restclient.readthedocs.org/en/latest/) is installed on the system and is available for you to use.  In addition, a utility library has been provided to you, `hs_utilities`, which bundles some of useful commands into easy-to-use functions.\n",
    "\n",
    "- Accessing HydroShare Resources\n",
    "- Saving HydroShare Resources\n",
    "  - Creating a new resource\n",
    "  - Revising/Updating an existing resource\n",
    "  - Adding new content into an existing resource\n",
    "\n",
    "### JupyterHub Operations\n",
    "The `jupyter_utils` library contains useful functions that operate on the JupyterHub environment itself.  \n",
    "\n",
    "- Downloaded Content\n",
    "    - Listing \n",
    "    - Inspecting\n",
    "    - Cleaning\n",
    "\n",
    "\n",
    "### Help Documentation\n",
    "Help for any python library installed on the system can be obtained by issuing the `help` command.  For example, to see the documentation for the hs_utilites library, execute `help(hs_utilities)`.\n"
   ]
  },
  {
   "cell_type": "markdown",
   "metadata": {},
   "source": [
    "---\n",
    "\n",
    "## 1. Getting Started\n",
    "To get started, lets establish a secure connection with HydroShare and retrieve the content for the resource that you launched JupyterHub with."
   ]
  },
  {
   "cell_type": "code",
   "execution_count": null,
   "metadata": {
    "collapsed": false
   },
   "outputs": [],
   "source": [
    "# import hs_utils and load environment\n",
    "import os\n",
    "from hs_utils import hs\n",
    "hs.load_environment()\n",
    "\n",
    "# get the data directory (this is an environment variable that is provided to you)\n",
    "data_directory = os.environ['DATA']"
   ]
  },
  {
   "cell_type": "code",
   "execution_count": null,
   "metadata": {
    "collapsed": false
   },
   "outputs": [],
   "source": [
    "# create a hydroshare instance\n",
    "hs.getSecureConnection(username=os.environ['HS_USR_NAME'])"
   ]
  },
  {
   "cell_type": "code",
   "execution_count": null,
   "metadata": {
    "collapsed": false
   },
   "outputs": [],
   "source": [
    "# get some resource content. The resource content is returned as a dictionary\n",
    "content = hs.getResourceFromHydroShare(os.environ['HS_RES_ID'])"
   ]
  },
  {
   "cell_type": "code",
   "execution_count": null,
   "metadata": {
    "collapsed": false
   },
   "outputs": [],
   "source": [
    "# lets save this content as a new resource in HydroShare\n",
    "abstract = 'This is a demo of the HydroShare-JupyterHub Save Function'\n",
    "title = 'Hello From JupyterHub'\n",
    "keywords = ['Demo', 'JupyterHub']\n",
    "rtype = os.environ['HS_RES_TYPE']\n",
    "files = list(hs.content.values())\n",
    "resource_id = hs.createHydroShareResource(abstract, \n",
    "                                          title, \n",
    "                                          keywords=keywords, \n",
    "                                          resource_type=rtype, \n",
    "                                          content_files=files, \n",
    "                                          public=False)"
   ]
  },
  {
   "cell_type": "code",
   "execution_count": null,
   "metadata": {
    "collapsed": true
   },
   "outputs": [],
   "source": []
  }
 ],
 "metadata": {
  "kernelspec": {
   "display_name": "Python 3",
   "language": "python",
   "name": "python3"
  },
  "language_info": {
   "codemirror_mode": {
    "name": "ipython",
    "version": 3
   },
   "file_extension": ".py",
   "mimetype": "text/x-python",
   "name": "python",
   "nbconvert_exporter": "python",
   "pygments_lexer": "ipython3",
   "version": "3.5.1"
  },
  "widgets": {
   "state": {},
   "version": "1.1.1"
  }
 },
 "nbformat": 4,
 "nbformat_minor": 0
}
