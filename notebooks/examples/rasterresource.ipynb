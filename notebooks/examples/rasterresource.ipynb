{
 "cells": [
  {
   "cell_type": "markdown",
   "metadata": {},
   "source": [
    "# TauDEM Raster Processing Notebook\n",
    "\n",
    "This notebook demonstrates basic GIS raster processing on HydroShare Resources."
   ]
  },
  {
   "cell_type": "code",
   "execution_count": null,
   "metadata": {
    "collapsed": false
   },
   "outputs": [],
   "source": [
    "# import some libaries\n",
    "%matplotlib inline\n",
    "import os\n",
    "from hs_utils import hs\n",
    "import matplotlib.pyplot as plt\n",
    "import matplotlib.image as mpimg\n",
    "import numpy as np\n",
    "from osgeo import osr, gdal\n",
    "import subprocess\n",
    "\n",
    "# get the data directory (this is an environment variable that is provided to you)\n",
    "data_directory = os.environ['DATA']"
   ]
  },
  {
   "cell_type": "markdown",
   "metadata": {},
   "source": [
    "### Define some functions that we will use later\n",
    "\n",
    "1. **Plot_tiff** will provide some simple plotting so that we can see the results of our TauDEM operations\n",
    "2. **run** provides us an easy way to execute TauDEM tools via the terminal and prints the console output in realtime"
   ]
  },
  {
   "cell_type": "code",
   "execution_count": null,
   "metadata": {
    "collapsed": false
   },
   "outputs": [],
   "source": [
    "def plot_tiff(tiff, size=(5,5), aspect=1):\n",
    "    # change the aspect ration to stretch or compress the image\n",
    "    \n",
    "    # read the tiff using the gdal library  \n",
    "    ds = gdal.Open(tiff)\n",
    "    band = ds.GetRasterBand(1)\n",
    "    data = band.ReadAsArray()\n",
    "\n",
    "    # set all negative values (i.e. nodata) to zero so that the map is displayed properly\n",
    "    data[data<0] = 0\n",
    "\n",
    "    # create figure to hold plot (figsize=(width, height))\n",
    "    plt.figure(figsize=size)\n",
    "\n",
    "    # plot the DEM and display the results\n",
    "    plt.imshow(data, cmap='gist_earth', aspect=aspect)\n",
    "    plt.show()"
   ]
  },
  {
   "cell_type": "code",
   "execution_count": null,
   "metadata": {
    "collapsed": true
   },
   "outputs": [],
   "source": [
    "def run(cmd):\n",
    "    \n",
    "    # execute the process\n",
    "    p = subprocess.Popen(cmd, stdout=subprocess.PIPE, shell=True)\n",
    "    \n",
    "    # Grab stdout line by line as it becomes available.  This will loop until p terminates.\n",
    "    while p.poll() is None:\n",
    "        l = p.stdout.readline() # This blocks until it receives a newline.\n",
    "        print(l.strip().decode('utf-8'))\n",
    "        \n",
    "    # When the subprocess terminates there might be unconsumed output \n",
    "    # that still needs to be processed.\n",
    "    print(p.stdout.read().strip().decode('utf-8'))\n",
    "    "
   ]
  },
  {
   "cell_type": "markdown",
   "metadata": {},
   "source": [
    "### Create a connection with HydroShare\n",
    "\n",
    "This step will be replaced with OAuth soon..."
   ]
  },
  {
   "cell_type": "code",
   "execution_count": null,
   "metadata": {
    "collapsed": false
   },
   "outputs": [],
   "source": [
    "# create a hydroshare intance\n",
    "hs.getSecureConnection(username=os.environ['HS_USR_NAME'])"
   ]
  },
  {
   "cell_type": "markdown",
   "metadata": {},
   "source": [
    "### Retrieve a raster resource using its ID\n",
    "\n",
    "The raster resouce id can be found by navigating to a resource in HydroShare and selecting the ID from the URL."
   ]
  },
  {
   "cell_type": "code",
   "execution_count": null,
   "metadata": {
    "collapsed": false
   },
   "outputs": [],
   "source": [
    "# get some resource content. The resource content is returned as a dictionary\n",
    "content = hs.getResourceContent(os.environ['HS_RES_ID'])"
   ]
  },
  {
   "cell_type": "markdown",
   "metadata": {},
   "source": [
    "### Perform raster processing\n",
    "\n",
    "The following operations demonstrate how TauDEM can be used to perform basic raster processes."
   ]
  },
  {
   "cell_type": "code",
   "execution_count": null,
   "metadata": {
    "collapsed": false
   },
   "outputs": [],
   "source": [
    "# display the raw dem\n",
    "raw_dem_path = content['logan.tif']\n",
    "plot_tiff(raw_dem_path)"
   ]
  },
  {
   "cell_type": "code",
   "execution_count": null,
   "metadata": {
    "collapsed": false
   },
   "outputs": [],
   "source": [
    "# Fill the DEM Pits\n",
    "\n",
    "# set the output path for the pitremove operation\n",
    "fill = os.path.join(data_directory, 'fill.tif')\n",
    "cmd = 'pitremove -z %s -fel %s' % (raw_dem_path, fill)\n",
    "print(cmd)\n",
    "run(cmd)"
   ]
  },
  {
   "cell_type": "code",
   "execution_count": null,
   "metadata": {
    "collapsed": false
   },
   "outputs": [],
   "source": [
    "# plot the fill result\n",
    "plot_tiff(fill)"
   ]
  },
  {
   "cell_type": "code",
   "execution_count": null,
   "metadata": {
    "collapsed": false
   },
   "outputs": [],
   "source": [
    "# Calculate D8 flow direction\n",
    "\n",
    "# set the output paths for the d8flowdir operation\n",
    "fdr = os.path.join(data_directory, 'fdr.tif')  # flowdir\n",
    "sd8 = os.path.join(data_directory, 'sd8.tif')  # slope\n",
    "cmd = 'd8flowdir -fel %s -sd8 %s -p %s' % (fill, sd8, fdr)\n",
    "run(cmd)\n"
   ]
  },
  {
   "cell_type": "code",
   "execution_count": null,
   "metadata": {
    "collapsed": false
   },
   "outputs": [],
   "source": [
    "# plot the fdr result\n",
    "plot_tiff(fdr)"
   ]
  },
  {
   "cell_type": "code",
   "execution_count": null,
   "metadata": {
    "collapsed": false
   },
   "outputs": [],
   "source": [
    "# Calculate D8 contributing area\n",
    "\n",
    "# set the output paths for the aread8 operation\n",
    "ad8 = os.path.join(data_directory, 'fdr.tif')  # contributing area\n",
    "cmd = 'aread8 -p %s -ad8 %s' % (fdr, ad8)\n",
    "# cmd = 'mpiexec -n 8 aread8 -p %s -ad8 %s' % (fdr, ad8)\n",
    "run(cmd)"
   ]
  },
  {
   "cell_type": "code",
   "execution_count": null,
   "metadata": {
    "collapsed": false
   },
   "outputs": [],
   "source": [
    "# plot the contributing area result\n",
    "plot_tiff(ad8, size=(20,20))"
   ]
  },
  {
   "cell_type": "markdown",
   "metadata": {},
   "source": [
    "### Save the results back into HydroShare\n",
    "\n",
    "Using the HydroShare rest api, you can create a new resource in HydroShare from a content file."
   ]
  },
  {
   "cell_type": "code",
   "execution_count": null,
   "metadata": {
    "collapsed": false
   },
   "outputs": [],
   "source": [
    "# save this file as a new resource\n",
    "abstract = 'This is a D8 contributing area raster that was calculated using TauDEM inside a jupyter notebook'\n",
    "title = 'Logan Contributing Area'\n",
    "keywords = ('TauDEM', 'Contributing Area', 'JupyterNotebook')\n",
    "rtype = 'RasterResource'\n",
    "fpath = ad8\n",
    "resource_id = h.hs.createResource(rtype, title, resource_file=fpath, keywords=keywords, abstract=abstract)\n",
    "\n",
    "# make this resource public too\n",
    "h.hs.setAccessRules(resource_id, public=True)"
   ]
  },
  {
   "cell_type": "code",
   "execution_count": null,
   "metadata": {
    "collapsed": true
   },
   "outputs": [],
   "source": []
  }
 ],
 "metadata": {
  "kernelspec": {
   "display_name": "Python 2",
   "language": "python",
   "name": "python2"
  },
  "language_info": {
   "codemirror_mode": {
    "name": "ipython",
    "version": 2
   },
   "file_extension": ".py",
   "mimetype": "text/x-python",
   "name": "python",
   "nbconvert_exporter": "python",
   "pygments_lexer": "ipython2",
   "version": "2.7.11"
  },
  "widgets": {
   "state": {},
   "version": "1.1.1"
  }
 },
 "nbformat": 4,
 "nbformat_minor": 0
}
