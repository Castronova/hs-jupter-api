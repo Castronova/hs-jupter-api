{
 "cells": [
  {
   "cell_type": "code",
   "execution_count": null,
   "metadata": {
    "collapsed": true
   },
   "outputs": [],
   "source": [
    "%matplotlib inline\n",
    "import os\n",
    "import hs_utils\n",
    "import matplotlib.pyplot as plt\n",
    "import matplotlib.image as mpimg\n",
    "from mpl_toolkits.basemap import Basemap\n",
    "import numpy as np\n",
    "from osgeo import osr, gdal\n",
    "import subprocess\n",
    "data_directory = os.environ['DATA']"
   ]
  },
  {
   "cell_type": "code",
   "execution_count": null,
   "metadata": {
    "collapsed": false
   },
   "outputs": [],
   "source": [
    "def plot_tiff(tiff, size=(5,5), aspect=1):\n",
    "    # change the aspect ration to stretch or compress the image\n",
    "    \n",
    "    # read the tiff using the gdal library  \n",
    "    ds = gdal.Open(tiff)\n",
    "    band = ds.GetRasterBand(1)\n",
    "    data = band.ReadAsArray()\n",
    "\n",
    "    # set all negative values (i.e. nodata) to zero so that the map is displayed properly\n",
    "    data[data<0] = 0\n",
    "\n",
    "    # create figure to hold plot (figsize=(width, height))\n",
    "    plt.figure(figsize=size)\n",
    "\n",
    "    # plot the DEM and display the results\n",
    "    plt.imshow(data, cmap='gist_earth', aspect=aspect)\n",
    "    plt.show()"
   ]
  },
  {
   "cell_type": "code",
   "execution_count": null,
   "metadata": {
    "collapsed": true
   },
   "outputs": [],
   "source": [
    "def run(cmd):\n",
    "    \n",
    "    # execute the process\n",
    "    p = subprocess.Popen(cmd, stdout=subprocess.PIPE, shell=True)\n",
    "    \n",
    "    # Grab stdout line by line as it becomes available.  This will loop until p terminates.\n",
    "    while p.poll() is None:\n",
    "        l = p.stdout.readline() # This blocks until it receives a newline.\n",
    "        print(l.strip().decode('utf-8'))\n",
    "        \n",
    "    # When the subprocess terminates there might be unconsumed output \n",
    "    # that still needs to be processed.\n",
    "    print(p.stdout.read().strip().decode('utf-8'))\n",
    "    "
   ]
  },
  {
   "cell_type": "code",
   "execution_count": null,
   "metadata": {
    "collapsed": false
   },
   "outputs": [],
   "source": [
    "# create a hydroshare intance\n",
    "h = hs_utils.hydroshare()"
   ]
  },
  {
   "cell_type": "code",
   "execution_count": null,
   "metadata": {
    "collapsed": false
   },
   "outputs": [],
   "source": [
    "# login to user account (will be replaced with OAUTH soon)\n",
    "h.getSecureConnection(email = 'TonyCastronova')"
   ]
  },
  {
   "cell_type": "code",
   "execution_count": null,
   "metadata": {
    "collapsed": false
   },
   "outputs": [],
   "source": [
    "# get some resource content. The resource content is returned as a dictionary\n",
    "content = h.getResourceContent('1a43f21caa9941d6b79dd53565301175')"
   ]
  },
  {
   "cell_type": "code",
   "execution_count": null,
   "metadata": {
    "collapsed": false
   },
   "outputs": [],
   "source": [
    "# display the raw dem\n",
    "raw_dem_path = content['logan.tif']\n",
    "plot_tiff(raw_dem_path)"
   ]
  },
  {
   "cell_type": "code",
   "execution_count": null,
   "metadata": {
    "collapsed": false
   },
   "outputs": [],
   "source": [
    "# Fill the DEM Pits\n",
    "\n",
    "# set the output path for the pitremove operation\n",
    "fill = os.path.join(data_directory, 'fill.tif')\n",
    "cmd = 'pitremove -z %s -fel %s' % (raw_dem_path, fill)\n",
    "print(cmd)\n",
    "run(cmd)"
   ]
  },
  {
   "cell_type": "code",
   "execution_count": null,
   "metadata": {
    "collapsed": false
   },
   "outputs": [],
   "source": [
    "# plot the fill result\n",
    "plot_tiff(fill)"
   ]
  },
  {
   "cell_type": "code",
   "execution_count": null,
   "metadata": {
    "collapsed": false
   },
   "outputs": [],
   "source": [
    "# Calculate D8 flow direction\n",
    "\n",
    "# set the output paths for the d8flowdir operation\n",
    "fdr = os.path.join(data_directory, 'fdr.tif')  # flowdir\n",
    "sd8 = os.path.join(data_directory, 'sd8.tif')  # slope\n",
    "cmd = 'd8flowdir -fel %s -sd8 %s -p %s' % (fill, sd8, fdr)\n",
    "run(cmd)\n"
   ]
  },
  {
   "cell_type": "code",
   "execution_count": null,
   "metadata": {
    "collapsed": false
   },
   "outputs": [],
   "source": [
    "# plot the fdr result\n",
    "plot_tiff(fdr)"
   ]
  },
  {
   "cell_type": "code",
   "execution_count": null,
   "metadata": {
    "collapsed": false
   },
   "outputs": [],
   "source": [
    "# Calculate D8 contributing area\n",
    "\n",
    "# set the output paths for the aread8 operation\n",
    "ad8 = os.path.join(data_directory, 'fdr.tif')  # contributing area\n",
    "cmd = 'aread8 -p %s -ad8 %s' % (fdr, ad8)\n",
    "# cmd = 'mpiexec -n 8 aread8 -p %s -ad8 %s' % (fdr, ad8)\n",
    "run(cmd)"
   ]
  },
  {
   "cell_type": "code",
   "execution_count": null,
   "metadata": {
    "collapsed": false
   },
   "outputs": [],
   "source": [
    "# plot the contributing area result\n",
    "plot_tiff(ad8, size=(20,20))"
   ]
  },
  {
   "cell_type": "code",
   "execution_count": null,
   "metadata": {
    "collapsed": false
   },
   "outputs": [],
   "source": [
    "# Calculate Grid Network\n",
    "\n",
    "# set the output paths for the gridnet operation\n",
    "plen = os.path.join(data_directory, 'plen.tif')  # longest flow length upstream\n",
    "tlen = os.path.join(data_directory, 'tlen.tif')  # total path length upstream\n",
    "gord = os.path.join(data_directory, 'gord.tif')  # strahler order \n",
    "cmd = 'gridnet -p %s -plen %s -tlen %s -gord %s ' % (fdr, plen, tlen, gord)\n",
    "\n",
    "'''\n",
    "mpiexec -n 2 gridnet -p /home/jovyan/work/notebooks/data/fdr.tif -plen /home/jovyan/work/n\n",
    "otebooks/data/plen.tif -tlen /home/jovyan/work/notebooks/data/tlen.tif -gord /home/jovyan/work/notebooks/data/gord.tif             \n",
    "GridNet version 5.3.5                                                                                                              \n",
    "Input file /home/jovyan/work/notebooks/data/fdr.tif has projected coordinate system.                                               \n",
    "This run may take on the order of 1 minutes to complete.                                                                           \n",
    "This estimate is very approximate.                                                                                                 \n",
    "Run time is highly uncertain as it depends on the complexity of the input data                                                     \n",
    "and speed and memory of the computer. This estimate is based on our testing on                                                     \n",
    "a dual quad core Dell Xeon E5405 2.0GHz PC with 16GB RAM.                                                                          \n",
    "                                                                                                                                   \n",
    "===================================================================================                                                \n",
    "=   BAD TERMINATION OF ONE OF YOUR APPLICATION PROCESSES                                                                           \n",
    "=   PID 304 RUNNING AT cf07017c04ee                                                                                                \n",
    "=   EXIT CODE: 11                                                                                                                  \n",
    "=   CLEANING UP REMAINING PROCESSES                                                                                                \n",
    "=   YOU CAN IGNORE THE BELOW CLEANUP MESSAGES                                                                                      \n",
    "===================================================================================                                                \n",
    "YOUR APPLICATION TERMINATED WITH THE EXIT STRING: Segmentation fault (signal 11)                                                   \n",
    "This typically refers to a problem with your application.                                                                          \n",
    "Please see the FAQ page for debugging suggestions                         \n",
    "'''\n",
    "\n",
    "print(cmd)\n",
    "# run('gridnet')\n",
    "run(cmd)"
   ]
  },
  {
   "cell_type": "code",
   "execution_count": null,
   "metadata": {
    "collapsed": true
   },
   "outputs": [],
   "source": []
  }
 ],
 "metadata": {
  "kernelspec": {
   "display_name": "Python 3",
   "language": "python",
   "name": "python3"
  },
  "language_info": {
   "codemirror_mode": {
    "name": "ipython",
    "version": 3
   },
   "file_extension": ".py",
   "mimetype": "text/x-python",
   "name": "python",
   "nbconvert_exporter": "python",
   "pygments_lexer": "ipython3",
   "version": "3.5.1"
  },
  "widgets": {
   "state": {},
   "version": "1.1.1"
  }
 },
 "nbformat": 4,
 "nbformat_minor": 0
}
